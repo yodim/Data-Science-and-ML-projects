{
 "cells": [
  {
   "cell_type": "markdown",
   "id": "a9f36540",
   "metadata": {},
   "source": [
    "# Credit Card Fraud Analysis\n"
   ]
  },
  {
   "cell_type": "markdown",
   "id": "573c5aaf",
   "metadata": {},
   "source": [
    "<div>The used dataset can be found <a href=\"#\">here</a>. </div>"
   ]
  },
  {
   "cell_type": "markdown",
   "id": "3ca31f90",
   "metadata": {},
   "source": [
    "### Let's import our needed librairies"
   ]
  },
  {
   "cell_type": "code",
   "execution_count": 1,
   "id": "eb678391",
   "metadata": {},
   "outputs": [],
   "source": [
    "# data manipulation\n",
    "import pandas as pd\n",
    "import numpy as np\n",
    "\n",
    "# visualiation\n",
    "import matplotlib.pyplot as plt\n",
    "\n",
    "# model training\n",
    "from sklearn.model_selection import train_test_split\n",
    "\n",
    "from sklearn.tree import DecisionTreeClassifier # decision Tree\n",
    "from sklearn.neighbors import KNeighborsClassifier # KNN\n",
    "from sklearn.svm import SVC # SVM\n",
    "from sklearn.linear_model import LogisticRegression # logistic regression\n",
    "\n",
    "# metrics\n",
    "from sklearn.metrics import f1_score # F1-score"
   ]
  },
  {
   "cell_type": "code",
   "execution_count": 2,
   "id": "8e2a56b3",
   "metadata": {},
   "outputs": [
    {
     "name": "stderr",
     "output_type": "stream",
     "text": [
      "H:\\Programs\\anaconda3\\lib\\site-packages\\IPython\\core\\interactiveshell.py:3444: DtypeWarning: Columns (0) have mixed types.Specify dtype option on import or set low_memory=False.\n",
      "  exec(code_obj, self.user_global_ns, self.user_ns)\n"
     ]
    },
    {
     "data": {
      "text/html": [
       "<div>\n",
       "<style scoped>\n",
       "    .dataframe tbody tr th:only-of-type {\n",
       "        vertical-align: middle;\n",
       "    }\n",
       "\n",
       "    .dataframe tbody tr th {\n",
       "        vertical-align: top;\n",
       "    }\n",
       "\n",
       "    .dataframe thead th {\n",
       "        text-align: right;\n",
       "    }\n",
       "</style>\n",
       "<table border=\"1\" class=\"dataframe\">\n",
       "  <thead>\n",
       "    <tr style=\"text-align: right;\">\n",
       "      <th></th>\n",
       "      <th>Time</th>\n",
       "      <th>V1</th>\n",
       "      <th>V2</th>\n",
       "      <th>V3</th>\n",
       "      <th>V4</th>\n",
       "      <th>V5</th>\n",
       "      <th>V6</th>\n",
       "      <th>V7</th>\n",
       "      <th>V8</th>\n",
       "      <th>V9</th>\n",
       "      <th>...</th>\n",
       "      <th>V21</th>\n",
       "      <th>V22</th>\n",
       "      <th>V23</th>\n",
       "      <th>V24</th>\n",
       "      <th>V25</th>\n",
       "      <th>V26</th>\n",
       "      <th>V27</th>\n",
       "      <th>V28</th>\n",
       "      <th>Amount</th>\n",
       "      <th>Class</th>\n",
       "    </tr>\n",
       "  </thead>\n",
       "  <tbody>\n",
       "    <tr>\n",
       "      <th>0</th>\n",
       "      <td>0</td>\n",
       "      <td>-1.359807</td>\n",
       "      <td>-0.072781</td>\n",
       "      <td>2.536347</td>\n",
       "      <td>1.378155</td>\n",
       "      <td>-0.338321</td>\n",
       "      <td>0.462388</td>\n",
       "      <td>0.239599</td>\n",
       "      <td>0.098698</td>\n",
       "      <td>0.363787</td>\n",
       "      <td>...</td>\n",
       "      <td>-0.018307</td>\n",
       "      <td>0.277838</td>\n",
       "      <td>-0.110474</td>\n",
       "      <td>0.066928</td>\n",
       "      <td>0.128539</td>\n",
       "      <td>-0.189115</td>\n",
       "      <td>0.133558</td>\n",
       "      <td>-0.021053</td>\n",
       "      <td>149.62</td>\n",
       "      <td>0</td>\n",
       "    </tr>\n",
       "    <tr>\n",
       "      <th>1</th>\n",
       "      <td>0</td>\n",
       "      <td>1.191857</td>\n",
       "      <td>0.266151</td>\n",
       "      <td>0.166480</td>\n",
       "      <td>0.448154</td>\n",
       "      <td>0.060018</td>\n",
       "      <td>-0.082361</td>\n",
       "      <td>-0.078803</td>\n",
       "      <td>0.085102</td>\n",
       "      <td>-0.255425</td>\n",
       "      <td>...</td>\n",
       "      <td>-0.225775</td>\n",
       "      <td>-0.638672</td>\n",
       "      <td>0.101288</td>\n",
       "      <td>-0.339846</td>\n",
       "      <td>0.167170</td>\n",
       "      <td>0.125895</td>\n",
       "      <td>-0.008983</td>\n",
       "      <td>0.014724</td>\n",
       "      <td>2.69</td>\n",
       "      <td>0</td>\n",
       "    </tr>\n",
       "    <tr>\n",
       "      <th>2</th>\n",
       "      <td>1</td>\n",
       "      <td>-1.358354</td>\n",
       "      <td>-1.340163</td>\n",
       "      <td>1.773209</td>\n",
       "      <td>0.379780</td>\n",
       "      <td>-0.503198</td>\n",
       "      <td>1.800499</td>\n",
       "      <td>0.791461</td>\n",
       "      <td>0.247676</td>\n",
       "      <td>-1.514654</td>\n",
       "      <td>...</td>\n",
       "      <td>0.247998</td>\n",
       "      <td>0.771679</td>\n",
       "      <td>0.909412</td>\n",
       "      <td>-0.689281</td>\n",
       "      <td>-0.327642</td>\n",
       "      <td>-0.139097</td>\n",
       "      <td>-0.055353</td>\n",
       "      <td>-0.059752</td>\n",
       "      <td>378.66</td>\n",
       "      <td>0</td>\n",
       "    </tr>\n",
       "    <tr>\n",
       "      <th>3</th>\n",
       "      <td>1</td>\n",
       "      <td>-0.966272</td>\n",
       "      <td>-0.185226</td>\n",
       "      <td>1.792993</td>\n",
       "      <td>-0.863291</td>\n",
       "      <td>-0.010309</td>\n",
       "      <td>1.247203</td>\n",
       "      <td>0.237609</td>\n",
       "      <td>0.377436</td>\n",
       "      <td>-1.387024</td>\n",
       "      <td>...</td>\n",
       "      <td>-0.108300</td>\n",
       "      <td>0.005274</td>\n",
       "      <td>-0.190321</td>\n",
       "      <td>-1.175575</td>\n",
       "      <td>0.647376</td>\n",
       "      <td>-0.221929</td>\n",
       "      <td>0.062723</td>\n",
       "      <td>0.061458</td>\n",
       "      <td>123.50</td>\n",
       "      <td>0</td>\n",
       "    </tr>\n",
       "    <tr>\n",
       "      <th>4</th>\n",
       "      <td>2</td>\n",
       "      <td>-1.158233</td>\n",
       "      <td>0.877737</td>\n",
       "      <td>1.548718</td>\n",
       "      <td>0.403034</td>\n",
       "      <td>-0.407193</td>\n",
       "      <td>0.095921</td>\n",
       "      <td>0.592941</td>\n",
       "      <td>-0.270533</td>\n",
       "      <td>0.817739</td>\n",
       "      <td>...</td>\n",
       "      <td>-0.009431</td>\n",
       "      <td>0.798278</td>\n",
       "      <td>-0.137458</td>\n",
       "      <td>0.141267</td>\n",
       "      <td>-0.206010</td>\n",
       "      <td>0.502292</td>\n",
       "      <td>0.219422</td>\n",
       "      <td>0.215153</td>\n",
       "      <td>69.99</td>\n",
       "      <td>0</td>\n",
       "    </tr>\n",
       "    <tr>\n",
       "      <th>...</th>\n",
       "      <td>...</td>\n",
       "      <td>...</td>\n",
       "      <td>...</td>\n",
       "      <td>...</td>\n",
       "      <td>...</td>\n",
       "      <td>...</td>\n",
       "      <td>...</td>\n",
       "      <td>...</td>\n",
       "      <td>...</td>\n",
       "      <td>...</td>\n",
       "      <td>...</td>\n",
       "      <td>...</td>\n",
       "      <td>...</td>\n",
       "      <td>...</td>\n",
       "      <td>...</td>\n",
       "      <td>...</td>\n",
       "      <td>...</td>\n",
       "      <td>...</td>\n",
       "      <td>...</td>\n",
       "      <td>...</td>\n",
       "      <td>...</td>\n",
       "    </tr>\n",
       "    <tr>\n",
       "      <th>284802</th>\n",
       "      <td>172786</td>\n",
       "      <td>-11.881118</td>\n",
       "      <td>10.071785</td>\n",
       "      <td>-9.834783</td>\n",
       "      <td>-2.066656</td>\n",
       "      <td>-5.364473</td>\n",
       "      <td>-2.606837</td>\n",
       "      <td>-4.918215</td>\n",
       "      <td>7.305334</td>\n",
       "      <td>1.914428</td>\n",
       "      <td>...</td>\n",
       "      <td>0.213454</td>\n",
       "      <td>0.111864</td>\n",
       "      <td>1.014480</td>\n",
       "      <td>-0.509348</td>\n",
       "      <td>1.436807</td>\n",
       "      <td>0.250034</td>\n",
       "      <td>0.943651</td>\n",
       "      <td>0.823731</td>\n",
       "      <td>0.77</td>\n",
       "      <td>0</td>\n",
       "    </tr>\n",
       "    <tr>\n",
       "      <th>284803</th>\n",
       "      <td>172787</td>\n",
       "      <td>-0.732789</td>\n",
       "      <td>-0.055080</td>\n",
       "      <td>2.035030</td>\n",
       "      <td>-0.738589</td>\n",
       "      <td>0.868229</td>\n",
       "      <td>1.058415</td>\n",
       "      <td>0.024330</td>\n",
       "      <td>0.294869</td>\n",
       "      <td>0.584800</td>\n",
       "      <td>...</td>\n",
       "      <td>0.214205</td>\n",
       "      <td>0.924384</td>\n",
       "      <td>0.012463</td>\n",
       "      <td>-1.016226</td>\n",
       "      <td>-0.606624</td>\n",
       "      <td>-0.395255</td>\n",
       "      <td>0.068472</td>\n",
       "      <td>-0.053527</td>\n",
       "      <td>24.79</td>\n",
       "      <td>0</td>\n",
       "    </tr>\n",
       "    <tr>\n",
       "      <th>284804</th>\n",
       "      <td>172788</td>\n",
       "      <td>1.919565</td>\n",
       "      <td>-0.301254</td>\n",
       "      <td>-3.249640</td>\n",
       "      <td>-0.557828</td>\n",
       "      <td>2.630515</td>\n",
       "      <td>3.031260</td>\n",
       "      <td>-0.296827</td>\n",
       "      <td>0.708417</td>\n",
       "      <td>0.432454</td>\n",
       "      <td>...</td>\n",
       "      <td>0.232045</td>\n",
       "      <td>0.578229</td>\n",
       "      <td>-0.037501</td>\n",
       "      <td>0.640134</td>\n",
       "      <td>0.265745</td>\n",
       "      <td>-0.087371</td>\n",
       "      <td>0.004455</td>\n",
       "      <td>-0.026561</td>\n",
       "      <td>67.88</td>\n",
       "      <td>0</td>\n",
       "    </tr>\n",
       "    <tr>\n",
       "      <th>284805</th>\n",
       "      <td>172788</td>\n",
       "      <td>-0.240440</td>\n",
       "      <td>0.530483</td>\n",
       "      <td>0.702510</td>\n",
       "      <td>0.689799</td>\n",
       "      <td>-0.377961</td>\n",
       "      <td>0.623708</td>\n",
       "      <td>-0.686180</td>\n",
       "      <td>0.679145</td>\n",
       "      <td>0.392087</td>\n",
       "      <td>...</td>\n",
       "      <td>0.265245</td>\n",
       "      <td>0.800049</td>\n",
       "      <td>-0.163298</td>\n",
       "      <td>0.123205</td>\n",
       "      <td>-0.569159</td>\n",
       "      <td>0.546668</td>\n",
       "      <td>0.108821</td>\n",
       "      <td>0.104533</td>\n",
       "      <td>10.00</td>\n",
       "      <td>0</td>\n",
       "    </tr>\n",
       "    <tr>\n",
       "      <th>284806</th>\n",
       "      <td>172792</td>\n",
       "      <td>-0.533413</td>\n",
       "      <td>-0.189733</td>\n",
       "      <td>0.703337</td>\n",
       "      <td>-0.506271</td>\n",
       "      <td>-0.012546</td>\n",
       "      <td>-0.649617</td>\n",
       "      <td>1.577006</td>\n",
       "      <td>-0.414650</td>\n",
       "      <td>0.486180</td>\n",
       "      <td>...</td>\n",
       "      <td>0.261057</td>\n",
       "      <td>0.643078</td>\n",
       "      <td>0.376777</td>\n",
       "      <td>0.008797</td>\n",
       "      <td>-0.473649</td>\n",
       "      <td>-0.818267</td>\n",
       "      <td>-0.002415</td>\n",
       "      <td>0.013649</td>\n",
       "      <td>217.00</td>\n",
       "      <td>0</td>\n",
       "    </tr>\n",
       "  </tbody>\n",
       "</table>\n",
       "<p>284807 rows × 31 columns</p>\n",
       "</div>"
      ],
      "text/plain": [
       "          Time         V1         V2        V3        V4        V5        V6  \\\n",
       "0            0  -1.359807  -0.072781  2.536347  1.378155 -0.338321  0.462388   \n",
       "1            0   1.191857   0.266151  0.166480  0.448154  0.060018 -0.082361   \n",
       "2            1  -1.358354  -1.340163  1.773209  0.379780 -0.503198  1.800499   \n",
       "3            1  -0.966272  -0.185226  1.792993 -0.863291 -0.010309  1.247203   \n",
       "4            2  -1.158233   0.877737  1.548718  0.403034 -0.407193  0.095921   \n",
       "...        ...        ...        ...       ...       ...       ...       ...   \n",
       "284802  172786 -11.881118  10.071785 -9.834783 -2.066656 -5.364473 -2.606837   \n",
       "284803  172787  -0.732789  -0.055080  2.035030 -0.738589  0.868229  1.058415   \n",
       "284804  172788   1.919565  -0.301254 -3.249640 -0.557828  2.630515  3.031260   \n",
       "284805  172788  -0.240440   0.530483  0.702510  0.689799 -0.377961  0.623708   \n",
       "284806  172792  -0.533413  -0.189733  0.703337 -0.506271 -0.012546 -0.649617   \n",
       "\n",
       "              V7        V8        V9  ...       V21       V22       V23  \\\n",
       "0       0.239599  0.098698  0.363787  ... -0.018307  0.277838 -0.110474   \n",
       "1      -0.078803  0.085102 -0.255425  ... -0.225775 -0.638672  0.101288   \n",
       "2       0.791461  0.247676 -1.514654  ...  0.247998  0.771679  0.909412   \n",
       "3       0.237609  0.377436 -1.387024  ... -0.108300  0.005274 -0.190321   \n",
       "4       0.592941 -0.270533  0.817739  ... -0.009431  0.798278 -0.137458   \n",
       "...          ...       ...       ...  ...       ...       ...       ...   \n",
       "284802 -4.918215  7.305334  1.914428  ...  0.213454  0.111864  1.014480   \n",
       "284803  0.024330  0.294869  0.584800  ...  0.214205  0.924384  0.012463   \n",
       "284804 -0.296827  0.708417  0.432454  ...  0.232045  0.578229 -0.037501   \n",
       "284805 -0.686180  0.679145  0.392087  ...  0.265245  0.800049 -0.163298   \n",
       "284806  1.577006 -0.414650  0.486180  ...  0.261057  0.643078  0.376777   \n",
       "\n",
       "             V24       V25       V26       V27       V28  Amount  Class  \n",
       "0       0.066928  0.128539 -0.189115  0.133558 -0.021053  149.62      0  \n",
       "1      -0.339846  0.167170  0.125895 -0.008983  0.014724    2.69      0  \n",
       "2      -0.689281 -0.327642 -0.139097 -0.055353 -0.059752  378.66      0  \n",
       "3      -1.175575  0.647376 -0.221929  0.062723  0.061458  123.50      0  \n",
       "4       0.141267 -0.206010  0.502292  0.219422  0.215153   69.99      0  \n",
       "...          ...       ...       ...       ...       ...     ...    ...  \n",
       "284802 -0.509348  1.436807  0.250034  0.943651  0.823731    0.77      0  \n",
       "284803 -1.016226 -0.606624 -0.395255  0.068472 -0.053527   24.79      0  \n",
       "284804  0.640134  0.265745 -0.087371  0.004455 -0.026561   67.88      0  \n",
       "284805  0.123205 -0.569159  0.546668  0.108821  0.104533   10.00      0  \n",
       "284806  0.008797 -0.473649 -0.818267 -0.002415  0.013649  217.00      0  \n",
       "\n",
       "[284807 rows x 31 columns]"
      ]
     },
     "execution_count": 2,
     "metadata": {},
     "output_type": "execute_result"
    }
   ],
   "source": [
    "# reading our csv file after converting the comma-separated-text into columns\n",
    "df = pd.read_csv('creditcardFraud.csv', sep=\";\")\n",
    "df"
   ]
  },
  {
   "cell_type": "code",
   "execution_count": 20,
   "id": "a4455419",
   "metadata": {
    "scrolled": true
   },
   "outputs": [
    {
     "name": "stdout",
     "output_type": "stream",
     "text": [
      "<class 'pandas.core.frame.DataFrame'>\n",
      "RangeIndex: 284807 entries, 0 to 284806\n",
      "Data columns (total 31 columns):\n",
      " #   Column  Non-Null Count   Dtype  \n",
      "---  ------  --------------   -----  \n",
      " 0   Time    284807 non-null  object \n",
      " 1   V1      284807 non-null  float64\n",
      " 2   V2      284807 non-null  float64\n",
      " 3   V3      284807 non-null  float64\n",
      " 4   V4      284807 non-null  float64\n",
      " 5   V5      284807 non-null  float64\n",
      " 6   V6      284807 non-null  float64\n",
      " 7   V7      284807 non-null  float64\n",
      " 8   V8      284807 non-null  float64\n",
      " 9   V9      284807 non-null  float64\n",
      " 10  V10     284807 non-null  float64\n",
      " 11  V11     284807 non-null  float64\n",
      " 12  V12     284807 non-null  float64\n",
      " 13  V13     284807 non-null  float64\n",
      " 14  V14     284807 non-null  float64\n",
      " 15  V15     284807 non-null  float64\n",
      " 16  V16     284807 non-null  float64\n",
      " 17  V17     284807 non-null  float64\n",
      " 18  V18     284807 non-null  float64\n",
      " 19  V19     284807 non-null  float64\n",
      " 20  V20     284807 non-null  float64\n",
      " 21  V21     284807 non-null  float64\n",
      " 22  V22     284807 non-null  float64\n",
      " 23  V23     284807 non-null  float64\n",
      " 24  V24     284807 non-null  float64\n",
      " 25  V25     284807 non-null  float64\n",
      " 26  V26     284807 non-null  float64\n",
      " 27  V27     284807 non-null  float64\n",
      " 28  V28     284807 non-null  float64\n",
      " 29  Amount  284807 non-null  float64\n",
      " 30  Class   284807 non-null  int64  \n",
      "dtypes: float64(29), int64(1), object(1)\n",
      "memory usage: 67.4+ MB\n"
     ]
    }
   ],
   "source": [
    "df.info()"
   ]
  },
  {
   "cell_type": "code",
   "execution_count": 4,
   "id": "6efd9b50",
   "metadata": {
    "scrolled": true
   },
   "outputs": [
    {
     "data": {
      "text/plain": [
       "0    284315\n",
       "1       492\n",
       "Name: Class, dtype: int64"
      ]
     },
     "execution_count": 4,
     "metadata": {},
     "output_type": "execute_result"
    }
   ],
   "source": [
    "# counting the occurrences of the 2 classes fraud and no fraud\n",
    "occ_list = df['Class'].value_counts()\n",
    "occ_list"
   ]
  },
  {
   "cell_type": "markdown",
   "id": "357925ba",
   "metadata": {},
   "source": [
    "we notice that the number of non-fraud class is much much bigger than the fraud one. Claculating their ratio we obtain :"
   ]
  },
  {
   "cell_type": "code",
   "execution_count": 7,
   "id": "af88e13f",
   "metadata": {},
   "outputs": [
    {
     "name": "stdout",
     "output_type": "stream",
     "text": [
      "The ratio of non frauds :  0.9982725143693799\n",
      "The ratio of frauds :  0.001727485630620034\n"
     ]
    }
   ],
   "source": [
    "print(\"The ratio of non frauds : \",occ_list[0]/len(df))\n",
    "print(\"The ratio of frauds : \",occ_list[1]/len(df))"
   ]
  },
  {
   "cell_type": "markdown",
   "id": "402f9d7a",
   "metadata": {},
   "source": [
    "As we see, the % of the frauds is much much much lower than the non-frauds. This would be a problem while training our data with a ML algorithm, as our algorithm will learn so little from the fraud cases.\n",
    "To resolve this problem, there are 3 resampling methods that can adjust our dataset to make it balanced.\n",
    "* Random Undersampling\n",
    "* Random Oversampling\n",
    "* SMOTE (Synthetic Minority Oversampling Technique)\n",
    "\n",
    "In our case **SMOTE** is the best method to use as it synthesizes new examples for the minority class."
   ]
  },
  {
   "cell_type": "markdown",
   "id": "1afa0b3e",
   "metadata": {},
   "source": [
    "### Now we define our x and y columns"
   ]
  },
  {
   "cell_type": "code",
   "execution_count": 3,
   "id": "6317ff32",
   "metadata": {},
   "outputs": [],
   "source": [
    "x = df.drop(columns=['Class', 'Time'])\n",
    "y = df['Class']"
   ]
  },
  {
   "cell_type": "markdown",
   "id": "44ee03e6",
   "metadata": {},
   "source": [
    "### Data visualization"
   ]
  },
  {
   "cell_type": "code",
   "execution_count": 17,
   "id": "38e536fb",
   "metadata": {},
   "outputs": [],
   "source": [
    "def plot_scatter(x: np.array,y: np.array):\n",
    "    plt.scatter(x[y == 0, 0], x[y == 0, 1], label=\"Class #0\", alpha=0.5, linewidth=0.15)\n",
    "    plt.scatter(x[y == 1, 0], x[y == 1, 1], label=\"Class #1\", alpha=0.5, linewidth=0.15, c='r')\n",
    "    plt.legend()\n",
    "    return plt.show()"
   ]
  },
  {
   "cell_type": "code",
   "execution_count": 18,
   "id": "9eeb705a",
   "metadata": {},
   "outputs": [
    {
     "data": {
      "image/png": "[encoded data removed]",
      "text/plain": [
       "<Figure size 432x288 with 1 Axes>"
      ]
     },
     "metadata": {
      "needs_background": "light"
     },
     "output_type": "display_data"
    }
   ],
   "source": [
    "plot_scatter(np.array(x),np.array(y))"
   ]
  },
  {
   "cell_type": "markdown",
   "id": "f150b253",
   "metadata": {},
   "source": [
    "Now we can clearly visualize our data and how our fraud cases are few. So let's use the SMOTE"
   ]
  },
  {
   "cell_type": "markdown",
   "id": "61908998",
   "metadata": {},
   "source": [
    "### Applying SMOTE on our dataset"
   ]
  },
  {
   "cell_type": "code",
   "execution_count": 9,
   "id": "a6559559",
   "metadata": {},
   "outputs": [],
   "source": [
    "# Define the resampling method\n",
    "from imblearn.over_sampling import SMOTE \n",
    "method = SMOTE()\n",
    "\n",
    "# Create the resampled feature set\n",
    "x_resampled, y_resampled = method.fit_resample(x, y)"
   ]
  },
  {
   "cell_type": "code",
   "execution_count": 13,
   "id": "d51fe00f",
   "metadata": {},
   "outputs": [
    {
     "data": {
      "text/plain": [
       "0    284315\n",
       "1    284315\n",
       "Name: Class, dtype: int64"
      ]
     },
     "execution_count": 13,
     "metadata": {},
     "output_type": "execute_result"
    }
   ],
   "source": [
    "# counting the occurrences of the new resampled 2 classes fraud and no fraud\n",
    "pd.value_counts(pd.Series(y_resampled))"
   ]
  },
  {
   "cell_type": "markdown",
   "id": "ebb68147",
   "metadata": {},
   "source": [
    "After applying SMOTE the number of frauds and non-frauds are now the same."
   ]
  },
  {
   "cell_type": "code",
   "execution_count": 12,
   "id": "8e5a7d3f",
   "metadata": {},
   "outputs": [
    {
     "data": {
      "image/png": "[encoded data removed]",
      "text/plain": [
       "<Figure size 432x288 with 1 Axes>"
      ]
     },
     "metadata": {
      "needs_background": "light"
     },
     "output_type": "display_data"
    }
   ],
   "source": [
    "# Plot the resampled data\n",
    "plot_scatter(np.array(x_resampled),np.array(y_resampled))"
   ]
  },
  {
   "cell_type": "markdown",
   "id": "0c4d72ef",
   "metadata": {},
   "source": [
    "Now we can see that our data is more balanced by using the **SMOTE** technique as the minority class was generated with same pattern."
   ]
  },
  {
   "cell_type": "markdown",
   "id": "2e8b8b69",
   "metadata": {},
   "source": [
    "#### Let's split our data into test set(25%) and train set(75%)"
   ]
  },
  {
   "cell_type": "code",
   "execution_count": 19,
   "id": "fa3f69a8",
   "metadata": {},
   "outputs": [],
   "source": [
    "x_train, x_test, y_train, y_test = train_test_split(x_resampled, y_resampled, test_size = 0.25, random_state=0)"
   ]
  },
  {
   "cell_type": "markdown",
   "id": "50b17b44",
   "metadata": {},
   "source": [
    "### Let's apply ML algotithms on our splited data"
   ]
  },
  {
   "cell_type": "code",
   "execution_count": 50,
   "id": "4172faa7",
   "metadata": {},
   "outputs": [],
   "source": [
    "fraudDetect_acc = []\n",
    "fraudDetect_f1 = []"
   ]
  },
  {
   "cell_type": "code",
   "execution_count": 53,
   "id": "b0ea4223",
   "metadata": {
    "scrolled": false
   },
   "outputs": [
    {
     "name": "stdout",
     "output_type": "stream",
     "text": [
      "Logistic Regression accuracy : 0.9581240591454578\n",
      "Logistic Regression f1-score : 0.9581062691950952\n"
     ]
    },
    {
     "name": "stderr",
     "output_type": "stream",
     "text": [
      "H:\\Programs\\anaconda3\\lib\\site-packages\\sklearn\\linear_model\\_logistic.py:814: ConvergenceWarning: lbfgs failed to converge (status=1):\n",
      "STOP: TOTAL NO. of ITERATIONS REACHED LIMIT.\n",
      "\n",
      "Increase the number of iterations (max_iter) or scale the data as shown in:\n",
      "    https://scikit-learn.org/stable/modules/preprocessing.html\n",
      "Please also refer to the documentation for alternative solver options:\n",
      "    https://scikit-learn.org/stable/modules/linear_model.html#logistic-regression\n",
      "  n_iter_i = _check_optimize_result(\n"
     ]
    }
   ],
   "source": [
    "# Logistic regression\n",
    "Logic = LogisticRegression()\n",
    "Logic.fit(x_train, y_train);\n",
    "logic_score = Logic.score(x_test,y_test)\n",
    "logic_f1 = f1_score(y_test, Logic.predict(x_test), average='weighted')\n",
    "fraudDetect_acc.append(logic_score)\n",
    "fraudDetect_f1.append(logic_f1)\n",
    "\n",
    "print('Logistic Regression accuracy :', logic_score)\n",
    "print('Logistic Regression f1-score :', logic_f1)"
   ]
  },
  {
   "cell_type": "code",
   "execution_count": 54,
   "id": "7fc1b375",
   "metadata": {
    "scrolled": true
   },
   "outputs": [
    {
     "name": "stdout",
     "output_type": "stream",
     "text": [
      "Decision tree accuracy :  0.9981007048495336\n",
      "Decision tree f1-score :  0.9981006988495582\n"
     ]
    }
   ],
   "source": [
    "# Decision tree\n",
    "Tree = DecisionTreeClassifier()\n",
    "Tree.fit(x_train, y_train);\n",
    "tree_score = Tree.score(x_test,y_test)\n",
    "tree_f1 = f1_score(y_test, Tree.predict(x_test), average='weighted')\n",
    "fraudDetect_acc.append(tree_score)\n",
    "fraudDetect_f1.append(tree_f1)\n",
    "\n",
    "print('Decision tree accuracy : ', tree_score)\n",
    "print('Decision tree f1-score : ', tree_f1)"
   ]
  },
  {
   "cell_type": "code",
   "execution_count": 55,
   "id": "02065cf9",
   "metadata": {
    "scrolled": false
   },
   "outputs": [
    {
     "name": "stdout",
     "output_type": "stream",
     "text": [
      "KNN accuracy :  0.9978896720550373\n",
      "KNN f1-score :  0.9978896489019753\n"
     ]
    }
   ],
   "source": [
    "# K-Nearest neighbors\n",
    "Kneigh = KNeighborsClassifier()\n",
    "Kneigh.fit(x_train, y_train)\n",
    "knn_score = Kneigh.score(x_test,y_test)\n",
    "knn_f1 = f1_score(y_test, Kneigh.predict(x_test), average='weighted')\n",
    "fraudDetect_acc.append(knn_score)\n",
    "fraudDetect_f1.append(knn_f1)\n",
    "\n",
    "print('KNN accuracy : ', knn_score)\n",
    "print('KNN f1-score : ',knn_f1)"
   ]
  },
  {
   "cell_type": "code",
   "execution_count": 56,
   "id": "af8f842d",
   "metadata": {
    "scrolled": false
   },
   "outputs": [
    {
     "name": "stdout",
     "output_type": "stream",
     "text": [
      "SVM accuracy : 0.9536923704610363\n",
      "SVM f1-score : 0.9536391043918612\n"
     ]
    }
   ],
   "source": [
    "# Support Vector Machine\n",
    "SVM = SVC()\n",
    "SVM.fit(x_train, y_train, sample_weight=None)\n",
    "svm_score = SVM.score(x_test,y_test)\n",
    "svm_f1 = f1_score(y_test, SVM.predict(x_test), average='weighted')\n",
    "fraudDetect_acc.append(svm_score)\n",
    "fraudDetect_f1.append(svm_f1)\n",
    "\n",
    "print('SVM accuracy :', svm_score)\n",
    "print('SVM f1-score :', svm_f1)"
   ]
  },
  {
   "cell_type": "markdown",
   "id": "f083c7ec",
   "metadata": {},
   "source": [
    "### Models Evaluation Summary"
   ]
  },
  {
   "cell_type": "code",
   "execution_count": 57,
   "id": "904d970c",
   "metadata": {},
   "outputs": [
    {
     "name": "stdout",
     "output_type": "stream",
     "text": [
      "              accuracy  F1 score  acc_mean\n",
      "Model                                     \n",
      "Logistic Reg  0.958124  0.958106    0.9600\n",
      "DT            0.998101  0.998101    1.0000\n",
      "KNN           0.997890  0.997890    1.0000\n",
      "SVM           0.953692  0.953639    0.9500\n",
      "avg           0.976952  0.976934    0.9775\n"
     ]
    },
    {
     "name": "stderr",
     "output_type": "stream",
     "text": [
      "C:\\Users\\asus\\AppData\\Local\\Temp/ipykernel_3704/1511489798.py:5: FutureWarning: Dropping of nuisance columns in DataFrame reductions (with 'numeric_only=None') is deprecated; in a future version this will raise TypeError.  Select only valid columns before calling the reduction.\n",
      "  accuracy_record['acc_mean'] = accuracy_record.mean(axis=1).round(2)\n"
     ]
    }
   ],
   "source": [
    "# generating our scores dataframe\n",
    "model_names = ['Logistic Reg','DT','KNN','SVM']\n",
    "accuracy_record = pd.DataFrame({'Model': model_names, 'accuracy': fraudDetect_acc, \n",
    "                                'F1 score': fraudDetect_f1})\n",
    "accuracy_record['acc_mean'] = accuracy_record.mean(axis=1).round(2)\n",
    "accuracy_record.set_index('Model', inplace=True)\n",
    "accuracy_record.loc['avg'] = accuracy_record.mean()\n",
    "\n",
    "print(accuracy_record)"
   ]
  }
 ],
 "metadata": {
  "kernelspec": {
   "display_name": "Python 3 (ipykernel)",
   "language": "python",
   "name": "python3"
  },
  "language_info": {
   "codemirror_mode": {
    "name": "ipython",
    "version": 3
   },
   "file_extension": ".py",
   "mimetype": "text/x-python",
   "name": "python",
   "nbconvert_exporter": "python",
   "pygments_lexer": "ipython3",
   "version": "3.9.7"
  }
 },
 "nbformat": 4,
 "nbformat_minor": 5
}
