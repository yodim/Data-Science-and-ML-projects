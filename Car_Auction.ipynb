{
 "cells": [
  {
   "cell_type": "markdown",
   "id": "98edbf3d",
   "metadata": {},
   "source": [
    "# Data Mining & Machine Learning : Car Auction\n"
   ]
  },
  {
   "cell_type": "markdown",
   "id": "efd98c12",
   "metadata": {},
   "source": [
    "<div>The used dataset can be found <a href=\"https://drive.google.com/file/d/1fNNhPqfZGmhzruPPxWFmQGVLQgAkPGZM/view?usp=sharing\">here</a>. </div>"
   ]
  },
  {
   "cell_type": "markdown",
   "id": "d24ec690",
   "metadata": {},
   "source": [
    "<h1>Part 1: Data Mining</h1>"
   ]
  },
  {
   "cell_type": "code",
   "execution_count": 2,
   "id": "67d267f2",
   "metadata": {},
   "outputs": [],
   "source": [
    "# importing librairies\n",
    "import pandas as pd\n",
    "import matplotlib.pyplot as plt"
   ]
  },
  {
   "cell_type": "markdown",
   "id": "5903526c",
   "metadata": {},
   "source": [
    "#### Let's get to know our dataset"
   ]
  },
  {
   "cell_type": "code",
   "execution_count": 3,
   "id": "39443d8f",
   "metadata": {},
   "outputs": [
    {
     "data": {
      "text/html": [
       "<div>\n",
       "<style scoped>\n",
       "    .dataframe tbody tr th:only-of-type {\n",
       "        vertical-align: middle;\n",
       "    }\n",
       "\n",
       "    .dataframe tbody tr th {\n",
       "        vertical-align: top;\n",
       "    }\n",
       "\n",
       "    .dataframe thead th {\n",
       "        text-align: right;\n",
       "    }\n",
       "</style>\n",
       "<table border=\"1\" class=\"dataframe\">\n",
       "  <thead>\n",
       "    <tr style=\"text-align: right;\">\n",
       "      <th></th>\n",
       "      <th>RefId</th>\n",
       "      <th>PurchDate</th>\n",
       "      <th>Auction</th>\n",
       "      <th>VehYear</th>\n",
       "      <th>VehicleAge</th>\n",
       "      <th>Make</th>\n",
       "      <th>Color</th>\n",
       "      <th>Transmission</th>\n",
       "      <th>WheelTypeID</th>\n",
       "      <th>WheelType</th>\n",
       "      <th>...</th>\n",
       "      <th>MMRAcquisitonRetailCleanPrice</th>\n",
       "      <th>MMRCurrentAuctionAveragePrice</th>\n",
       "      <th>MMRCurrentAuctionCleanPrice</th>\n",
       "      <th>MMRCurrentRetailAveragePrice</th>\n",
       "      <th>MMRCurrentRetailCleanPrice</th>\n",
       "      <th>VNZIP1</th>\n",
       "      <th>VNST</th>\n",
       "      <th>WarrantyCost</th>\n",
       "      <th>VehBCost</th>\n",
       "      <th>IsBadBuy</th>\n",
       "    </tr>\n",
       "  </thead>\n",
       "  <tbody>\n",
       "    <tr>\n",
       "      <th>0</th>\n",
       "      <td>326</td>\n",
       "      <td>10/25/2010</td>\n",
       "      <td>ADESA</td>\n",
       "      <td>2008</td>\n",
       "      <td>2</td>\n",
       "      <td>KIA</td>\n",
       "      <td>BLUE</td>\n",
       "      <td>AUTO</td>\n",
       "      <td>2.0</td>\n",
       "      <td>Covers</td>\n",
       "      <td>...</td>\n",
       "      <td>10805.0</td>\n",
       "      <td>6628.0</td>\n",
       "      <td>7535.0</td>\n",
       "      <td>9605.0</td>\n",
       "      <td>10650.0</td>\n",
       "      <td>33619</td>\n",
       "      <td>FL</td>\n",
       "      <td>533</td>\n",
       "      <td>6100.0</td>\n",
       "      <td>1</td>\n",
       "    </tr>\n",
       "    <tr>\n",
       "      <th>1</th>\n",
       "      <td>42991</td>\n",
       "      <td>5/27/2009</td>\n",
       "      <td>MANHEIM</td>\n",
       "      <td>2006</td>\n",
       "      <td>3</td>\n",
       "      <td>DODGE</td>\n",
       "      <td>SILVER</td>\n",
       "      <td>AUTO</td>\n",
       "      <td>2.0</td>\n",
       "      <td>Covers</td>\n",
       "      <td>...</td>\n",
       "      <td>7478.0</td>\n",
       "      <td>5480.0</td>\n",
       "      <td>6461.0</td>\n",
       "      <td>6418.0</td>\n",
       "      <td>7478.0</td>\n",
       "      <td>32124</td>\n",
       "      <td>FL</td>\n",
       "      <td>1630</td>\n",
       "      <td>4000.0</td>\n",
       "      <td>0</td>\n",
       "    </tr>\n",
       "    <tr>\n",
       "      <th>2</th>\n",
       "      <td>55273</td>\n",
       "      <td>3/18/2010</td>\n",
       "      <td>OTHER</td>\n",
       "      <td>2008</td>\n",
       "      <td>2</td>\n",
       "      <td>DODGE</td>\n",
       "      <td>BLACK</td>\n",
       "      <td>AUTO</td>\n",
       "      <td>2.0</td>\n",
       "      <td>Covers</td>\n",
       "      <td>...</td>\n",
       "      <td>11652.0</td>\n",
       "      <td>7497.0</td>\n",
       "      <td>8102.0</td>\n",
       "      <td>10721.0</td>\n",
       "      <td>11350.0</td>\n",
       "      <td>74135</td>\n",
       "      <td>OK</td>\n",
       "      <td>693</td>\n",
       "      <td>7500.0</td>\n",
       "      <td>0</td>\n",
       "    </tr>\n",
       "    <tr>\n",
       "      <th>3</th>\n",
       "      <td>29058</td>\n",
       "      <td>06/08/2009</td>\n",
       "      <td>OTHER</td>\n",
       "      <td>2005</td>\n",
       "      <td>4</td>\n",
       "      <td>FORD</td>\n",
       "      <td>BROWN</td>\n",
       "      <td>AUTO</td>\n",
       "      <td>2.0</td>\n",
       "      <td>Covers</td>\n",
       "      <td>...</td>\n",
       "      <td>7691.0</td>\n",
       "      <td>4817.0</td>\n",
       "      <td>6658.0</td>\n",
       "      <td>5702.0</td>\n",
       "      <td>7691.0</td>\n",
       "      <td>85018</td>\n",
       "      <td>AZ</td>\n",
       "      <td>1633</td>\n",
       "      <td>4725.0</td>\n",
       "      <td>0</td>\n",
       "    </tr>\n",
       "    <tr>\n",
       "      <th>4</th>\n",
       "      <td>34991</td>\n",
       "      <td>03/04/2009</td>\n",
       "      <td>MANHEIM</td>\n",
       "      <td>2005</td>\n",
       "      <td>4</td>\n",
       "      <td>CHRYSLER</td>\n",
       "      <td>BLUE</td>\n",
       "      <td>AUTO</td>\n",
       "      <td>1.0</td>\n",
       "      <td>Alloy</td>\n",
       "      <td>...</td>\n",
       "      <td>7664.0</td>\n",
       "      <td>5370.0</td>\n",
       "      <td>6811.0</td>\n",
       "      <td>6300.0</td>\n",
       "      <td>7856.0</td>\n",
       "      <td>75236</td>\n",
       "      <td>TX</td>\n",
       "      <td>1623</td>\n",
       "      <td>5670.0</td>\n",
       "      <td>0</td>\n",
       "    </tr>\n",
       "  </tbody>\n",
       "</table>\n",
       "<p>5 rows × 25 columns</p>\n",
       "</div>"
      ],
      "text/plain": [
       "   RefId   PurchDate  Auction  VehYear  VehicleAge      Make   Color  \\\n",
       "0    326  10/25/2010    ADESA     2008           2       KIA    BLUE   \n",
       "1  42991   5/27/2009  MANHEIM     2006           3     DODGE  SILVER   \n",
       "2  55273   3/18/2010    OTHER     2008           2     DODGE   BLACK   \n",
       "3  29058  06/08/2009    OTHER     2005           4      FORD   BROWN   \n",
       "4  34991  03/04/2009  MANHEIM     2005           4  CHRYSLER    BLUE   \n",
       "\n",
       "  Transmission  WheelTypeID WheelType  ...  MMRAcquisitonRetailCleanPrice  \\\n",
       "0         AUTO          2.0    Covers  ...                        10805.0   \n",
       "1         AUTO          2.0    Covers  ...                         7478.0   \n",
       "2         AUTO          2.0    Covers  ...                        11652.0   \n",
       "3         AUTO          2.0    Covers  ...                         7691.0   \n",
       "4         AUTO          1.0     Alloy  ...                         7664.0   \n",
       "\n",
       "  MMRCurrentAuctionAveragePrice  MMRCurrentAuctionCleanPrice  \\\n",
       "0                        6628.0                       7535.0   \n",
       "1                        5480.0                       6461.0   \n",
       "2                        7497.0                       8102.0   \n",
       "3                        4817.0                       6658.0   \n",
       "4                        5370.0                       6811.0   \n",
       "\n",
       "   MMRCurrentRetailAveragePrice  MMRCurrentRetailCleanPrice  VNZIP1  VNST  \\\n",
       "0                        9605.0                     10650.0   33619    FL   \n",
       "1                        6418.0                      7478.0   32124    FL   \n",
       "2                       10721.0                     11350.0   74135    OK   \n",
       "3                        5702.0                      7691.0   85018    AZ   \n",
       "4                        6300.0                      7856.0   75236    TX   \n",
       "\n",
       "   WarrantyCost  VehBCost  IsBadBuy  \n",
       "0           533    6100.0         1  \n",
       "1          1630    4000.0         0  \n",
       "2           693    7500.0         0  \n",
       "3          1633    4725.0         0  \n",
       "4          1623    5670.0         0  \n",
       "\n",
       "[5 rows x 25 columns]"
      ]
     },
     "execution_count": 3,
     "metadata": {},
     "output_type": "execute_result"
    }
   ],
   "source": [
    "dataset = pd.read_csv('dataset_car_auction.csv', sep=';')\n",
    "dataset.head(5)"
   ]
  },
  {
   "cell_type": "code",
   "execution_count": 3,
   "id": "99227d4d",
   "metadata": {
    "scrolled": false
   },
   "outputs": [
    {
     "name": "stdout",
     "output_type": "stream",
     "text": [
      "<class 'pandas.core.frame.DataFrame'>\n",
      "RangeIndex: 58386 entries, 0 to 58385\n",
      "Data columns (total 25 columns):\n",
      " #   Column                             Non-Null Count  Dtype  \n",
      "---  ------                             --------------  -----  \n",
      " 0   RefId                              58386 non-null  int64  \n",
      " 1   PurchDate                          58386 non-null  object \n",
      " 2   Auction                            58386 non-null  object \n",
      " 3   VehYear                            58386 non-null  int64  \n",
      " 4   VehicleAge                         58386 non-null  int64  \n",
      " 5   Make                               58386 non-null  object \n",
      " 6   Color                              58379 non-null  object \n",
      " 7   Transmission                       58378 non-null  object \n",
      " 8   WheelTypeID                        55813 non-null  float64\n",
      " 9   WheelType                          55809 non-null  object \n",
      " 10  VehOdo                             58386 non-null  int64  \n",
      " 11  Size                               58382 non-null  object \n",
      " 12  MMRAcquisitionAuctionAveragePrice  58373 non-null  float64\n",
      " 13  MMRAcquisitionAuctionCleanPrice    58373 non-null  float64\n",
      " 14  MMRAcquisitionRetailAveragePrice   58373 non-null  float64\n",
      " 15  MMRAcquisitonRetailCleanPrice      58373 non-null  float64\n",
      " 16  MMRCurrentAuctionAveragePrice      58141 non-null  float64\n",
      " 17  MMRCurrentAuctionCleanPrice        58141 non-null  float64\n",
      " 18  MMRCurrentRetailAveragePrice       58141 non-null  float64\n",
      " 19  MMRCurrentRetailCleanPrice         58141 non-null  float64\n",
      " 20  VNZIP1                             58386 non-null  int64  \n",
      " 21  VNST                               58386 non-null  object \n",
      " 22  WarrantyCost                       58386 non-null  int64  \n",
      " 23  VehBCost                           58386 non-null  float64\n",
      " 24  IsBadBuy                           58386 non-null  int64  \n",
      "dtypes: float64(10), int64(7), object(8)\n",
      "memory usage: 11.1+ MB\n"
     ]
    }
   ],
   "source": [
    "dataset.info()"
   ]
  },
  {
   "cell_type": "code",
   "execution_count": 4,
   "id": "71cefb74",
   "metadata": {},
   "outputs": [
    {
     "data": {
      "text/plain": [
       "(58386, 25)"
      ]
     },
     "execution_count": 4,
     "metadata": {},
     "output_type": "execute_result"
    }
   ],
   "source": [
    "dataset.shape"
   ]
  },
  {
   "cell_type": "code",
   "execution_count": 5,
   "id": "9f9cb900",
   "metadata": {
    "scrolled": true
   },
   "outputs": [
    {
     "data": {
      "text/html": [
       "<div>\n",
       "<style scoped>\n",
       "    .dataframe tbody tr th:only-of-type {\n",
       "        vertical-align: middle;\n",
       "    }\n",
       "\n",
       "    .dataframe tbody tr th {\n",
       "        vertical-align: top;\n",
       "    }\n",
       "\n",
       "    .dataframe thead th {\n",
       "        text-align: right;\n",
       "    }\n",
       "</style>\n",
       "<table border=\"1\" class=\"dataframe\">\n",
       "  <thead>\n",
       "    <tr style=\"text-align: right;\">\n",
       "      <th></th>\n",
       "      <th>RefId</th>\n",
       "      <th>VehYear</th>\n",
       "      <th>VehicleAge</th>\n",
       "      <th>WheelTypeID</th>\n",
       "      <th>VehOdo</th>\n",
       "      <th>MMRAcquisitionAuctionAveragePrice</th>\n",
       "      <th>MMRAcquisitionAuctionCleanPrice</th>\n",
       "      <th>MMRAcquisitionRetailAveragePrice</th>\n",
       "      <th>MMRAcquisitonRetailCleanPrice</th>\n",
       "      <th>MMRCurrentAuctionAveragePrice</th>\n",
       "      <th>MMRCurrentAuctionCleanPrice</th>\n",
       "      <th>MMRCurrentRetailAveragePrice</th>\n",
       "      <th>MMRCurrentRetailCleanPrice</th>\n",
       "      <th>VNZIP1</th>\n",
       "      <th>WarrantyCost</th>\n",
       "      <th>VehBCost</th>\n",
       "      <th>IsBadBuy</th>\n",
       "    </tr>\n",
       "  </thead>\n",
       "  <tbody>\n",
       "    <tr>\n",
       "      <th>count</th>\n",
       "      <td>58386.000000</td>\n",
       "      <td>58386.000000</td>\n",
       "      <td>58386.000000</td>\n",
       "      <td>55813.000000</td>\n",
       "      <td>58386.000000</td>\n",
       "      <td>58373.000000</td>\n",
       "      <td>58373.000000</td>\n",
       "      <td>58373.000000</td>\n",
       "      <td>58373.000000</td>\n",
       "      <td>58141.000000</td>\n",
       "      <td>58141.000000</td>\n",
       "      <td>58141.000000</td>\n",
       "      <td>58141.000000</td>\n",
       "      <td>58386.000000</td>\n",
       "      <td>58386.000000</td>\n",
       "      <td>58386.000000</td>\n",
       "      <td>58386.000000</td>\n",
       "    </tr>\n",
       "    <tr>\n",
       "      <th>mean</th>\n",
       "      <td>36567.888449</td>\n",
       "      <td>2005.344637</td>\n",
       "      <td>4.174956</td>\n",
       "      <td>1.495566</td>\n",
       "      <td>71478.090518</td>\n",
       "      <td>6128.127953</td>\n",
       "      <td>7372.912699</td>\n",
       "      <td>8497.288558</td>\n",
       "      <td>9851.768061</td>\n",
       "      <td>6131.666655</td>\n",
       "      <td>7389.958652</td>\n",
       "      <td>8776.065118</td>\n",
       "      <td>10145.227034</td>\n",
       "      <td>58125.258195</td>\n",
       "      <td>1276.105042</td>\n",
       "      <td>6730.008335</td>\n",
       "      <td>0.123454</td>\n",
       "    </tr>\n",
       "    <tr>\n",
       "      <th>std</th>\n",
       "      <td>21092.254801</td>\n",
       "      <td>1.733307</td>\n",
       "      <td>1.713833</td>\n",
       "      <td>0.520802</td>\n",
       "      <td>14591.224550</td>\n",
       "      <td>2456.632611</td>\n",
       "      <td>2715.506462</td>\n",
       "      <td>3151.106237</td>\n",
       "      <td>3378.839613</td>\n",
       "      <td>2432.171539</td>\n",
       "      <td>2682.310828</td>\n",
       "      <td>3086.373733</td>\n",
       "      <td>3304.637060</td>\n",
       "      <td>26146.806098</td>\n",
       "      <td>598.885423</td>\n",
       "      <td>1762.075265</td>\n",
       "      <td>0.328961</td>\n",
       "    </tr>\n",
       "    <tr>\n",
       "      <th>min</th>\n",
       "      <td>1.000000</td>\n",
       "      <td>2001.000000</td>\n",
       "      <td>0.000000</td>\n",
       "      <td>0.000000</td>\n",
       "      <td>4825.000000</td>\n",
       "      <td>0.000000</td>\n",
       "      <td>0.000000</td>\n",
       "      <td>0.000000</td>\n",
       "      <td>0.000000</td>\n",
       "      <td>0.000000</td>\n",
       "      <td>0.000000</td>\n",
       "      <td>0.000000</td>\n",
       "      <td>0.000000</td>\n",
       "      <td>2764.000000</td>\n",
       "      <td>462.000000</td>\n",
       "      <td>1.000000</td>\n",
       "      <td>0.000000</td>\n",
       "    </tr>\n",
       "    <tr>\n",
       "      <th>25%</th>\n",
       "      <td>18270.250000</td>\n",
       "      <td>2004.000000</td>\n",
       "      <td>3.000000</td>\n",
       "      <td>1.000000</td>\n",
       "      <td>61785.000000</td>\n",
       "      <td>4273.000000</td>\n",
       "      <td>5409.000000</td>\n",
       "      <td>6279.000000</td>\n",
       "      <td>7501.000000</td>\n",
       "      <td>4275.000000</td>\n",
       "      <td>5415.000000</td>\n",
       "      <td>6538.000000</td>\n",
       "      <td>7788.000000</td>\n",
       "      <td>32124.000000</td>\n",
       "      <td>837.000000</td>\n",
       "      <td>5430.000000</td>\n",
       "      <td>0.000000</td>\n",
       "    </tr>\n",
       "    <tr>\n",
       "      <th>50%</th>\n",
       "      <td>36608.500000</td>\n",
       "      <td>2005.000000</td>\n",
       "      <td>4.000000</td>\n",
       "      <td>1.000000</td>\n",
       "      <td>73359.000000</td>\n",
       "      <td>6097.000000</td>\n",
       "      <td>7308.000000</td>\n",
       "      <td>8448.000000</td>\n",
       "      <td>9798.000000</td>\n",
       "      <td>6063.000000</td>\n",
       "      <td>7311.000000</td>\n",
       "      <td>8733.000000</td>\n",
       "      <td>10103.000000</td>\n",
       "      <td>74135.000000</td>\n",
       "      <td>1155.000000</td>\n",
       "      <td>6700.000000</td>\n",
       "      <td>0.000000</td>\n",
       "    </tr>\n",
       "    <tr>\n",
       "      <th>75%</th>\n",
       "      <td>54811.500000</td>\n",
       "      <td>2007.000000</td>\n",
       "      <td>5.000000</td>\n",
       "      <td>2.000000</td>\n",
       "      <td>82427.000000</td>\n",
       "      <td>7765.000000</td>\n",
       "      <td>9017.000000</td>\n",
       "      <td>10652.000000</td>\n",
       "      <td>12084.000000</td>\n",
       "      <td>7737.000000</td>\n",
       "      <td>9014.000000</td>\n",
       "      <td>10910.000000</td>\n",
       "      <td>12309.000000</td>\n",
       "      <td>80022.000000</td>\n",
       "      <td>1623.000000</td>\n",
       "      <td>7900.000000</td>\n",
       "      <td>0.000000</td>\n",
       "    </tr>\n",
       "    <tr>\n",
       "      <th>max</th>\n",
       "      <td>73014.000000</td>\n",
       "      <td>2010.000000</td>\n",
       "      <td>9.000000</td>\n",
       "      <td>3.000000</td>\n",
       "      <td>115717.000000</td>\n",
       "      <td>35722.000000</td>\n",
       "      <td>36859.000000</td>\n",
       "      <td>39080.000000</td>\n",
       "      <td>41482.000000</td>\n",
       "      <td>35722.000000</td>\n",
       "      <td>36859.000000</td>\n",
       "      <td>39080.000000</td>\n",
       "      <td>41062.000000</td>\n",
       "      <td>99224.000000</td>\n",
       "      <td>7498.000000</td>\n",
       "      <td>36485.000000</td>\n",
       "      <td>1.000000</td>\n",
       "    </tr>\n",
       "  </tbody>\n",
       "</table>\n",
       "</div>"
      ],
      "text/plain": [
       "              RefId       VehYear    VehicleAge   WheelTypeID         VehOdo  \\\n",
       "count  58386.000000  58386.000000  58386.000000  55813.000000   58386.000000   \n",
       "mean   36567.888449   2005.344637      4.174956      1.495566   71478.090518   \n",
       "std    21092.254801      1.733307      1.713833      0.520802   14591.224550   \n",
       "min        1.000000   2001.000000      0.000000      0.000000    4825.000000   \n",
       "25%    18270.250000   2004.000000      3.000000      1.000000   61785.000000   \n",
       "50%    36608.500000   2005.000000      4.000000      1.000000   73359.000000   \n",
       "75%    54811.500000   2007.000000      5.000000      2.000000   82427.000000   \n",
       "max    73014.000000   2010.000000      9.000000      3.000000  115717.000000   \n",
       "\n",
       "       MMRAcquisitionAuctionAveragePrice  MMRAcquisitionAuctionCleanPrice  \\\n",
       "count                       58373.000000                     58373.000000   \n",
       "mean                         6128.127953                      7372.912699   \n",
       "std                          2456.632611                      2715.506462   \n",
       "min                             0.000000                         0.000000   \n",
       "25%                          4273.000000                      5409.000000   \n",
       "50%                          6097.000000                      7308.000000   \n",
       "75%                          7765.000000                      9017.000000   \n",
       "max                         35722.000000                     36859.000000   \n",
       "\n",
       "       MMRAcquisitionRetailAveragePrice  MMRAcquisitonRetailCleanPrice  \\\n",
       "count                      58373.000000                   58373.000000   \n",
       "mean                        8497.288558                    9851.768061   \n",
       "std                         3151.106237                    3378.839613   \n",
       "min                            0.000000                       0.000000   \n",
       "25%                         6279.000000                    7501.000000   \n",
       "50%                         8448.000000                    9798.000000   \n",
       "75%                        10652.000000                   12084.000000   \n",
       "max                        39080.000000                   41482.000000   \n",
       "\n",
       "       MMRCurrentAuctionAveragePrice  MMRCurrentAuctionCleanPrice  \\\n",
       "count                   58141.000000                 58141.000000   \n",
       "mean                     6131.666655                  7389.958652   \n",
       "std                      2432.171539                  2682.310828   \n",
       "min                         0.000000                     0.000000   \n",
       "25%                      4275.000000                  5415.000000   \n",
       "50%                      6063.000000                  7311.000000   \n",
       "75%                      7737.000000                  9014.000000   \n",
       "max                     35722.000000                 36859.000000   \n",
       "\n",
       "       MMRCurrentRetailAveragePrice  MMRCurrentRetailCleanPrice        VNZIP1  \\\n",
       "count                  58141.000000                58141.000000  58386.000000   \n",
       "mean                    8776.065118                10145.227034  58125.258195   \n",
       "std                     3086.373733                 3304.637060  26146.806098   \n",
       "min                        0.000000                    0.000000   2764.000000   \n",
       "25%                     6538.000000                 7788.000000  32124.000000   \n",
       "50%                     8733.000000                10103.000000  74135.000000   \n",
       "75%                    10910.000000                12309.000000  80022.000000   \n",
       "max                    39080.000000                41062.000000  99224.000000   \n",
       "\n",
       "       WarrantyCost      VehBCost      IsBadBuy  \n",
       "count  58386.000000  58386.000000  58386.000000  \n",
       "mean    1276.105042   6730.008335      0.123454  \n",
       "std      598.885423   1762.075265      0.328961  \n",
       "min      462.000000      1.000000      0.000000  \n",
       "25%      837.000000   5430.000000      0.000000  \n",
       "50%     1155.000000   6700.000000      0.000000  \n",
       "75%     1623.000000   7900.000000      0.000000  \n",
       "max     7498.000000  36485.000000      1.000000  "
      ]
     },
     "execution_count": 5,
     "metadata": {},
     "output_type": "execute_result"
    }
   ],
   "source": [
    "dataset.describe()"
   ]
  },
  {
   "cell_type": "markdown",
   "id": "f7fea8b4",
   "metadata": {},
   "source": [
    "<h2>1. Data visualization and exploration </h2>"
   ]
  },
  {
   "cell_type": "code",
   "execution_count": 6,
   "id": "1208a166",
   "metadata": {
    "scrolled": false
   },
   "outputs": [
    {
     "data": {
      "image/png": "[encoded data removed]",
      "text/plain": [
       "<Figure size 432x288 with 1 Axes>"
      ]
     },
     "metadata": {
      "needs_background": "light"
     },
     "output_type": "display_data"
    }
   ],
   "source": [
    "plt.hist(dataset.VehicleAge,\n",
    "        bins=10,\n",
    "        facecolor=\"#31a8ff\",\n",
    "       edgecolor=\"white\")\n",
    "plt.xlabel(\"Age\")\n",
    "plt.ylabel(\"Number of cars\")\n",
    "plt.show()"
   ]
  },
  {
   "cell_type": "markdown",
   "id": "44044167",
   "metadata": {},
   "source": [
    "Most cars are aged between 3 and 5 years"
   ]
  },
  {
   "cell_type": "code",
   "execution_count": 7,
   "id": "c8cc017a",
   "metadata": {},
   "outputs": [
    {
     "data": {
      "text/plain": [
       "0    51178\n",
       "1     7208\n",
       "Name: IsBadBuy, dtype: int64"
      ]
     },
     "execution_count": 7,
     "metadata": {},
     "output_type": "execute_result"
    }
   ],
   "source": [
    "dataset.IsBadBuy.value_counts()"
   ]
  },
  {
   "cell_type": "code",
   "execution_count": 8,
   "id": "bf481b36",
   "metadata": {},
   "outputs": [
    {
     "data": {
      "image/png": "[encoded data removed]",
      "text/plain": [
       "<Figure size 432x288 with 1 Axes>"
      ]
     },
     "metadata": {},
     "output_type": "display_data"
    }
   ],
   "source": [
    "dataset.IsBadBuy.value_counts().plot(kind=\"pie\" )\n",
    "plt.show()"
   ]
  },
  {
   "cell_type": "markdown",
   "id": "565eb201",
   "metadata": {},
   "source": [
    "dataset counts ***58386*** records (total amount of cars), of which ***7208*** have been returned as bad purchases\n",
    "**87%**, while the remaining ***13%*** are good buys."
   ]
  },
  {
   "cell_type": "code",
   "execution_count": 8,
   "id": "1b7dc6da",
   "metadata": {
    "scrolled": true
   },
   "outputs": [
    {
     "data": {
      "image/png": "[encoded data removed]",
      "text/plain": [
       "<Figure size 720x360 with 1 Axes>"
      ]
     },
     "metadata": {},
     "output_type": "display_data"
    }
   ],
   "source": [
    "import seaborn as sb\n",
    "sb.set(rc={'figure.figsize':(10,5)})\n",
    "sb.histplot(dataset.VehBCost, bins=15)\n",
    "sb.set_style(\"whitegrid\")"
   ]
  },
  {
   "cell_type": "markdown",
   "id": "fe3e4151",
   "metadata": {},
   "source": [
    "we can observe that Vehicles are usually sold for a price between 3500 and 12000, and a very low percentage of cars is\n",
    "sold above 15000 or below 2500."
   ]
  },
  {
   "cell_type": "code",
   "execution_count": 10,
   "id": "2ea13890",
   "metadata": {
    "scrolled": false
   },
   "outputs": [
    {
     "data": {
      "image/png": "[encoded data removed]",
      "text/plain": [
       "<Figure size 720x360 with 1 Axes>"
      ]
     },
     "metadata": {},
     "output_type": "display_data"
    }
   ],
   "source": [
    "dataset.Color.value_counts().plot(kind=\"barh\" )\n",
    "plt.show()"
   ]
  },
  {
   "cell_type": "markdown",
   "id": "48350f22",
   "metadata": {},
   "source": [
    "the most three common colours are **silver**, **white**, and **blue**."
   ]
  },
  {
   "cell_type": "markdown",
   "id": "cc0e3925",
   "metadata": {},
   "source": [
    "### other features plots and insights"
   ]
  },
  {
   "cell_type": "code",
   "execution_count": 10,
   "id": "4867450b",
   "metadata": {
    "scrolled": false
   },
   "outputs": [
    {
     "data": {
      "image/png": "[encoded data removed]",
      "text/plain": [
       "<Figure size 864x720 with 1 Axes>"
      ]
     },
     "metadata": {
      "needs_background": "light"
     },
     "output_type": "display_data"
    }
   ],
   "source": [
    "plt.figure(figsize=(12, 10))\n",
    "dataset.VNST.value_counts().plot(kind=\"barh\" )\n",
    "plt.show()"
   ]
  },
  {
   "cell_type": "markdown",
   "id": "c16d59c0",
   "metadata": {},
   "source": [
    "we observe that most cars are sold in **Texas** and **Florida**"
   ]
  },
  {
   "cell_type": "code",
   "execution_count": 14,
   "id": "4f79b5da",
   "metadata": {},
   "outputs": [
    {
     "data": {
      "image/png": "[encoded data removed]",
      "text/plain": [
       "<Figure size 432x288 with 1 Axes>"
      ]
     },
     "metadata": {},
     "output_type": "display_data"
    }
   ],
   "source": [
    "dataset.Transmission.value_counts().plot(kind=\"pie\" )\n",
    "plt.show()"
   ]
  },
  {
   "cell_type": "markdown",
   "id": "d7e1d4c1",
   "metadata": {},
   "source": [
    "As we can see, the vast majority of cars have **automatic transmission**"
   ]
  },
  {
   "cell_type": "code",
   "execution_count": 17,
   "id": "4f3c9edf",
   "metadata": {},
   "outputs": [
    {
     "data": {
      "image/png": "[encoded data removed]",
      "text/plain": [
       "<Figure size 432x288 with 1 Axes>"
      ]
     },
     "metadata": {
      "needs_background": "light"
     },
     "output_type": "display_data"
    }
   ],
   "source": [
    "dataset.Size.value_counts().plot(kind=\"barh\" )\n",
    "plt.show()"
   ]
  },
  {
   "cell_type": "markdown",
   "id": "0686b665",
   "metadata": {},
   "source": [
    "About 50% of cars are **medium**"
   ]
  },
  {
   "cell_type": "markdown",
   "id": "031fd5c7",
   "metadata": {},
   "source": [
    "### Correlation matrix between numerical features"
   ]
  },
  {
   "cell_type": "code",
   "execution_count": 10,
   "id": "500cfce1",
   "metadata": {
    "scrolled": false
   },
   "outputs": [
    {
     "data": {
      "image/png": "[encoded data removed]",
      "text/plain": [
       "<Figure size 864x720 with 2 Axes>"
      ]
     },
     "metadata": {},
     "output_type": "display_data"
    }
   ],
   "source": [
    "# defining numerical variables\n",
    "columns = ['MMRAcquisitionAuctionAveragePrice',\n",
    "           'MMRAcquisitionAuctionCleanPrice',\n",
    "           'MMRAcquisitionRetailAveragePrice',\n",
    "           'MMRAcquisitonRetailCleanPrice',\n",
    "           'MMRCurrentAuctionAveragePrice',\n",
    "           'MMRCurrentAuctionCleanPrice',\n",
    "           'MMRCurrentRetailAveragePrice',\n",
    "           'MMRCurrentRetailCleanPrice',\n",
    "           'VehBCost', 'VehicleAge']\n",
    "\n",
    "# plotting the correlation matrix\n",
    "plt.figure(figsize=(12, 10))\n",
    "sb.heatmap(dataset[columns].corr(), annot = True)\n",
    "plt.title('Correlation Matrix', fontsize=16)\n",
    "plt.show()"
   ]
  },
  {
   "cell_type": "markdown",
   "id": "0780eaf0",
   "metadata": {},
   "source": [
    "<h2>2. Missing value imputation</h2>"
   ]
  },
  {
   "cell_type": "markdown",
   "id": "bb88395b",
   "metadata": {},
   "source": [
    "Check for duplicate RefId and remove them"
   ]
  },
  {
   "cell_type": "code",
   "execution_count": 18,
   "id": "dc15dbbf",
   "metadata": {},
   "outputs": [
    {
     "data": {
      "text/plain": [
       "0"
      ]
     },
     "execution_count": 18,
     "metadata": {},
     "output_type": "execute_result"
    }
   ],
   "source": [
    "dataset.RefId.duplicated().sum()"
   ]
  },
  {
   "cell_type": "code",
   "execution_count": 19,
   "id": "b1f20748",
   "metadata": {
    "scrolled": true
   },
   "outputs": [
    {
     "data": {
      "text/plain": [
       "0          326\n",
       "1        42991\n",
       "2        55273\n",
       "3        29058\n",
       "4        34991\n",
       "         ...  \n",
       "58381    20065\n",
       "58382    12550\n",
       "58383    15626\n",
       "58384    21224\n",
       "58385    40898\n",
       "Name: RefId, Length: 58386, dtype: int64"
      ]
     },
     "execution_count": 19,
     "metadata": {},
     "output_type": "execute_result"
    }
   ],
   "source": [
    "dataset.RefId.drop_duplicates(keep='last')"
   ]
  },
  {
   "cell_type": "markdown",
   "id": "896131e5",
   "metadata": {},
   "source": [
    "we observe that there weren't any **RefId** duplicates"
   ]
  },
  {
   "cell_type": "code",
   "execution_count": 20,
   "id": "8811d761",
   "metadata": {},
   "outputs": [
    {
     "data": {
      "text/plain": [
       "(58386, 25)"
      ]
     },
     "execution_count": 20,
     "metadata": {},
     "output_type": "execute_result"
    }
   ],
   "source": [
    "dataset.shape"
   ]
  },
  {
   "cell_type": "markdown",
   "id": "72ce6ad4",
   "metadata": {},
   "source": [
    "Quantify missing values"
   ]
  },
  {
   "cell_type": "code",
   "execution_count": 21,
   "id": "ed02b02b",
   "metadata": {
    "scrolled": false
   },
   "outputs": [
    {
     "data": {
      "text/plain": [
       "RefId                                   0\n",
       "PurchDate                               0\n",
       "Auction                                 0\n",
       "VehYear                                 0\n",
       "VehicleAge                              0\n",
       "Make                                    0\n",
       "Color                                   7\n",
       "Transmission                            8\n",
       "WheelTypeID                          2573\n",
       "WheelType                            2577\n",
       "VehOdo                                  0\n",
       "Size                                    4\n",
       "MMRAcquisitionAuctionAveragePrice      13\n",
       "MMRAcquisitionAuctionCleanPrice        13\n",
       "MMRAcquisitionRetailAveragePrice       13\n",
       "MMRAcquisitonRetailCleanPrice          13\n",
       "MMRCurrentAuctionAveragePrice         245\n",
       "MMRCurrentAuctionCleanPrice           245\n",
       "MMRCurrentRetailAveragePrice          245\n",
       "MMRCurrentRetailCleanPrice            245\n",
       "VNZIP1                                  0\n",
       "VNST                                    0\n",
       "WarrantyCost                            0\n",
       "VehBCost                                0\n",
       "IsBadBuy                                0\n",
       "dtype: int64"
      ]
     },
     "execution_count": 21,
     "metadata": {},
     "output_type": "execute_result"
    }
   ],
   "source": [
    "dataset.isnull().sum()"
   ]
  },
  {
   "cell_type": "markdown",
   "id": "35fbc0e4",
   "metadata": {},
   "source": [
    "We see that WheelTypeID and WheelType have 2573 missing values. MMRCurrentAuctionAveragePrice, MMRCurrentAuctionCleanPrice, MMRCurrentRetailAveragePrice, MMRCurrentRetailCleanPrice have 245 missing values. "
   ]
  },
  {
   "cell_type": "markdown",
   "id": "1bc267fa",
   "metadata": {},
   "source": [
    "We are going to perform mean value imputation for all numerical features and frequent occurring value for\n",
    "categorical features."
   ]
  },
  {
   "cell_type": "markdown",
   "id": "36898ad5",
   "metadata": {},
   "source": [
    "#### Let's deal with numerical features first"
   ]
  },
  {
   "cell_type": "code",
   "execution_count": 22,
   "id": "f919bfad",
   "metadata": {},
   "outputs": [],
   "source": [
    "columns = ['MMRAcquisitionAuctionAveragePrice',\n",
    "           'MMRAcquisitionAuctionCleanPrice',\n",
    "           'MMRAcquisitionRetailAveragePrice',\n",
    "           'MMRAcquisitonRetailCleanPrice',\n",
    "           'MMRCurrentAuctionAveragePrice',\n",
    "           'MMRCurrentAuctionCleanPrice',\n",
    "           'MMRCurrentRetailAveragePrice',\n",
    "           'MMRCurrentRetailCleanPrice']\n",
    "\n",
    "for col in columns :\n",
    "    dataset[col].fillna(dataset[col].mean(), inplace=True)  # replace the null value with the mean of the column"
   ]
  },
  {
   "cell_type": "markdown",
   "id": "b62b0767",
   "metadata": {},
   "source": [
    "#### Now the categorical features."
   ]
  },
  {
   "cell_type": "code",
   "execution_count": 23,
   "id": "668629b8",
   "metadata": {},
   "outputs": [],
   "source": [
    "columns = ['WheelTypeID',\n",
    "           'WheelType',\n",
    "           'Color',\n",
    "           'Size',\n",
    "           'Transmission']\n",
    "\n",
    "for col in columns :\n",
    "    # replace the null value with the most occurring value \n",
    "    # mode() function returns a list of the most frequent value in a col\n",
    "    dataset[col].fillna(dataset[col].mode().iloc[0], inplace=True)  "
   ]
  },
  {
   "cell_type": "markdown",
   "id": "32fa8246",
   "metadata": {},
   "source": [
    "now let's verify if there any null values left "
   ]
  },
  {
   "cell_type": "code",
   "execution_count": 24,
   "id": "70b438a8",
   "metadata": {},
   "outputs": [
    {
     "data": {
      "text/plain": [
       "RefId                                0\n",
       "PurchDate                            0\n",
       "Auction                              0\n",
       "VehYear                              0\n",
       "VehicleAge                           0\n",
       "Make                                 0\n",
       "Color                                0\n",
       "Transmission                         0\n",
       "WheelTypeID                          0\n",
       "WheelType                            0\n",
       "VehOdo                               0\n",
       "Size                                 0\n",
       "MMRAcquisitionAuctionAveragePrice    0\n",
       "MMRAcquisitionAuctionCleanPrice      0\n",
       "MMRAcquisitionRetailAveragePrice     0\n",
       "MMRAcquisitonRetailCleanPrice        0\n",
       "MMRCurrentAuctionAveragePrice        0\n",
       "MMRCurrentAuctionCleanPrice          0\n",
       "MMRCurrentRetailAveragePrice         0\n",
       "MMRCurrentRetailCleanPrice           0\n",
       "VNZIP1                               0\n",
       "VNST                                 0\n",
       "WarrantyCost                         0\n",
       "VehBCost                             0\n",
       "IsBadBuy                             0\n",
       "dtype: int64"
      ]
     },
     "execution_count": 24,
     "metadata": {},
     "output_type": "execute_result"
    }
   ],
   "source": [
    "dataset.isnull().sum()"
   ]
  },
  {
   "cell_type": "markdown",
   "id": "f3a45843",
   "metadata": {},
   "source": [
    "Hooraay ! no more missing values !"
   ]
  },
  {
   "cell_type": "markdown",
   "id": "e7182a72",
   "metadata": {},
   "source": [
    "<h2>3. Feature Engineering</h2>"
   ]
  },
  {
   "cell_type": "markdown",
   "id": "2dc912f4",
   "metadata": {},
   "source": [
    "**RefId** and **WheelTypeID** are unnecessary attributes. So let's remove them !"
   ]
  },
  {
   "cell_type": "code",
   "execution_count": 25,
   "id": "8a11b648",
   "metadata": {},
   "outputs": [],
   "source": [
    "dataset.drop(columns=['RefId','WheelTypeID'], inplace=True, axis=1)"
   ]
  },
  {
   "cell_type": "markdown",
   "id": "7e7eb0ae",
   "metadata": {},
   "source": [
    "we have **VehicleAge** which captures vehicule age, and **VehYear** from which we obtain the vehicule age too. It's unnecessary. Let's drop it"
   ]
  },
  {
   "cell_type": "code",
   "execution_count": 26,
   "id": "00f6c12b",
   "metadata": {},
   "outputs": [],
   "source": [
    "dataset.drop('VehYear', inplace=True, axis=1)"
   ]
  },
  {
   "cell_type": "markdown",
   "id": "ab51b7be",
   "metadata": {},
   "source": [
    "The features **VNZIP1** and **VNST** both describe the location of the auction where the car is bought, so we keep just **VNST** this tells us a state instead of a very specific ZIP."
   ]
  },
  {
   "cell_type": "code",
   "execution_count": 27,
   "id": "79f49bfa",
   "metadata": {},
   "outputs": [],
   "source": [
    "dataset.drop('VNZIP1', inplace=True, axis=1)"
   ]
  },
  {
   "cell_type": "code",
   "execution_count": 28,
   "id": "d58c2cf4",
   "metadata": {},
   "outputs": [
    {
     "name": "stdout",
     "output_type": "stream",
     "text": [
      "<class 'pandas.core.frame.DataFrame'>\n",
      "RangeIndex: 58386 entries, 0 to 58385\n",
      "Data columns (total 21 columns):\n",
      " #   Column                             Non-Null Count  Dtype  \n",
      "---  ------                             --------------  -----  \n",
      " 0   PurchDate                          58386 non-null  object \n",
      " 1   Auction                            58386 non-null  object \n",
      " 2   VehicleAge                         58386 non-null  int64  \n",
      " 3   Make                               58386 non-null  object \n",
      " 4   Color                              58386 non-null  object \n",
      " 5   Transmission                       58386 non-null  object \n",
      " 6   WheelType                          58386 non-null  object \n",
      " 7   VehOdo                             58386 non-null  int64  \n",
      " 8   Size                               58386 non-null  object \n",
      " 9   MMRAcquisitionAuctionAveragePrice  58386 non-null  float64\n",
      " 10  MMRAcquisitionAuctionCleanPrice    58386 non-null  float64\n",
      " 11  MMRAcquisitionRetailAveragePrice   58386 non-null  float64\n",
      " 12  MMRAcquisitonRetailCleanPrice      58386 non-null  float64\n",
      " 13  MMRCurrentAuctionAveragePrice      58386 non-null  float64\n",
      " 14  MMRCurrentAuctionCleanPrice        58386 non-null  float64\n",
      " 15  MMRCurrentRetailAveragePrice       58386 non-null  float64\n",
      " 16  MMRCurrentRetailCleanPrice         58386 non-null  float64\n",
      " 17  VNST                               58386 non-null  object \n",
      " 18  WarrantyCost                       58386 non-null  int64  \n",
      " 19  VehBCost                           58386 non-null  float64\n",
      " 20  IsBadBuy                           58386 non-null  int64  \n",
      "dtypes: float64(9), int64(4), object(8)\n",
      "memory usage: 9.4+ MB\n"
     ]
    }
   ],
   "source": [
    "dataset.info()"
   ]
  },
  {
   "cell_type": "markdown",
   "id": "8be4b781",
   "metadata": {},
   "source": [
    "we see that the VNZIP1, VehYear, WheelTypeID and RefId are dropped."
   ]
  },
  {
   "cell_type": "markdown",
   "id": "0fd0a3d4",
   "metadata": {},
   "source": [
    "Split the purchase date **purchDate** into three separate features based on date, month\n",
    "and year."
   ]
  },
  {
   "cell_type": "code",
   "execution_count": 29,
   "id": "c293fb6b",
   "metadata": {
    "scrolled": true
   },
   "outputs": [
    {
     "data": {
      "text/html": [
       "<div>\n",
       "<style scoped>\n",
       "    .dataframe tbody tr th:only-of-type {\n",
       "        vertical-align: middle;\n",
       "    }\n",
       "\n",
       "    .dataframe tbody tr th {\n",
       "        vertical-align: top;\n",
       "    }\n",
       "\n",
       "    .dataframe thead th {\n",
       "        text-align: right;\n",
       "    }\n",
       "</style>\n",
       "<table border=\"1\" class=\"dataframe\">\n",
       "  <thead>\n",
       "    <tr style=\"text-align: right;\">\n",
       "      <th></th>\n",
       "      <th>0</th>\n",
       "      <th>1</th>\n",
       "      <th>2</th>\n",
       "    </tr>\n",
       "  </thead>\n",
       "  <tbody>\n",
       "    <tr>\n",
       "      <th>0</th>\n",
       "      <td>10</td>\n",
       "      <td>25</td>\n",
       "      <td>2010</td>\n",
       "    </tr>\n",
       "    <tr>\n",
       "      <th>1</th>\n",
       "      <td>5</td>\n",
       "      <td>27</td>\n",
       "      <td>2009</td>\n",
       "    </tr>\n",
       "    <tr>\n",
       "      <th>2</th>\n",
       "      <td>3</td>\n",
       "      <td>18</td>\n",
       "      <td>2010</td>\n",
       "    </tr>\n",
       "    <tr>\n",
       "      <th>3</th>\n",
       "      <td>06</td>\n",
       "      <td>08</td>\n",
       "      <td>2009</td>\n",
       "    </tr>\n",
       "    <tr>\n",
       "      <th>4</th>\n",
       "      <td>03</td>\n",
       "      <td>04</td>\n",
       "      <td>2009</td>\n",
       "    </tr>\n",
       "  </tbody>\n",
       "</table>\n",
       "</div>"
      ],
      "text/plain": [
       "    0   1     2\n",
       "0  10  25  2010\n",
       "1   5  27  2009\n",
       "2   3  18  2010\n",
       "3  06  08  2009\n",
       "4  03  04  2009"
      ]
     },
     "execution_count": 29,
     "metadata": {},
     "output_type": "execute_result"
    }
   ],
   "source": [
    "# deviding purchDate in 3 setparete columns and affecting them to sep_dates table\n",
    "sep_dates = dataset['PurchDate'].str.split(\"/\", expand = True)\n",
    "sep_dates.head()"
   ]
  },
  {
   "cell_type": "code",
   "execution_count": 30,
   "id": "1e6a56bc",
   "metadata": {
    "scrolled": true
   },
   "outputs": [
    {
     "data": {
      "text/html": [
       "<div>\n",
       "<style scoped>\n",
       "    .dataframe tbody tr th:only-of-type {\n",
       "        vertical-align: middle;\n",
       "    }\n",
       "\n",
       "    .dataframe tbody tr th {\n",
       "        vertical-align: top;\n",
       "    }\n",
       "\n",
       "    .dataframe thead th {\n",
       "        text-align: right;\n",
       "    }\n",
       "</style>\n",
       "<table border=\"1\" class=\"dataframe\">\n",
       "  <thead>\n",
       "    <tr style=\"text-align: right;\">\n",
       "      <th></th>\n",
       "      <th>Auction</th>\n",
       "      <th>VehicleAge</th>\n",
       "      <th>Make</th>\n",
       "      <th>Color</th>\n",
       "      <th>Transmission</th>\n",
       "      <th>WheelType</th>\n",
       "      <th>VehOdo</th>\n",
       "      <th>Size</th>\n",
       "      <th>MMRAcquisitionAuctionAveragePrice</th>\n",
       "      <th>MMRAcquisitionAuctionCleanPrice</th>\n",
       "      <th>...</th>\n",
       "      <th>MMRCurrentAuctionCleanPrice</th>\n",
       "      <th>MMRCurrentRetailAveragePrice</th>\n",
       "      <th>MMRCurrentRetailCleanPrice</th>\n",
       "      <th>VNST</th>\n",
       "      <th>WarrantyCost</th>\n",
       "      <th>VehBCost</th>\n",
       "      <th>IsBadBuy</th>\n",
       "      <th>Day</th>\n",
       "      <th>Month</th>\n",
       "      <th>Year</th>\n",
       "    </tr>\n",
       "  </thead>\n",
       "  <tbody>\n",
       "    <tr>\n",
       "      <th>0</th>\n",
       "      <td>ADESA</td>\n",
       "      <td>2</td>\n",
       "      <td>KIA</td>\n",
       "      <td>BLUE</td>\n",
       "      <td>AUTO</td>\n",
       "      <td>Covers</td>\n",
       "      <td>61184</td>\n",
       "      <td>MEDIUM</td>\n",
       "      <td>6796.0</td>\n",
       "      <td>7555.0</td>\n",
       "      <td>...</td>\n",
       "      <td>7535.0</td>\n",
       "      <td>9605.0</td>\n",
       "      <td>10650.0</td>\n",
       "      <td>FL</td>\n",
       "      <td>533</td>\n",
       "      <td>6100.0</td>\n",
       "      <td>1</td>\n",
       "      <td>25</td>\n",
       "      <td>10</td>\n",
       "      <td>2010</td>\n",
       "    </tr>\n",
       "    <tr>\n",
       "      <th>1</th>\n",
       "      <td>MANHEIM</td>\n",
       "      <td>3</td>\n",
       "      <td>DODGE</td>\n",
       "      <td>SILVER</td>\n",
       "      <td>AUTO</td>\n",
       "      <td>Covers</td>\n",
       "      <td>92383</td>\n",
       "      <td>MEDIUM</td>\n",
       "      <td>5480.0</td>\n",
       "      <td>6461.0</td>\n",
       "      <td>...</td>\n",
       "      <td>6461.0</td>\n",
       "      <td>6418.0</td>\n",
       "      <td>7478.0</td>\n",
       "      <td>FL</td>\n",
       "      <td>1630</td>\n",
       "      <td>4000.0</td>\n",
       "      <td>0</td>\n",
       "      <td>27</td>\n",
       "      <td>5</td>\n",
       "      <td>2009</td>\n",
       "    </tr>\n",
       "    <tr>\n",
       "      <th>2</th>\n",
       "      <td>OTHER</td>\n",
       "      <td>2</td>\n",
       "      <td>DODGE</td>\n",
       "      <td>BLACK</td>\n",
       "      <td>AUTO</td>\n",
       "      <td>Covers</td>\n",
       "      <td>45965</td>\n",
       "      <td>MEDIUM</td>\n",
       "      <td>8067.0</td>\n",
       "      <td>8580.0</td>\n",
       "      <td>...</td>\n",
       "      <td>8102.0</td>\n",
       "      <td>10721.0</td>\n",
       "      <td>11350.0</td>\n",
       "      <td>OK</td>\n",
       "      <td>693</td>\n",
       "      <td>7500.0</td>\n",
       "      <td>0</td>\n",
       "      <td>18</td>\n",
       "      <td>3</td>\n",
       "      <td>2010</td>\n",
       "    </tr>\n",
       "    <tr>\n",
       "      <th>3</th>\n",
       "      <td>OTHER</td>\n",
       "      <td>4</td>\n",
       "      <td>FORD</td>\n",
       "      <td>BROWN</td>\n",
       "      <td>AUTO</td>\n",
       "      <td>Covers</td>\n",
       "      <td>80169</td>\n",
       "      <td>VAN</td>\n",
       "      <td>4817.0</td>\n",
       "      <td>6658.0</td>\n",
       "      <td>...</td>\n",
       "      <td>6658.0</td>\n",
       "      <td>5702.0</td>\n",
       "      <td>7691.0</td>\n",
       "      <td>AZ</td>\n",
       "      <td>1633</td>\n",
       "      <td>4725.0</td>\n",
       "      <td>0</td>\n",
       "      <td>08</td>\n",
       "      <td>06</td>\n",
       "      <td>2009</td>\n",
       "    </tr>\n",
       "    <tr>\n",
       "      <th>4</th>\n",
       "      <td>MANHEIM</td>\n",
       "      <td>4</td>\n",
       "      <td>CHRYSLER</td>\n",
       "      <td>BLUE</td>\n",
       "      <td>AUTO</td>\n",
       "      <td>Alloy</td>\n",
       "      <td>77372</td>\n",
       "      <td>VAN</td>\n",
       "      <td>5430.0</td>\n",
       "      <td>6633.0</td>\n",
       "      <td>...</td>\n",
       "      <td>6811.0</td>\n",
       "      <td>6300.0</td>\n",
       "      <td>7856.0</td>\n",
       "      <td>TX</td>\n",
       "      <td>1623</td>\n",
       "      <td>5670.0</td>\n",
       "      <td>0</td>\n",
       "      <td>04</td>\n",
       "      <td>03</td>\n",
       "      <td>2009</td>\n",
       "    </tr>\n",
       "  </tbody>\n",
       "</table>\n",
       "<p>5 rows × 23 columns</p>\n",
       "</div>"
      ],
      "text/plain": [
       "   Auction  VehicleAge      Make   Color Transmission WheelType  VehOdo  \\\n",
       "0    ADESA           2       KIA    BLUE         AUTO    Covers   61184   \n",
       "1  MANHEIM           3     DODGE  SILVER         AUTO    Covers   92383   \n",
       "2    OTHER           2     DODGE   BLACK         AUTO    Covers   45965   \n",
       "3    OTHER           4      FORD   BROWN         AUTO    Covers   80169   \n",
       "4  MANHEIM           4  CHRYSLER    BLUE         AUTO     Alloy   77372   \n",
       "\n",
       "     Size  MMRAcquisitionAuctionAveragePrice  MMRAcquisitionAuctionCleanPrice  \\\n",
       "0  MEDIUM                             6796.0                           7555.0   \n",
       "1  MEDIUM                             5480.0                           6461.0   \n",
       "2  MEDIUM                             8067.0                           8580.0   \n",
       "3     VAN                             4817.0                           6658.0   \n",
       "4     VAN                             5430.0                           6633.0   \n",
       "\n",
       "   ...  MMRCurrentAuctionCleanPrice  MMRCurrentRetailAveragePrice  \\\n",
       "0  ...                       7535.0                        9605.0   \n",
       "1  ...                       6461.0                        6418.0   \n",
       "2  ...                       8102.0                       10721.0   \n",
       "3  ...                       6658.0                        5702.0   \n",
       "4  ...                       6811.0                        6300.0   \n",
       "\n",
       "   MMRCurrentRetailCleanPrice  VNST  WarrantyCost  VehBCost IsBadBuy  Day  \\\n",
       "0                     10650.0    FL           533    6100.0        1   25   \n",
       "1                      7478.0    FL          1630    4000.0        0   27   \n",
       "2                     11350.0    OK           693    7500.0        0   18   \n",
       "3                      7691.0    AZ          1633    4725.0        0   08   \n",
       "4                      7856.0    TX          1623    5670.0        0   04   \n",
       "\n",
       "   Month  Year  \n",
       "0     10  2010  \n",
       "1      5  2009  \n",
       "2      3  2010  \n",
       "3     06  2009  \n",
       "4     03  2009  \n",
       "\n",
       "[5 rows x 23 columns]"
      ]
     },
     "execution_count": 30,
     "metadata": {},
     "output_type": "execute_result"
    }
   ],
   "source": [
    "# creating new columns from sep_dates\n",
    "dataset['Day'] = sep_dates[1]\n",
    "dataset['Month'] = sep_dates[0]\n",
    "dataset['Year'] = sep_dates[2]\n",
    "\n",
    "# dropping the \"PurchDate\" col since we have the new 3 columns\n",
    "dataset.drop('PurchDate', inplace=True, axis=1)\n",
    "\n",
    "# displaying our new dataset\n",
    "dataset.head()"
   ]
  },
  {
   "cell_type": "markdown",
   "id": "04c8f2ed",
   "metadata": {},
   "source": [
    "Keep only cars where WheelType is in (Alloy, Covers)"
   ]
  },
  {
   "cell_type": "code",
   "execution_count": 31,
   "id": "30560353",
   "metadata": {
    "scrolled": false
   },
   "outputs": [
    {
     "data": {
      "text/plain": [
       "Alloy      31312\n",
       "Covers     26485\n",
       "Special      589\n",
       "Name: WheelType, dtype: int64"
      ]
     },
     "execution_count": 31,
     "metadata": {},
     "output_type": "execute_result"
    }
   ],
   "source": [
    "dataset.WheelType.value_counts() # display WheelType values and the count of each one"
   ]
  },
  {
   "cell_type": "code",
   "execution_count": 32,
   "id": "b447565b",
   "metadata": {},
   "outputs": [],
   "source": [
    "# kepping just the rows with \"Alloy\" or \"Covers\"\n",
    "dataset = dataset[ (dataset['WheelType']=='Alloy') | (dataset['WheelType']=='Covers') ]"
   ]
  },
  {
   "cell_type": "code",
   "execution_count": 33,
   "id": "5aa2b89c",
   "metadata": {},
   "outputs": [
    {
     "data": {
      "text/plain": [
       "Alloy     31312\n",
       "Covers    26485\n",
       "Name: WheelType, dtype: int64"
      ]
     },
     "execution_count": 33,
     "metadata": {},
     "output_type": "execute_result"
    }
   ],
   "source": [
    "# diplay the new count\n",
    "dataset.WheelType.value_counts()"
   ]
  },
  {
   "cell_type": "markdown",
   "id": "a0bcab77",
   "metadata": {},
   "source": [
    "#### Dummy code the categorical features"
   ]
  },
  {
   "cell_type": "code",
   "execution_count": 34,
   "id": "6fd12064",
   "metadata": {
    "scrolled": true
   },
   "outputs": [
    {
     "data": {
      "text/plain": [
       "VehicleAge                             int64\n",
       "VehOdo                                 int64\n",
       "MMRAcquisitionAuctionAveragePrice    float64\n",
       "MMRAcquisitionAuctionCleanPrice      float64\n",
       "MMRAcquisitionRetailAveragePrice     float64\n",
       "                                      ...   \n",
       "Month_7                                uint8\n",
       "Month_8                                uint8\n",
       "Month_9                                uint8\n",
       "Year_2009                              uint8\n",
       "Year_2010                              uint8\n",
       "Length: 172, dtype: object"
      ]
     },
     "execution_count": 34,
     "metadata": {},
     "output_type": "execute_result"
    }
   ],
   "source": [
    "categ_feat = ['Auction','Make','WheelType','Color','Transmission','VNST','Size','Day','Month','Year']\n",
    "ds = pd.get_dummies(dataset, columns=categ_feat)\n",
    "ds.dtypes"
   ]
  },
  {
   "cell_type": "markdown",
   "id": "41162564",
   "metadata": {},
   "source": [
    "#### Perform a Standardization to the continuous variables"
   ]
  },
  {
   "cell_type": "code",
   "execution_count": 35,
   "id": "7b731dca",
   "metadata": {
    "scrolled": false
   },
   "outputs": [
    {
     "data": {
      "text/html": [
       "<div>\n",
       "<style scoped>\n",
       "    .dataframe tbody tr th:only-of-type {\n",
       "        vertical-align: middle;\n",
       "    }\n",
       "\n",
       "    .dataframe tbody tr th {\n",
       "        vertical-align: top;\n",
       "    }\n",
       "\n",
       "    .dataframe thead th {\n",
       "        text-align: right;\n",
       "    }\n",
       "</style>\n",
       "<table border=\"1\" class=\"dataframe\">\n",
       "  <thead>\n",
       "    <tr style=\"text-align: right;\">\n",
       "      <th></th>\n",
       "      <th>VehicleAge</th>\n",
       "      <th>VehOdo</th>\n",
       "      <th>MMRAcquisitionAuctionAveragePrice</th>\n",
       "      <th>MMRAcquisitionAuctionCleanPrice</th>\n",
       "      <th>MMRAcquisitionRetailAveragePrice</th>\n",
       "      <th>MMRAcquisitonRetailCleanPrice</th>\n",
       "      <th>MMRCurrentAuctionAveragePrice</th>\n",
       "      <th>MMRCurrentAuctionCleanPrice</th>\n",
       "      <th>MMRCurrentRetailAveragePrice</th>\n",
       "      <th>MMRCurrentRetailCleanPrice</th>\n",
       "      <th>...</th>\n",
       "      <th>Month_2</th>\n",
       "      <th>Month_3</th>\n",
       "      <th>Month_4</th>\n",
       "      <th>Month_5</th>\n",
       "      <th>Month_6</th>\n",
       "      <th>Month_7</th>\n",
       "      <th>Month_8</th>\n",
       "      <th>Month_9</th>\n",
       "      <th>Year_2009</th>\n",
       "      <th>Year_2010</th>\n",
       "    </tr>\n",
       "  </thead>\n",
       "  <tbody>\n",
       "    <tr>\n",
       "      <th>0</th>\n",
       "      <td>-1.265509</td>\n",
       "      <td>-0.704985</td>\n",
       "      <td>0.271949</td>\n",
       "      <td>0.067087</td>\n",
       "      <td>0.521782</td>\n",
       "      <td>0.282592</td>\n",
       "      <td>0.204558</td>\n",
       "      <td>0.054299</td>\n",
       "      <td>0.269409</td>\n",
       "      <td>0.153418</td>\n",
       "      <td>...</td>\n",
       "      <td>0</td>\n",
       "      <td>0</td>\n",
       "      <td>0</td>\n",
       "      <td>0</td>\n",
       "      <td>0</td>\n",
       "      <td>0</td>\n",
       "      <td>0</td>\n",
       "      <td>0</td>\n",
       "      <td>0</td>\n",
       "      <td>1</td>\n",
       "    </tr>\n",
       "    <tr>\n",
       "      <th>1</th>\n",
       "      <td>-0.682100</td>\n",
       "      <td>1.432857</td>\n",
       "      <td>-0.264266</td>\n",
       "      <td>-0.336278</td>\n",
       "      <td>-0.660179</td>\n",
       "      <td>-0.702968</td>\n",
       "      <td>-0.268885</td>\n",
       "      <td>-0.347417</td>\n",
       "      <td>-0.766020</td>\n",
       "      <td>-0.809294</td>\n",
       "      <td>...</td>\n",
       "      <td>0</td>\n",
       "      <td>0</td>\n",
       "      <td>0</td>\n",
       "      <td>1</td>\n",
       "      <td>0</td>\n",
       "      <td>0</td>\n",
       "      <td>0</td>\n",
       "      <td>0</td>\n",
       "      <td>1</td>\n",
       "      <td>0</td>\n",
       "    </tr>\n",
       "    <tr>\n",
       "      <th>2</th>\n",
       "      <td>-1.265509</td>\n",
       "      <td>-1.747832</td>\n",
       "      <td>0.789829</td>\n",
       "      <td>0.445011</td>\n",
       "      <td>0.818066</td>\n",
       "      <td>0.533499</td>\n",
       "      <td>0.562940</td>\n",
       "      <td>0.266377</td>\n",
       "      <td>0.631988</td>\n",
       "      <td>0.365870</td>\n",
       "      <td>...</td>\n",
       "      <td>0</td>\n",
       "      <td>1</td>\n",
       "      <td>0</td>\n",
       "      <td>0</td>\n",
       "      <td>0</td>\n",
       "      <td>0</td>\n",
       "      <td>0</td>\n",
       "      <td>0</td>\n",
       "      <td>0</td>\n",
       "      <td>1</td>\n",
       "    </tr>\n",
       "    <tr>\n",
       "      <th>3</th>\n",
       "      <td>-0.098690</td>\n",
       "      <td>0.595920</td>\n",
       "      <td>-0.534411</td>\n",
       "      <td>-0.263643</td>\n",
       "      <td>-0.887552</td>\n",
       "      <td>-0.639870</td>\n",
       "      <td>-0.542310</td>\n",
       "      <td>-0.273731</td>\n",
       "      <td>-0.998642</td>\n",
       "      <td>-0.744648</td>\n",
       "      <td>...</td>\n",
       "      <td>0</td>\n",
       "      <td>0</td>\n",
       "      <td>0</td>\n",
       "      <td>0</td>\n",
       "      <td>0</td>\n",
       "      <td>0</td>\n",
       "      <td>0</td>\n",
       "      <td>0</td>\n",
       "      <td>1</td>\n",
       "      <td>0</td>\n",
       "    </tr>\n",
       "    <tr>\n",
       "      <th>4</th>\n",
       "      <td>-0.098690</td>\n",
       "      <td>0.404262</td>\n",
       "      <td>-0.284639</td>\n",
       "      <td>-0.272861</td>\n",
       "      <td>-0.677327</td>\n",
       "      <td>-0.647869</td>\n",
       "      <td>-0.314249</td>\n",
       "      <td>-0.216504</td>\n",
       "      <td>-0.804357</td>\n",
       "      <td>-0.694570</td>\n",
       "      <td>...</td>\n",
       "      <td>0</td>\n",
       "      <td>0</td>\n",
       "      <td>0</td>\n",
       "      <td>0</td>\n",
       "      <td>0</td>\n",
       "      <td>0</td>\n",
       "      <td>0</td>\n",
       "      <td>0</td>\n",
       "      <td>1</td>\n",
       "      <td>0</td>\n",
       "    </tr>\n",
       "  </tbody>\n",
       "</table>\n",
       "<p>5 rows × 172 columns</p>\n",
       "</div>"
      ],
      "text/plain": [
       "   VehicleAge    VehOdo  MMRAcquisitionAuctionAveragePrice  \\\n",
       "0   -1.265509 -0.704985                           0.271949   \n",
       "1   -0.682100  1.432857                          -0.264266   \n",
       "2   -1.265509 -1.747832                           0.789829   \n",
       "3   -0.098690  0.595920                          -0.534411   \n",
       "4   -0.098690  0.404262                          -0.284639   \n",
       "\n",
       "   MMRAcquisitionAuctionCleanPrice  MMRAcquisitionRetailAveragePrice  \\\n",
       "0                         0.067087                          0.521782   \n",
       "1                        -0.336278                         -0.660179   \n",
       "2                         0.445011                          0.818066   \n",
       "3                        -0.263643                         -0.887552   \n",
       "4                        -0.272861                         -0.677327   \n",
       "\n",
       "   MMRAcquisitonRetailCleanPrice  MMRCurrentAuctionAveragePrice  \\\n",
       "0                       0.282592                       0.204558   \n",
       "1                      -0.702968                      -0.268885   \n",
       "2                       0.533499                       0.562940   \n",
       "3                      -0.639870                      -0.542310   \n",
       "4                      -0.647869                      -0.314249   \n",
       "\n",
       "   MMRCurrentAuctionCleanPrice  MMRCurrentRetailAveragePrice  \\\n",
       "0                     0.054299                      0.269409   \n",
       "1                    -0.347417                     -0.766020   \n",
       "2                     0.266377                      0.631988   \n",
       "3                    -0.273731                     -0.998642   \n",
       "4                    -0.216504                     -0.804357   \n",
       "\n",
       "   MMRCurrentRetailCleanPrice  ...  Month_2  Month_3  Month_4  Month_5  \\\n",
       "0                    0.153418  ...        0        0        0        0   \n",
       "1                   -0.809294  ...        0        0        0        1   \n",
       "2                    0.365870  ...        0        1        0        0   \n",
       "3                   -0.744648  ...        0        0        0        0   \n",
       "4                   -0.694570  ...        0        0        0        0   \n",
       "\n",
       "   Month_6  Month_7  Month_8  Month_9  Year_2009  Year_2010  \n",
       "0        0        0        0        0          0          1  \n",
       "1        0        0        0        0          1          0  \n",
       "2        0        0        0        0          0          1  \n",
       "3        0        0        0        0          1          0  \n",
       "4        0        0        0        0          1          0  \n",
       "\n",
       "[5 rows x 172 columns]"
      ]
     },
     "execution_count": 35,
     "metadata": {},
     "output_type": "execute_result"
    }
   ],
   "source": [
    "df = ds\n",
    "num_feat = ['VehicleAge','VehOdo',\n",
    "            'VehBCost','WarrantyCost',\n",
    "            'MMRAcquisitionAuctionAveragePrice',\n",
    "            'MMRAcquisitionAuctionCleanPrice',\n",
    "            'MMRAcquisitionRetailAveragePrice',\n",
    "            'MMRAcquisitonRetailCleanPrice',\n",
    "            'MMRCurrentAuctionAveragePrice',\n",
    "            'MMRCurrentAuctionCleanPrice',\n",
    "            'MMRCurrentRetailAveragePrice',\n",
    "            'MMRCurrentRetailCleanPrice']\n",
    "\n",
    "for col in num_feat:\n",
    "    #  standardizing columns by subtracting the mean and dividing by the standard deviation\n",
    "    df[col] = (df[col] - df[col].mean()) / df[col].std()\n",
    "    \n",
    "df.head()"
   ]
  },
  {
   "cell_type": "markdown",
   "id": "c8029423",
   "metadata": {},
   "source": [
    "After examinating our new dataframe columns we notice that the name of some columns may be a problem while dealing with them in Machine Learning/Deep Learning algorithms. e.g. \"Make_TOYOTA SCION\" should be named \"Make_TOYOTA_SCION\" instead because some functions don't understand the \" \" white space in the name."
   ]
  },
  {
   "cell_type": "code",
   "execution_count": 36,
   "id": "25d3ffbd",
   "metadata": {},
   "outputs": [],
   "source": [
    "df.rename(columns = {'Color_NOT AVAIL':'Color_NOT_AVAIL',\n",
    "                     'Make_TOYOTA SCION':'Make_TOYOTA_SCION',\n",
    "                     'Size_LARGE SUV':'Size_LARGE_SUV',\n",
    "                     'Size_LARGE TRUCK':'Size_LARGE_TRUCK',\n",
    "                    'Size_MEDIUM SUV':'Size_MEDIUM_SUV',\n",
    "                    'Size_SMALL SUV':'Size_SMALL_SUV',\n",
    "                    'Size_SMALL TRUCK':'Size_SMALL_TRUCK'}\n",
    "          , inplace = True)"
   ]
  },
  {
   "cell_type": "code",
   "execution_count": 37,
   "id": "00fd4686",
   "metadata": {
    "scrolled": true
   },
   "outputs": [
    {
     "data": {
      "text/plain": [
       "(57797, 172)"
      ]
     },
     "execution_count": 37,
     "metadata": {},
     "output_type": "execute_result"
    }
   ],
   "source": [
    "df.shape"
   ]
  },
  {
   "cell_type": "markdown",
   "id": "4a787aed",
   "metadata": {},
   "source": [
    "the new shape of our dataset after EDA and feature enginnering is 172 columns(features) and 57797 rows."
   ]
  },
  {
   "cell_type": "markdown",
   "id": "6910c834",
   "metadata": {},
   "source": [
    "### Apply principal component Analysis (PCA)"
   ]
  },
  {
   "cell_type": "code",
   "execution_count": 32,
   "id": "28b2cf09",
   "metadata": {},
   "outputs": [],
   "source": [
    "# importing librairies\n",
    "from sklearn.decomposition import PCA"
   ]
  },
  {
   "cell_type": "markdown",
   "id": "e25f5acf",
   "metadata": {},
   "source": [
    "Since we already scaled our data, let's apply PCA with `n_components = 4` directly on our scaled dataset"
   ]
  },
  {
   "cell_type": "code",
   "execution_count": 33,
   "id": "45ca00e6",
   "metadata": {},
   "outputs": [],
   "source": [
    "sklearn_pca = PCA(n_components=4)\n",
    "reduced_data = sklearn_pca.fit_transform(ds.values)"
   ]
  },
  {
   "cell_type": "code",
   "execution_count": 34,
   "id": "f9964b69",
   "metadata": {},
   "outputs": [
    {
     "data": {
      "text/plain": [
       "array([[-6.16124764e+02, -7.52190229e+02, -1.68028560e+00,\n",
       "         4.34663912e-01],\n",
       "       [-2.73039400e+03,  3.17053425e+02, -2.23643408e+00,\n",
       "         2.17712837e-01],\n",
       "       [ 7.81646314e+02, -5.73763301e+02, -8.85906839e-01,\n",
       "         1.49646971e+00],\n",
       "       ...,\n",
       "       [ 2.68385765e+02,  4.29564430e+02, -1.60762944e+00,\n",
       "         6.50543899e-01],\n",
       "       [-1.19188111e+03, -6.98767319e+02,  3.78214377e-01,\n",
       "        -1.96577935e+00],\n",
       "       [-3.48802822e+03,  1.32058458e+02,  2.07843967e+00,\n",
       "        -2.50790630e-01]])"
      ]
     },
     "execution_count": 34,
     "metadata": {},
     "output_type": "execute_result"
    }
   ],
   "source": [
    "reduced_data"
   ]
  },
  {
   "cell_type": "code",
   "execution_count": 35,
   "id": "8431a58b",
   "metadata": {},
   "outputs": [
    {
     "name": "stdout",
     "output_type": "stream",
     "text": [
      "Explained variance ratio : \n",
      "[8.95927476e-01 1.04069076e-01 8.64065861e-07 3.44075730e-07]\n",
      "\n",
      "Princcipal Ccomponents : \n",
      "[[-1.78943729e-04 -3.89747945e-05  4.49048151e-04  4.44265721e-04\n",
      "   4.24518889e-04  4.23808344e-04  4.42001471e-04  4.39845261e-04\n",
      "   4.29898159e-04  4.29672387e-04 -1.31725317e-02  9.99912452e-01\n",
      "  -1.84881357e-05 -4.67006448e-06 -1.29515533e-06  5.96521981e-06\n",
      "   3.32072084e-07 -1.69909467e-06  4.05459362e-07  7.23204903e-06\n",
      "  -7.95016485e-06  1.75766611e-05 -1.66507361e-05  4.37104257e-06\n",
      "   3.85435194e-06  2.90448843e-08 -5.80288176e-06  5.92466638e-07\n",
      "   5.51920263e-07  8.58292648e-06 -8.46767664e-06  8.77346335e-07\n",
      "   4.34981798e-07  1.29610066e-06 -2.06299194e-06  1.73175273e-07\n",
      "  -5.96685639e-07  1.00249148e-05 -2.48087917e-06 -2.00489016e-08\n",
      "  -2.58769869e-06 -1.01372522e-05  4.68144176e-07  2.03625789e-07\n",
      "  -7.99530783e-06  8.21126872e-06 -6.47550995e-09  7.05074535e-07\n",
      "   5.35267387e-07  4.57659851e-05 -4.57659851e-05  1.13946835e-07\n",
      "   1.36543587e-05 -4.14716171e-07  2.81049754e-07 -8.80296952e-06\n",
      "  -3.31906153e-06  1.26648360e-05 -9.75345278e-07 -5.10178965e-08\n",
      "   3.40497137e-08  9.71568080e-08 -7.40443301e-07 -3.46347814e-07\n",
      "  -7.50959297e-06 -4.28568396e-06 -4.00219410e-07  1.47905723e-05\n",
      "  -1.47905723e-05  4.28928186e-07 -3.42793280e-07  4.73138353e-08\n",
      "  -1.87547263e-06 -4.50883395e-06 -3.87533426e-06 -1.95475992e-07\n",
      "  -1.26091441e-08  2.35295321e-07  6.54905597e-07  7.79341767e-08\n",
      "   7.63932807e-07  8.86968124e-08 -3.96577303e-09 -1.28330732e-06\n",
      "  -3.88259321e-08  1.43998419e-07  5.43750356e-07 -6.13348908e-08\n",
      "  -2.21727469e-06  1.58378764e-08  8.51476840e-07 -2.61694923e-07\n",
      "  -6.06596806e-07 -1.15372180e-06  3.85044542e-08  2.51833133e-06\n",
      "   7.98426388e-06  8.48124910e-08 -6.46548344e-07 -1.83124758e-06\n",
      "  -7.34529657e-07  4.30591784e-06  4.25182639e-07 -4.12402593e-08\n",
      "   7.29323735e-09  4.74431134e-07 -5.20618815e-05  1.02411335e-05\n",
      "   1.39997171e-05  1.82799547e-05  2.93421233e-05 -6.97667613e-05\n",
      "   4.25375524e-05  5.45567461e-06 -1.92619858e-06  2.15814466e-05\n",
      "   2.37803654e-06 -2.00607974e-05  1.21307338e-06  2.00899082e-07\n",
      "   3.77835501e-07 -8.71492265e-07 -9.40195925e-07  1.17388084e-06\n",
      "  -7.43050881e-07 -5.10734279e-07 -8.01198011e-09  8.56293853e-08\n",
      "   1.03799721e-06  1.23588373e-06 -4.16802566e-07 -8.25502756e-07\n",
      "  -1.84820152e-06 -3.25237806e-08  1.07018227e-06  1.07701427e-08\n",
      "  -5.29573949e-08 -6.67894926e-07 -8.95686308e-07 -3.76480959e-07\n",
      "  -1.55089178e-08  1.46294360e-06  6.84982865e-07  1.38257486e-06\n",
      "  -1.10779539e-06 -2.25994933e-07 -1.89473836e-07 -4.03790628e-07\n",
      "   1.95446370e-07 -1.68279270e-06 -2.58640704e-06  1.34571589e-06\n",
      "   3.59026941e-07  7.86445524e-07  6.23001271e-07 -9.21027001e-07\n",
      "  -6.59747168e-08 -1.38614218e-07 -1.03155397e-05  4.09196007e-06\n",
      "   4.62536359e-06 -2.82019360e-06  1.93605246e-06  2.57098910e-06\n",
      "  -7.80535910e-07  4.87574969e-07 -2.70066881e-07 -7.84377599e-07\n",
      "   1.31387003e-07  3.40801252e-06 -4.11370335e-05  4.11370335e-05]\n",
      " [ 4.10637903e-04  6.83036825e-04 -3.26143438e-05  1.72489906e-05\n",
      "  -4.15212395e-05  3.30569420e-06 -4.56728038e-05  2.03765830e-06\n",
      "  -5.00968155e-05 -6.45045618e-06  9.99912779e-01  1.31726638e-02\n",
      "   2.54732212e-05 -8.50853719e-06  3.85264725e-05 -3.00179353e-05\n",
      "   1.79963584e-07  3.02064844e-05  6.99938595e-07  1.77138732e-04\n",
      "   5.14704916e-07 -4.08459156e-05 -3.43469389e-05  7.87185084e-06\n",
      "  -8.58827000e-06  1.99680064e-08 -3.62542776e-05  3.03899256e-07\n",
      "  -3.90736787e-07  2.66492400e-06 -5.02403361e-05 -8.93902156e-09\n",
      "   8.32182454e-07 -3.51325746e-06 -3.24847903e-06  1.41709941e-06\n",
      "  -2.23428385e-05 -3.52673801e-05  7.35899137e-06 -1.62979177e-08\n",
      "   7.39631206e-05 -3.08228132e-06 -3.36803113e-06 -3.08183638e-07\n",
      "  -3.67944792e-05 -2.55403369e-05 -3.36497253e-08 -5.93977947e-08\n",
      "   1.07816696e-06  1.14381034e-04 -1.14381034e-04  2.56059330e-06\n",
      "  -1.97485049e-05 -1.10018875e-06  5.58267116e-06  1.53055964e-05\n",
      "   5.16380151e-06  4.01133669e-06  1.06668907e-05 -6.11888631e-08\n",
      "  -6.80110149e-06  9.98539009e-07 -7.29901395e-07 -2.65975856e-05\n",
      "  -5.40567879e-06  1.85927099e-05 -2.43798890e-06  3.56438100e-05\n",
      "  -3.56438100e-05  3.59193770e-06  1.12488844e-06 -1.34959230e-05\n",
      "  -3.91495823e-08  1.16194684e-05 -1.17575929e-05  2.83652792e-06\n",
      "  -1.04204116e-06  5.85264617e-07  1.21902598e-06  8.53113017e-07\n",
      "   1.28779827e-06  1.76895032e-07 -2.68627747e-08  1.46678834e-07\n",
      "  -9.48159359e-08  3.88545062e-07  2.30024785e-06  2.99109276e-06\n",
      "   6.76681297e-06  1.03086362e-07 -2.49927226e-06  1.23703940e-06\n",
      "   8.26919194e-07 -1.85019650e-06  9.76272979e-09  3.15466985e-06\n",
      "  -3.82340951e-05  7.75081595e-08  3.47435364e-06  1.65201488e-05\n",
      "   2.68777983e-06 -2.21918677e-06  1.43772058e-06  4.97877930e-06\n",
      "  -9.76233868e-08  9.60694631e-07 -1.11367902e-04  8.12345270e-06\n",
      "   2.04110453e-04  1.77664664e-05 -2.11214118e-05 -3.11665907e-04\n",
      "   8.01826789e-05 -1.96290816e-05 -7.75935232e-06  7.22393856e-06\n",
      "  -9.73667275e-06  1.63873338e-04 -9.60728808e-07  9.56782146e-08\n",
      "   2.05222809e-06 -1.04917397e-06  1.49282053e-06 -4.51693427e-07\n",
      "   3.62932205e-06 -1.06588766e-07 -3.99796810e-07 -2.78684059e-07\n",
      "   2.39009063e-06 -5.50382329e-07  4.52896499e-07  4.38421621e-07\n",
      "  -1.79943129e-06  3.20070070e-06 -2.10131170e-06 -3.77273209e-07\n",
      "   2.71057002e-06  1.34242777e-06 -4.91293743e-06 -4.45098075e-07\n",
      "   4.39845931e-06 -3.33196597e-06 -6.70747920e-07 -1.88080597e-06\n",
      "  -8.60271991e-07  8.94946381e-07  9.95839373e-07 -1.86475463e-06\n",
      "  -2.05275485e-06 -1.14093326e-06  8.30118332e-07  1.89458340e-07\n",
      "  -1.69013017e-06  2.72787824e-06  1.54424128e-06  4.83348462e-06\n",
      "  -4.17536586e-07  1.23420319e-06 -2.99715792e-06 -7.18039039e-06\n",
      "  -5.48001938e-06  1.34992076e-06 -7.72993323e-07 -1.76491248e-06\n",
      "   3.18415428e-06 -2.61306812e-06  6.27416725e-06  3.39793923e-06\n",
      "   3.10321227e-07 -1.81874511e-06  3.18698933e-05 -3.18698933e-05]\n",
      " [ 3.26912248e-01 -5.81195310e-02 -3.21561355e-01 -3.20488201e-01\n",
      "  -3.38969868e-01 -3.37065801e-01 -3.26242292e-01 -3.26463576e-01\n",
      "  -3.39392866e-01 -3.38064132e-01 -1.78824913e-04  1.20548844e-03\n",
      "   1.10119766e-02  8.52738425e-03  1.53233244e-02 -2.38507086e-02\n",
      "   3.31459022e-04 -5.14436742e-04  8.53898100e-05 -1.09917965e-02\n",
      "  -8.25539473e-03 -8.68595021e-04  1.84146176e-03  4.24191165e-03\n",
      "   2.53708550e-03 -2.28987669e-05  3.12205463e-03  2.60445864e-04\n",
      "   4.98178645e-04 -1.67421854e-03  9.03194253e-04  1.92000496e-04\n",
      "   3.77306952e-04  9.15643917e-04 -1.73042985e-03 -6.09431829e-05\n",
      "   3.28042455e-03  4.43980432e-03  1.19403889e-03  9.26133668e-06\n",
      "  -1.09356171e-03 -1.35886212e-05 -1.15641945e-04 -7.74900409e-05\n",
      "  -4.18935213e-04  1.93659435e-03 -2.65732153e-07  4.37918146e-05\n",
      "  -3.71851128e-04  3.49424202e-02 -3.49424202e-02 -6.43382496e-05\n",
      "  -8.60777184e-03 -4.65623333e-03 -3.04413229e-04  6.39027682e-03\n",
      "   3.90031293e-03 -3.43584465e-03  1.87343052e-03  9.32494283e-06\n",
      "  -4.92869213e-04 -2.47082378e-04  1.17643408e-04  3.29631880e-03\n",
      "  -7.22795792e-04  2.01734980e-03  9.26691456e-04  1.94112016e-03\n",
      "  -1.94112016e-03 -6.24060530e-04 -4.69398469e-05  2.50382868e-03\n",
      "  -7.55506004e-04 -1.05707770e-03  1.97113312e-02  2.83510415e-03\n",
      "  -7.48169060e-04  3.14576055e-05 -1.17977988e-03 -3.72192166e-04\n",
      "  -1.01899502e-03  5.78900934e-04 -7.39349158e-06  5.13858478e-05\n",
      "  -3.27007990e-05 -3.29579856e-04  1.21846133e-05 -5.43355516e-04\n",
      "   2.00809461e-03 -8.87276871e-05 -1.15291488e-03 -6.39386737e-04\n",
      "  -2.07561119e-04  3.55706692e-04 -5.97810302e-05 -1.15487803e-03\n",
      "  -1.16457381e-02 -4.75263918e-04  7.03648404e-04  2.11450114e-03\n",
      "   3.89885384e-04 -6.22155610e-03 -1.61794437e-03 -5.22671607e-04\n",
      "  -3.26726473e-04 -4.67129325e-04  3.25067031e-03 -2.44123193e-03\n",
      "  -1.44346634e-02  1.06569540e-02  1.41103852e-02 -2.76318935e-02\n",
      "   1.84410764e-02 -1.69981494e-03  2.38187168e-03  5.84915425e-05\n",
      "   2.38213659e-03 -5.07398201e-03  4.82689198e-04 -5.36097465e-04\n",
      "  -1.17505486e-04  1.15302079e-03  5.65088366e-04  2.49950387e-04\n",
      "   2.21641413e-04 -1.34408822e-03 -1.76958414e-03  1.31243186e-03\n",
      "   1.95111473e-03  1.12084680e-04 -8.67917958e-04 -4.95152767e-04\n",
      "  -5.61151529e-05  1.13558557e-03  1.96970989e-04  7.51873272e-04\n",
      "   1.55324527e-03 -7.12999329e-04 -2.27298140e-03 -1.80846119e-03\n",
      "  -1.20034864e-03  3.24430724e-04  1.28460757e-03 -1.23431698e-04\n",
      "  -1.02361323e-03  3.40067588e-04  6.93307504e-04 -2.27811723e-04\n",
      "   2.27998490e-04 -5.63567394e-04  2.36594982e-03  4.13659172e-03\n",
      "   1.98343992e-03 -3.81037112e-05 -6.81244882e-05  9.06492886e-04\n",
      "   1.08552920e-03  3.53932814e-03 -4.96586392e-03 -4.19085017e-03\n",
      "  -8.64202756e-03 -1.22099964e-02  4.34395584e-03  5.19766660e-03\n",
      "   3.33259103e-03 -1.53695121e-03 -1.06380186e-03 -7.47041315e-04\n",
      "   3.58858119e-03  3.54620168e-03  5.48791650e-02 -5.48791650e-02]\n",
      " [-5.28350166e-01 -6.62587400e-01  4.04302883e-02 -3.79331411e-03\n",
      "  -1.38738896e-01 -1.66147775e-01  5.91871645e-02  1.55204511e-02\n",
      "  -8.32971396e-02 -1.11982441e-01  7.02200075e-04  9.19582170e-05\n",
      "  -4.17085316e-02 -1.48890464e-02 -6.28642526e-02  7.77532990e-02\n",
      "  -4.21046706e-04  8.83815131e-04 -1.63201681e-04  3.74334650e-02\n",
      "   5.30538868e-02  4.74848638e-02 -8.43926220e-02 -4.74257508e-03\n",
      "  -6.20157442e-03  1.06996547e-06 -4.30529582e-03 -4.44756318e-04\n",
      "  -4.16503625e-04 -1.19757334e-02  1.00991291e-02 -3.90436165e-04\n",
      "  -1.23779151e-03 -7.43040603e-03 -8.25912788e-03 -1.49701043e-05\n",
      "  -5.23497841e-03 -2.27601281e-02  3.56229991e-04 -2.18243952e-05\n",
      "   1.47795416e-02 -3.63324040e-03 -5.75369231e-04 -2.68089670e-04\n",
      "   1.05192527e-02 -1.12122522e-02 -1.14339327e-05 -4.11475553e-04\n",
      "  -8.64214449e-05 -1.89028618e-01  1.89028618e-01 -1.95241451e-04\n",
      "   2.08924241e-03  1.16401765e-02 -1.21390442e-04 -4.62941404e-03\n",
      "  -1.10484693e-02 -1.20672277e-02 -3.34579284e-03  7.69767735e-04\n",
      "   2.24587806e-03  6.39974087e-04 -6.18098108e-04  1.65227358e-03\n",
      "   9.29013316e-03  5.04236250e-03 -1.34417418e-03  1.01879530e-02\n",
      "  -1.01879530e-02  1.34108521e-03 -9.46520279e-04  1.42786987e-02\n",
      "   7.85676579e-03 -7.25325533e-03 -1.32673753e-02 -1.92660687e-03\n",
      "   6.12023947e-06  1.45143773e-04 -1.14241422e-03 -1.15014137e-03\n",
      "  -1.07601247e-04  1.14351508e-04 -1.44015378e-04  1.69708010e-03\n",
      "   2.64688607e-05 -1.21803484e-04  5.71274072e-04  3.15525659e-03\n",
      "  -5.80801290e-03  1.71778161e-04  1.06551141e-03  3.77622463e-04\n",
      "   2.35171760e-04 -2.95846353e-03 -1.51621721e-05 -1.65077353e-03\n",
      "   5.13296871e-02  1.12691729e-04 -1.48306399e-03 -8.99798430e-03\n",
      "  -4.15399717e-04 -2.98967506e-02 -1.47555854e-03 -1.93771116e-03\n",
      "  -1.86633713e-04 -1.59945984e-03 -1.45263714e-02 -7.90652172e-04\n",
      "   3.84907138e-02 -1.48126366e-02 -3.36218923e-02  7.53264750e-02\n",
      "  -4.44088680e-02 -2.35005308e-02 -7.88695097e-03  6.34394421e-03\n",
      "  -7.11577720e-03  2.65025464e-02 -7.72479433e-04 -2.42974069e-03\n",
      "  -1.05795064e-03  1.84466602e-03  4.03516798e-03  6.72850823e-04\n",
      "  -1.55368129e-03 -8.96403942e-04 -3.86034466e-03 -1.24438685e-03\n",
      "  -3.88550096e-04  2.13506641e-03 -2.41526009e-03 -3.31855392e-03\n",
      "  -2.68759843e-03 -2.54688306e-03  6.74734938e-04  2.41535224e-03\n",
      "   2.66249808e-03  1.19354691e-03  4.21599652e-03  1.70537091e-03\n",
      "  -1.55579939e-03  3.48385024e-03 -1.99048946e-03  1.58050118e-03\n",
      "  -3.24118396e-04 -5.31078459e-04  9.39356837e-04 -5.94401263e-04\n",
      "   6.08760986e-04  1.22376522e-03  2.50684444e-03 -9.80687678e-04\n",
      "   3.07381692e-04  2.13954031e-03 -1.65176816e-03 -7.53424570e-06\n",
      "  -3.53078791e-04  1.17709731e-03 -1.97801565e-03  5.28227276e-03\n",
      "  -2.72745765e-03 -1.68534849e-02  3.85062174e-03 -3.39263490e-03\n",
      "   2.04817075e-03  4.49141285e-03 -2.16653251e-03  9.37460002e-05\n",
      "   5.93180653e-03  1.05853493e-03  2.16786529e-01 -2.16786529e-01]]\n"
     ]
    }
   ],
   "source": [
    "print(\"Explained variance ratio : \")\n",
    "print(sklearn_pca.explained_variance_ratio_)\n",
    "print(\"\\nPrinccipal Ccomponents : \")\n",
    "print(sklearn_pca.components_)"
   ]
  },
  {
   "cell_type": "markdown",
   "id": "7e31cb76",
   "metadata": {},
   "source": [
    "<h1>Part 2: Machine Learning</h1>"
   ]
  },
  {
   "cell_type": "markdown",
   "id": "a333611b",
   "metadata": {},
   "source": [
    "First, we import the needed librairies"
   ]
  },
  {
   "cell_type": "code",
   "execution_count": 44,
   "id": "22fe4424",
   "metadata": {},
   "outputs": [],
   "source": [
    "# model training\n",
    "from sklearn.model_selection import train_test_split\n",
    "# metrics\n",
    "from sklearn.metrics import accuracy_score\n",
    "from sklearn.metrics import f1_score # F1-score\n",
    "\n",
    "from sklearn.neighbors import KNeighborsClassifier # KNN\n",
    "from sklearn.svm import SVC # SVM\n",
    "from sklearn.linear_model import LogisticRegression # logistic regression"
   ]
  },
  {
   "cell_type": "markdown",
   "id": "66e53783",
   "metadata": {},
   "source": [
    "Let's define our x and y columns"
   ]
  },
  {
   "cell_type": "code",
   "execution_count": 65,
   "id": "fc9455f6",
   "metadata": {},
   "outputs": [],
   "source": [
    "x = df.drop(columns=['IsBadBuy'])\n",
    "y = df['IsBadBuy']"
   ]
  },
  {
   "cell_type": "markdown",
   "id": "9fb792f7",
   "metadata": {},
   "source": [
    "now split our data into test set (25%) and train set (75%)"
   ]
  },
  {
   "cell_type": "code",
   "execution_count": 66,
   "id": "b106a994",
   "metadata": {},
   "outputs": [],
   "source": [
    "x_train, x_test, y_train, y_test = train_test_split(x, y, test_size = 0.25, random_state=0)"
   ]
  },
  {
   "cell_type": "markdown",
   "id": "f574f964",
   "metadata": {},
   "source": [
    "Let's apply ML algotithms on our splited data"
   ]
  },
  {
   "cell_type": "code",
   "execution_count": 67,
   "id": "34ef78c2",
   "metadata": {},
   "outputs": [],
   "source": [
    "IsBadBuy_train_acc = []\n",
    "IsBadBuy_test_acc = []"
   ]
  },
  {
   "cell_type": "markdown",
   "id": "1a26f669",
   "metadata": {},
   "source": [
    "### Logistic regression"
   ]
  },
  {
   "cell_type": "code",
   "execution_count": 68,
   "id": "0c02fcfa",
   "metadata": {},
   "outputs": [
    {
     "name": "stdout",
     "output_type": "stream",
     "text": [
      "\ttraining set\n",
      "accuracy : 0.8767619443098715\n",
      "f1-score : 0.819505850157617\n",
      "\ttest set\n",
      "accuracy : 0.875916955017301\n",
      "f1-score : 0.8183113077481056\n"
     ]
    }
   ],
   "source": [
    "# Logistic regression\n",
    "LR = LogisticRegression()\n",
    "LR.fit(x_train, y_train);\n",
    "# calculating metrics for training set\n",
    "logReg_train_acc = LR.score(x_train,y_train) # or accuracy_score(y_test,LR.predict(x_test))\n",
    "logReg_train_f1 = f1_score(y_train, LR.predict(x_train), average='weighted')\n",
    "# calculating metrics for test set\n",
    "logReg_test_acc = LR.score(x_test,y_test) # or accuracy_score(y_test,LR.predict(x_test))\n",
    "logReg_test_f1 = f1_score(y_test, LR.predict(x_test), average='weighted')\n",
    "# append the calculated scores to their lists\n",
    "IsBadBuy_train_acc.append(logReg_train_acc)\n",
    "IsBadBuy_test_acc.append(logReg_test_acc)\n",
    "\n",
    "print('\\ttraining set')\n",
    "print('accuracy :', logReg_train_acc)\n",
    "print('f1-score :', logReg_train_f1)\n",
    "print('\\ttest set')\n",
    "print('accuracy :', logReg_test_acc)\n",
    "print('f1-score :', logReg_test_f1)"
   ]
  },
  {
   "cell_type": "markdown",
   "id": "057be9ee",
   "metadata": {},
   "source": [
    "### Support Vector machine\n"
   ]
  },
  {
   "cell_type": "code",
   "execution_count": 69,
   "id": "de7f37ee",
   "metadata": {},
   "outputs": [
    {
     "name": "stdout",
     "output_type": "stream",
     "text": [
      "\ttraining set\n",
      "accuracy : 0.8768080836044017\n",
      "f1-score : 0.81944002730463\n",
      "\ttest set\n",
      "accuracy : 0.8760553633217993\n",
      "f1-score : 0.818246775628315\n"
     ]
    }
   ],
   "source": [
    "# Support Vector Machine\n",
    "SVM = SVC()\n",
    "SVM.fit(x_train, y_train, sample_weight=None)\n",
    "# calculating metrics for training set\n",
    "svm_train_acc = SVM.score(x_train,y_train) # or accuracy_score(y_test,LR.predict(x_test))\n",
    "svm_train_f1 = f1_score(y_train, SVM.predict(x_train), average='weighted')\n",
    "# calculating metrics for test set\n",
    "svm_test_acc = SVM.score(x_test,y_test) # or accuracy_score(y_test,LR.predict(x_test))\n",
    "svm_test_f1 = f1_score(y_test, SVM.predict(x_test), average='weighted')\n",
    "# append the calculated scores to their lists\n",
    "IsBadBuy_train_acc.append(svm_train_acc)\n",
    "IsBadBuy_test_acc.append(svm_test_acc)\n",
    "\n",
    "print('\\ttraining set')\n",
    "print('accuracy :', svm_train_acc)\n",
    "print('f1-score :', svm_train_f1)\n",
    "print('\\ttest set')\n",
    "print('accuracy :', svm_test_acc)\n",
    "print('f1-score :', svm_test_f1)"
   ]
  },
  {
   "cell_type": "markdown",
   "id": "4a2710d9",
   "metadata": {},
   "source": [
    "### Nearest neighbors\n"
   ]
  },
  {
   "cell_type": "code",
   "execution_count": 70,
   "id": "cef40885",
   "metadata": {},
   "outputs": [
    {
     "name": "stdout",
     "output_type": "stream",
     "text": [
      "\ttraining set\n",
      "accuracy : 0.8824832168316147\n",
      "f1-score : 0.8365471864847921\n",
      "\ttest set\n",
      "accuracy : 0.8705190311418685\n",
      "f1-score : 0.8200185183353857\n"
     ]
    }
   ],
   "source": [
    "# K-Nearest neighbors\n",
    "Kneigh = KNeighborsClassifier(n_neighbors=4)\n",
    "Kneigh.fit(x_train, y_train)\n",
    "# calculating metrics for training set\n",
    "knn_train_acc = Kneigh.score(x_train,y_train) # or accuracy_score(y_test,LR.predict(x_test))\n",
    "knn_train_f1 = f1_score(y_train, Kneigh.predict(x_train), average='weighted')\n",
    "# calculating metrics for test set\n",
    "knn_test_acc = Kneigh.score(x_test,y_test) # or accuracy_score(y_test,LR.predict(x_test))\n",
    "knn_test_f1 = f1_score(y_test, Kneigh.predict(x_test), average='weighted')\n",
    "# append the calculated scores to their lists\n",
    "IsBadBuy_train_acc.append(knn_train_acc)\n",
    "IsBadBuy_test_acc.append(knn_test_acc)\n",
    "\n",
    "print('\\ttraining set')\n",
    "print('accuracy :', knn_train_acc)\n",
    "print('f1-score :', knn_train_f1)\n",
    "print('\\ttest set')\n",
    "print('accuracy :', knn_test_acc)\n",
    "print('f1-score :', knn_test_f1)"
   ]
  },
  {
   "cell_type": "markdown",
   "id": "d0cbb89b",
   "metadata": {},
   "source": [
    "### Deep Neural Network"
   ]
  },
  {
   "cell_type": "code",
   "execution_count": 71,
   "id": "5561c46c",
   "metadata": {},
   "outputs": [],
   "source": [
    "# importing librairies\n",
    "import tensorflow as tf"
   ]
  },
  {
   "cell_type": "markdown",
   "id": "8e3ab0ae",
   "metadata": {},
   "source": [
    "#### Creating 'features Column' for TensorFlow"
   ]
  },
  {
   "cell_type": "code",
   "execution_count": 72,
   "id": "c214f17a",
   "metadata": {},
   "outputs": [],
   "source": [
    "def create_feature_column():\n",
    "    feature_column = []\n",
    "    col_list = x.columns.tolist()\n",
    "    for col in col_list:\n",
    "        col = tf.feature_column.numeric_column(col)\n",
    "        #globals()[\"feat_{col}\"] = tf.feature_column.numeric_column(col)\n",
    "        feature_column.append(col)\n",
    "\n",
    "    return feature_column"
   ]
  },
  {
   "cell_type": "code",
   "execution_count": 73,
   "id": "89a5959b",
   "metadata": {},
   "outputs": [],
   "source": [
    "feature_column = create_feature_column()"
   ]
  },
  {
   "cell_type": "markdown",
   "id": "3acdc78e",
   "metadata": {},
   "source": [
    "##### Model construction\n",
    "\n",
    "DNN network with 3 levels with 512, 256, 128 units respectively.\n"
   ]
  },
  {
   "cell_type": "code",
   "execution_count": 74,
   "id": "194da34f",
   "metadata": {
    "scrolled": false
   },
   "outputs": [
    {
     "name": "stdout",
     "output_type": "stream",
     "text": [
      "INFO:tensorflow:Using default config.\n",
      "WARNING:tensorflow:Using temporary folder as model directory: C:\\Users\\asus\\AppData\\Local\\Temp\\tmpb01hye2l\n",
      "INFO:tensorflow:Using config: {'_model_dir': 'C:\\\\Users\\\\asus\\\\AppData\\\\Local\\\\Temp\\\\tmpb01hye2l', '_tf_random_seed': None, '_save_summary_steps': 100, '_save_checkpoints_steps': None, '_save_checkpoints_secs': 600, '_session_config': allow_soft_placement: true\n",
      "graph_options {\n",
      "  rewrite_options {\n",
      "    meta_optimizer_iterations: ONE\n",
      "  }\n",
      "}\n",
      ", '_keep_checkpoint_max': 5, '_keep_checkpoint_every_n_hours': 10000, '_log_step_count_steps': 100, '_train_distribute': None, '_device_fn': None, '_protocol': None, '_eval_distribute': None, '_experimental_distribute': None, '_experimental_max_worker_delay_secs': None, '_session_creation_timeout_secs': 7200, '_checkpoint_save_graph_def': True, '_service': None, '_cluster_spec': ClusterSpec({}), '_task_type': 'worker', '_task_id': 0, '_global_id_in_cluster': 0, '_master': '', '_evaluation_master': '', '_is_chief': True, '_num_ps_replicas': 0, '_num_worker_replicas': 1}\n"
     ]
    }
   ],
   "source": [
    "dnnmodel = tf.compat.v1.estimator.DNNClassifier(hidden_units = [512, 256, 128],\n",
    "                                                feature_columns = feature_column,\n",
    "                                                n_classes=2,\n",
    "                                                activation_fn=tf.nn.softmax,\n",
    "                                                dropout=None,\n",
    "                                                optimizer = tf.compat.v1.train.AdamOptimizer (learning_rate=0.001))"
   ]
  },
  {
   "cell_type": "markdown",
   "id": "ef03adcf",
   "metadata": {},
   "source": [
    "##### DNN Model training\n",
    "\n",
    "Creating input data according to TensorFlow Model"
   ]
  },
  {
   "cell_type": "code",
   "execution_count": 75,
   "id": "2148ec9b",
   "metadata": {
    "scrolled": true
   },
   "outputs": [
    {
     "name": "stdout",
     "output_type": "stream",
     "text": [
      "INFO:tensorflow:Calling model_fn.\n",
      "INFO:tensorflow:Done calling model_fn.\n",
      "INFO:tensorflow:Create CheckpointSaverHook.\n",
      "INFO:tensorflow:Graph was finalized.\n",
      "INFO:tensorflow:Running local_init_op.\n",
      "INFO:tensorflow:Done running local_init_op.\n",
      "INFO:tensorflow:Calling checkpoint listeners before saving checkpoint 0...\n",
      "INFO:tensorflow:Saving checkpoints for 0 into C:\\Users\\asus\\AppData\\Local\\Temp\\tmpb01hye2l\\model.ckpt.\n",
      "INFO:tensorflow:Calling checkpoint listeners after saving checkpoint 0...\n",
      "INFO:tensorflow:loss = 34.32645, step = 0\n",
      "INFO:tensorflow:global_step/sec: 55.7343\n",
      "INFO:tensorflow:loss = 31.993507, step = 100 (1.796 sec)\n",
      "INFO:tensorflow:global_step/sec: 56.5289\n",
      "INFO:tensorflow:loss = 25.952871, step = 200 (1.770 sec)\n",
      "INFO:tensorflow:global_step/sec: 58.9557\n",
      "INFO:tensorflow:loss = 25.852842, step = 300 (1.695 sec)\n",
      "INFO:tensorflow:global_step/sec: 59.7021\n",
      "INFO:tensorflow:loss = 25.817291, step = 400 (1.677 sec)\n",
      "INFO:tensorflow:global_step/sec: 56.4352\n",
      "INFO:tensorflow:loss = 22.05572, step = 500 (1.770 sec)\n",
      "INFO:tensorflow:global_step/sec: 60.0327\n",
      "INFO:tensorflow:loss = 18.835619, step = 600 (1.666 sec)\n",
      "INFO:tensorflow:global_step/sec: 56.7018\n",
      "INFO:tensorflow:loss = 16.512856, step = 700 (1.764 sec)\n",
      "INFO:tensorflow:global_step/sec: 60.1824\n",
      "INFO:tensorflow:loss = 18.258846, step = 800 (1.663 sec)\n",
      "INFO:tensorflow:global_step/sec: 56.9497\n",
      "INFO:tensorflow:loss = 17.72128, step = 900 (1.756 sec)\n",
      "INFO:tensorflow:global_step/sec: 60.425\n",
      "INFO:tensorflow:loss = 12.713101, step = 1000 (1.654 sec)\n",
      "INFO:tensorflow:global_step/sec: 59.9019\n",
      "INFO:tensorflow:loss = 18.72323, step = 1100 (1.671 sec)\n",
      "INFO:tensorflow:global_step/sec: 56.7193\n",
      "INFO:tensorflow:loss = 15.155656, step = 1200 (1.763 sec)\n",
      "INFO:tensorflow:global_step/sec: 59.7759\n",
      "INFO:tensorflow:loss = 16.727938, step = 1300 (1.672 sec)\n",
      "INFO:tensorflow:global_step/sec: 57.1906\n",
      "INFO:tensorflow:loss = 18.441423, step = 1400 (1.749 sec)\n",
      "INFO:tensorflow:global_step/sec: 60.2179\n",
      "INFO:tensorflow:loss = 16.577045, step = 1500 (1.661 sec)\n",
      "INFO:tensorflow:global_step/sec: 60.228\n",
      "INFO:tensorflow:loss = 20.258259, step = 1600 (1.661 sec)\n",
      "INFO:tensorflow:global_step/sec: 56.8892\n",
      "INFO:tensorflow:loss = 14.627569, step = 1700 (1.757 sec)\n",
      "INFO:tensorflow:global_step/sec: 59.5686\n",
      "INFO:tensorflow:loss = 22.193268, step = 1800 (1.679 sec)\n",
      "INFO:tensorflow:global_step/sec: 60.1631\n",
      "INFO:tensorflow:loss = 14.5361395, step = 1900 (1.662 sec)\n",
      "INFO:tensorflow:global_step/sec: 58.2483\n",
      "INFO:tensorflow:loss = 16.417465, step = 2000 (1.717 sec)\n",
      "INFO:tensorflow:global_step/sec: 56.0104\n",
      "INFO:tensorflow:loss = 26.111942, step = 2100 (1.785 sec)\n",
      "INFO:tensorflow:global_step/sec: 60.0268\n",
      "INFO:tensorflow:loss = 16.40676, step = 2200 (1.667 sec)\n",
      "INFO:tensorflow:global_step/sec: 56.7666\n",
      "INFO:tensorflow:loss = 12.5337305, step = 2300 (1.763 sec)\n",
      "INFO:tensorflow:global_step/sec: 60.2554\n",
      "INFO:tensorflow:loss = 20.29195, step = 2400 (1.659 sec)\n",
      "INFO:tensorflow:global_step/sec: 57.0299\n",
      "INFO:tensorflow:loss = 24.228632, step = 2500 (1.752 sec)\n",
      "INFO:tensorflow:global_step/sec: 60.2181\n",
      "INFO:tensorflow:loss = 14.425665, step = 2600 (1.662 sec)\n",
      "INFO:tensorflow:global_step/sec: 57.9948\n",
      "INFO:tensorflow:loss = 26.213573, step = 2700 (1.725 sec)\n",
      "INFO:tensorflow:global_step/sec: 56.6485\n",
      "INFO:tensorflow:loss = 10.574027, step = 2800 (1.764 sec)\n",
      "INFO:tensorflow:global_step/sec: 59.8395\n",
      "INFO:tensorflow:loss = 16.369389, step = 2900 (1.672 sec)\n",
      "INFO:tensorflow:global_step/sec: 59.3896\n",
      "INFO:tensorflow:loss = 10.512598, step = 3000 (1.683 sec)\n",
      "INFO:tensorflow:global_step/sec: 53.7051\n",
      "INFO:tensorflow:loss = 16.394344, step = 3100 (1.863 sec)\n",
      "INFO:tensorflow:global_step/sec: 59.7503\n",
      "INFO:tensorflow:loss = 8.64844, step = 3200 (1.673 sec)\n",
      "INFO:tensorflow:global_step/sec: 55.4508\n",
      "INFO:tensorflow:loss = 24.219486, step = 3300 (1.804 sec)\n",
      "INFO:tensorflow:global_step/sec: 58.5614\n",
      "INFO:tensorflow:loss = 14.418266, step = 3400 (1.708 sec)\n",
      "INFO:tensorflow:global_step/sec: 60.2941\n",
      "INFO:tensorflow:loss = 14.394432, step = 3500 (1.659 sec)\n",
      "INFO:tensorflow:global_step/sec: 56.5646\n",
      "INFO:tensorflow:loss = 16.393747, step = 3600 (1.767 sec)\n",
      "INFO:tensorflow:global_step/sec: 59.9092\n",
      "INFO:tensorflow:loss = 14.442226, step = 3700 (1.670 sec)\n",
      "INFO:tensorflow:global_step/sec: 56.2915\n",
      "INFO:tensorflow:loss = 20.319874, step = 3800 (1.777 sec)\n",
      "INFO:tensorflow:global_step/sec: 59.9861\n",
      "INFO:tensorflow:loss = 22.277637, step = 3900 (1.667 sec)\n",
      "INFO:tensorflow:global_step/sec: 60.4731\n",
      "INFO:tensorflow:loss = 18.349653, step = 4000 (1.654 sec)\n",
      "INFO:tensorflow:global_step/sec: 56.62\n",
      "INFO:tensorflow:loss = 12.5058365, step = 4100 (1.766 sec)\n",
      "INFO:tensorflow:global_step/sec: 60.4745\n",
      "INFO:tensorflow:loss = 32.066433, step = 4200 (1.653 sec)\n",
      "INFO:tensorflow:global_step/sec: 60.3572\n",
      "INFO:tensorflow:loss = 22.289753, step = 4300 (1.657 sec)\n",
      "INFO:tensorflow:global_step/sec: 56.4644\n",
      "INFO:tensorflow:loss = 20.332426, step = 4400 (1.772 sec)\n",
      "INFO:tensorflow:global_step/sec: 58.7645\n",
      "INFO:tensorflow:loss = 12.484556, step = 4500 (1.702 sec)\n",
      "INFO:tensorflow:global_step/sec: 56.1857\n",
      "INFO:tensorflow:loss = 24.260391, step = 4600 (1.779 sec)\n",
      "INFO:tensorflow:global_step/sec: 59.8571\n",
      "INFO:tensorflow:loss = 20.308722, step = 4700 (1.671 sec)\n",
      "INFO:tensorflow:global_step/sec: 60.0074\n",
      "INFO:tensorflow:loss = 20.308378, step = 4800 (1.666 sec)\n",
      "INFO:tensorflow:global_step/sec: 57.0022\n",
      "INFO:tensorflow:loss = 14.459924, step = 4900 (1.755 sec)\n",
      "INFO:tensorflow:Calling checkpoint listeners before saving checkpoint 5000...\n",
      "INFO:tensorflow:Saving checkpoints for 5000 into C:\\Users\\asus\\AppData\\Local\\Temp\\tmpb01hye2l\\model.ckpt.\n",
      "INFO:tensorflow:Calling checkpoint listeners after saving checkpoint 5000...\n",
      "INFO:tensorflow:Loss for final step: 33.875443.\n"
     ]
    },
    {
     "data": {
      "text/plain": [
       "<tensorflow_estimator.python.estimator.canned.dnn.DNNClassifier at 0x2319031d4f0>"
      ]
     },
     "execution_count": 75,
     "metadata": {},
     "output_type": "execute_result"
    }
   ],
   "source": [
    "input_func = tf.compat.v1.estimator.inputs.pandas_input_fn(x_train,\n",
    "                                                          y_train,\n",
    "                                                          batch_size=50,\n",
    "                                                          num_epochs=1000,\n",
    "                                                          shuffle=False)\n",
    "\n",
    "dnnmodel.train(input_fn=input_func, steps=5000)"
   ]
  },
  {
   "cell_type": "markdown",
   "id": "dc3cdb03",
   "metadata": {},
   "source": [
    "#### Model Evaluation\n",
    "\n",
    "Creating evaluation data according to TensorFlow Model"
   ]
  },
  {
   "cell_type": "code",
   "execution_count": 76,
   "id": "f5c4307b",
   "metadata": {
    "scrolled": true
   },
   "outputs": [
    {
     "name": "stdout",
     "output_type": "stream",
     "text": [
      "INFO:tensorflow:Calling model_fn.\n",
      "WARNING:tensorflow:Trapezoidal rule is known to produce incorrect PR-AUCs; please switch to \"careful_interpolation\" instead.\n",
      "WARNING:tensorflow:Trapezoidal rule is known to produce incorrect PR-AUCs; please switch to \"careful_interpolation\" instead.\n",
      "INFO:tensorflow:Done calling model_fn.\n",
      "INFO:tensorflow:Starting evaluation at 2022-04-03T00:42:39\n",
      "INFO:tensorflow:Graph was finalized.\n",
      "INFO:tensorflow:Restoring parameters from C:\\Users\\asus\\AppData\\Local\\Temp\\tmpb01hye2l\\model.ckpt-5000\n",
      "INFO:tensorflow:Running local_init_op.\n",
      "INFO:tensorflow:Done running local_init_op.\n",
      "INFO:tensorflow:Inference Time : 14.69520s\n",
      "INFO:tensorflow:Finished evaluation at 2022-04-03-00:42:54\n",
      "INFO:tensorflow:Saving dict for global step 5000: accuracy = 0.8766235, accuracy_baseline = 0.8766235, auc = 0.5, auc_precision_recall = 0.56168824, average_loss = 0.37362146, global_step = 5000, label/mean = 0.123376474, loss = 18.679781, precision = 0.0, prediction/mean = 0.12562427, recall = 0.0\n",
      "INFO:tensorflow:Saving 'checkpoint_path' summary for global step 5000: C:\\Users\\asus\\AppData\\Local\\Temp\\tmpb01hye2l\\model.ckpt-5000\n",
      "INFO:tensorflow:Calling model_fn.\n",
      "WARNING:tensorflow:Trapezoidal rule is known to produce incorrect PR-AUCs; please switch to \"careful_interpolation\" instead.\n",
      "WARNING:tensorflow:Trapezoidal rule is known to produce incorrect PR-AUCs; please switch to \"careful_interpolation\" instead.\n",
      "INFO:tensorflow:Done calling model_fn.\n",
      "INFO:tensorflow:Starting evaluation at 2022-04-03T00:42:55\n",
      "INFO:tensorflow:Graph was finalized.\n",
      "INFO:tensorflow:Restoring parameters from C:\\Users\\asus\\AppData\\Local\\Temp\\tmpb01hye2l\\model.ckpt-5000\n",
      "INFO:tensorflow:Running local_init_op.\n",
      "INFO:tensorflow:Done running local_init_op.\n",
      "INFO:tensorflow:Inference Time : 5.57692s\n",
      "INFO:tensorflow:Finished evaluation at 2022-04-03-00:43:01\n",
      "INFO:tensorflow:Saving dict for global step 5000: accuracy = 0.87598616, accuracy_baseline = 0.87598616, auc = 0.5, auc_precision_recall = 0.56200695, average_loss = 0.3748584, global_step = 5000, label/mean = 0.12401384, loss = 18.74292, precision = 0.0, prediction/mean = 0.12562312, recall = 0.0\n",
      "INFO:tensorflow:Saving 'checkpoint_path' summary for global step 5000: C:\\Users\\asus\\AppData\\Local\\Temp\\tmpb01hye2l\\model.ckpt-5000\n"
     ]
    },
    {
     "data": {
      "text/plain": [
       "{'accuracy': 0.87598616,\n",
       " 'accuracy_baseline': 0.87598616,\n",
       " 'auc': 0.5,\n",
       " 'auc_precision_recall': 0.56200695,\n",
       " 'average_loss': 0.3748584,\n",
       " 'label/mean': 0.12401384,\n",
       " 'loss': 18.74292,\n",
       " 'precision': 0.0,\n",
       " 'prediction/mean': 0.12562312,\n",
       " 'recall': 0.0,\n",
       " 'global_step': 5000}"
      ]
     },
     "execution_count": 76,
     "metadata": {},
     "output_type": "execute_result"
    }
   ],
   "source": [
    "# evalution function for the training set\n",
    "train_eval_func = tf.compat.v1.estimator.inputs.pandas_input_fn (x_train,\n",
    "                                                           y_train,\n",
    "                                                           batch_size=50,\n",
    "                                                           num_epochs=1,\n",
    "                                                           shuffle=False)\n",
    "\n",
    "\n",
    "# evalution function for the test set\n",
    "test_eval_func = tf.compat.v1.estimator.inputs.pandas_input_fn (x_test,\n",
    "                                                           y_test,\n",
    "                                                           batch_size=50,\n",
    "                                                           num_epochs=1,\n",
    "                                                           shuffle=False)\n",
    "\n",
    "dnnmodel_eval_train = dnnmodel.evaluate(train_eval_func)\n",
    "dnnmodel_eval_test = dnnmodel.evaluate(test_eval_func)\n",
    "\n",
    "# adding accuracies to their lists\n",
    "IsBadBuy_train_acc.append(dnnmodel_eval_train['accuracy'])\n",
    "IsBadBuy_test_acc.append(dnnmodel_eval_test['accuracy'])\n",
    "# printing evaluation model for the test set\n",
    "dnnmodel_eval_test"
   ]
  },
  {
   "cell_type": "markdown",
   "id": "c769400a",
   "metadata": {},
   "source": [
    "#### Conclusion"
   ]
  },
  {
   "cell_type": "code",
   "execution_count": 77,
   "id": "eabbb96b",
   "metadata": {
    "scrolled": true
   },
   "outputs": [
    {
     "name": "stdout",
     "output_type": "stream",
     "text": [
      "              train accuracy  test accuracy  acc_mean\n",
      "Model                                                \n",
      "Logistic Reg        0.876762       0.875917      0.88\n",
      "KNN                 0.876808       0.876055      0.88\n",
      "SVM                 0.882483       0.870519      0.88\n",
      "DNN                 0.876624       0.875986      0.88\n",
      "avg                 0.878169       0.874619      0.88\n"
     ]
    },
    {
     "name": "stderr",
     "output_type": "stream",
     "text": [
      "C:\\Users\\asus\\AppData\\Local\\Temp/ipykernel_18328/1758705002.py:7: FutureWarning: Dropping of nuisance columns in DataFrame reductions (with 'numeric_only=None') is deprecated; in a future version this will raise TypeError.  Select only valid columns before calling the reduction.\n",
      "  accuracy_record['acc_mean'] = accuracy_record.mean(axis=1).round(2)\n"
     ]
    }
   ],
   "source": [
    "# generating our scores dataframe\n",
    "model_names = ['Logistic Reg','KNN','SVM','DNN']\n",
    "accuracy_record = pd.DataFrame({'Model': model_names,\n",
    "                                'train accuracy':IsBadBuy_train_acc,\n",
    "                                'test accuracy': IsBadBuy_test_acc,\n",
    "                                })\n",
    "accuracy_record['acc_mean'] = accuracy_record.mean(axis=1).round(2)\n",
    "accuracy_record.set_index('Model', inplace=True)\n",
    "accuracy_record.loc['avg'] = accuracy_record.mean()\n",
    "\n",
    "print(accuracy_record)"
   ]
  },
  {
   "cell_type": "markdown",
   "id": "0e48adbf",
   "metadata": {},
   "source": [
    "As we can see all the used (ML/DL) algorithms have aproximatively an accuracy of 87% on both the training set and the test set.\n",
    "\n",
    "The obtained accuracy is relatively good since our data and predictions aren't of some critical order (life or death manners). and 87% accuracy to determine whether a car sale is bad or not is still good. However, we can improve the accuracy by a larger and more precise dataset."
   ]
  },
  {
   "cell_type": "markdown",
   "id": "7cc10ea5",
   "metadata": {},
   "source": [
    "### Polynomial Regression on **VehBCost**"
   ]
  },
  {
   "cell_type": "markdown",
   "id": "1f3d34c0",
   "metadata": {},
   "source": [
    "Let's consider the **VehBCost** column the target data of this dataset and analyze vehicle price learning based on a regression model."
   ]
  },
  {
   "cell_type": "markdown",
   "id": "8afd38a5",
   "metadata": {},
   "source": [
    "Let's define our new x and y columns"
   ]
  },
  {
   "cell_type": "code",
   "execution_count": 59,
   "id": "24b0781a",
   "metadata": {},
   "outputs": [],
   "source": [
    "x1 = df.drop(columns=['VehBCost'])\n",
    "y1 = df['VehBCost']"
   ]
  },
  {
   "cell_type": "markdown",
   "id": "ed2813fa",
   "metadata": {},
   "source": [
    "now split our data into test set (20%) and train set (80%)\n"
   ]
  },
  {
   "cell_type": "code",
   "execution_count": 60,
   "id": "a5a9be22",
   "metadata": {},
   "outputs": [],
   "source": [
    "x_train1, x_test1, y_train1, y_test1 = train_test_split(x1, y1, test_size = 0.20, random_state=0)"
   ]
  },
  {
   "cell_type": "markdown",
   "id": "6e83bbc3",
   "metadata": {},
   "source": [
    "let's apply the polynomial  regression algorithm"
   ]
  },
  {
   "cell_type": "code",
   "execution_count": 67,
   "id": "b7a8e858",
   "metadata": {},
   "outputs": [],
   "source": [
    "# importing librairies\n",
    "from sklearn.preprocessing import PolynomialFeatures\n",
    "from sklearn.linear_model import LinearRegression\n",
    "import numpy as np\n",
    "from sklearn.metrics import mean_squared_error, r2_score"
   ]
  },
  {
   "cell_type": "code",
   "execution_count": 68,
   "id": "b9227f8a",
   "metadata": {},
   "outputs": [
    {
     "data": {
      "text/plain": [
       "LinearRegression()"
      ]
     },
     "execution_count": 68,
     "metadata": {},
     "output_type": "execute_result"
    }
   ],
   "source": [
    "poly_features = PolynomialFeatures(degree=2)\n",
    "\n",
    "# transforms the existing features to higher degree features.\n",
    "X_train_poly = poly_features.fit_transform(x_train1)\n",
    "  \n",
    "# fit the transformed features to Linear Regression\n",
    "poly_model = LinearRegression()\n",
    "poly_model.fit(X_train_poly, y_train1)"
   ]
  },
  {
   "cell_type": "code",
   "execution_count": 69,
   "id": "3fb7bcce",
   "metadata": {},
   "outputs": [],
   "source": [
    "# predicting on training data-set\n",
    "y_train_predicted = poly_model.predict(X_train_poly)\n",
    "  \n",
    "# predicting on test data-set\n",
    "y_test_predict = poly_model.predict(poly_features.fit_transform(x_test1))"
   ]
  },
  {
   "cell_type": "code",
   "execution_count": 70,
   "id": "508dc7fc",
   "metadata": {},
   "outputs": [
    {
     "name": "stdout",
     "output_type": "stream",
     "text": [
      "The model performance for the training set\n",
      "-------------------------------------------\n",
      "RMSE of training set is 551.5584325928986\n",
      "R2 score of training set is 0.9017607114282129\n",
      "\n",
      "\n",
      "The model performance for the test set\n",
      "-------------------------------------------\n",
      "RMSE of test set is 2032.7745297705028\n",
      "R2 score of test set is -0.3476332402951656\n"
     ]
    }
   ],
   "source": [
    "# evaluating the model on training dataset\n",
    "rmse_train = np.sqrt(mean_squared_error(y_train1, y_train_predicted))\n",
    "r2_train = r2_score(y_train1, y_train_predicted)\n",
    "  \n",
    "# evaluating the model on test dataset\n",
    "rmse_test = np.sqrt(mean_squared_error(y_test1, y_test_predict))\n",
    "r2_test = r2_score(y_test1, y_test_predict)\n",
    "  \n",
    "print(\"The model performance for the training set\")\n",
    "print(\"-------------------------------------------\")\n",
    "print(\"RMSE of training set is {}\".format(rmse_train))\n",
    "print(\"R2 score of training set is {}\".format(r2_train))\n",
    "  \n",
    "print(\"\\n\")\n",
    "\n",
    "print(\"The model performance for the test set\")\n",
    "print(\"---------------------------------------\")\n",
    "print(\"RMSE of test set is {}\".format(rmse_test))\n",
    "print(\"R2 score of test set is {}\".format(r2_test))"
   ]
  }
 ],
 "metadata": {
  "kernelspec": {
   "display_name": "Python 3 (ipykernel)",
   "language": "python",
   "name": "python3"
  },
  "language_info": {
   "codemirror_mode": {
    "name": "ipython",
    "version": 3
   },
   "file_extension": ".py",
   "mimetype": "text/x-python",
   "name": "python",
   "nbconvert_exporter": "python",
   "pygments_lexer": "ipython3",
   "version": "3.9.7"
  }
 },
 "nbformat": 4,
 "nbformat_minor": 5
}
