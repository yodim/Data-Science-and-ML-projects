{
 "cells": [
  {
   "cell_type": "markdown",
   "id": "8983fb43",
   "metadata": {},
   "source": [
    "# Cleaning AirBnB dataset using Python \n"
   ]
  },
  {
   "cell_type": "markdown",
   "id": "0b8fd854",
   "metadata": {},
   "source": [
    "<div>The used dataset can be found <a href=\"https://drive.google.com/file/d/118znfkAm0ZUaE00QnA550i4mASgdO7Ys/view?usp=sharing\">here</a>. </div>"
   ]
  },
  {
   "cell_type": "markdown",
   "id": "c7b296f7",
   "metadata": {},
   "source": [
    "## Let's get to know our dataset !"
   ]
  },
  {
   "cell_type": "code",
   "execution_count": 7,
   "id": "17a96743",
   "metadata": {},
   "outputs": [
    {
     "name": "stdout",
     "output_type": "stream",
     "text": [
      "H:\\Documents\\INPT\\INE2\\S4\\Data mining & warehousing\\data_prepar\n"
     ]
    }
   ],
   "source": [
    "# getting the current working directory\n",
    "import os\n",
    "\n",
    "print(os.getcwd())"
   ]
  },
  {
   "cell_type": "code",
   "execution_count": 8,
   "id": "d07e0cd8",
   "metadata": {},
   "outputs": [
    {
     "name": "stdout",
     "output_type": "stream",
     "text": [
      "['.ipynb_checkpoints', 'airbnb.csv', 'airbnb_cleaning.ipynb', 'Cleaning_Data_in_Python.ipynb', 'DataReduction__PCA.ipynb', 'mammals.csv', 'Sampling Methods.ipynb']\n"
     ]
    }
   ],
   "source": [
    "# getting the files in the current directory\n",
    "print(os.listdir())"
   ]
  },
  {
   "cell_type": "code",
   "execution_count": 1,
   "id": "aaba22c0",
   "metadata": {},
   "outputs": [],
   "source": [
    "# importing libraries\n",
    "import pandas as pd"
   ]
  },
  {
   "cell_type": "code",
   "execution_count": 2,
   "id": "6b098525",
   "metadata": {},
   "outputs": [],
   "source": [
    "# reading the dataset we want\n",
    "airbnb_ds = pd.read_csv('airbnb.csv')"
   ]
  },
  {
   "cell_type": "code",
   "execution_count": 11,
   "id": "49a086c6",
   "metadata": {
    "scrolled": false
   },
   "outputs": [
    {
     "data": {
      "text/html": [
       "<div>\n",
       "<style scoped>\n",
       "    .dataframe tbody tr th:only-of-type {\n",
       "        vertical-align: middle;\n",
       "    }\n",
       "\n",
       "    .dataframe tbody tr th {\n",
       "        vertical-align: top;\n",
       "    }\n",
       "\n",
       "    .dataframe thead th {\n",
       "        text-align: right;\n",
       "    }\n",
       "</style>\n",
       "<table border=\"1\" class=\"dataframe\">\n",
       "  <thead>\n",
       "    <tr style=\"text-align: right;\">\n",
       "      <th></th>\n",
       "      <th>Unnamed: 0</th>\n",
       "      <th>listing_id</th>\n",
       "      <th>name</th>\n",
       "      <th>host_id</th>\n",
       "      <th>host_name</th>\n",
       "      <th>neighbourhood_full</th>\n",
       "      <th>coordinates</th>\n",
       "      <th>room_type</th>\n",
       "      <th>price</th>\n",
       "      <th>number_of_reviews</th>\n",
       "      <th>last_review</th>\n",
       "      <th>reviews_per_month</th>\n",
       "      <th>availability_365</th>\n",
       "      <th>rating</th>\n",
       "      <th>number_of_stays</th>\n",
       "      <th>5_stars</th>\n",
       "      <th>listing_added</th>\n",
       "    </tr>\n",
       "  </thead>\n",
       "  <tbody>\n",
       "    <tr>\n",
       "      <th>0</th>\n",
       "      <td>0</td>\n",
       "      <td>13740704</td>\n",
       "      <td>Cozy,budget friendly, cable inc, private entra...</td>\n",
       "      <td>20583125</td>\n",
       "      <td>Michel</td>\n",
       "      <td>Brooklyn, Flatlands</td>\n",
       "      <td>(40.63222, -73.93398)</td>\n",
       "      <td>Private room</td>\n",
       "      <td>45$</td>\n",
       "      <td>10</td>\n",
       "      <td>2018-12-12</td>\n",
       "      <td>0.70</td>\n",
       "      <td>85</td>\n",
       "      <td>4.100954</td>\n",
       "      <td>12.0</td>\n",
       "      <td>0.609432</td>\n",
       "      <td>2018-06-08</td>\n",
       "    </tr>\n",
       "    <tr>\n",
       "      <th>1</th>\n",
       "      <td>1</td>\n",
       "      <td>22005115</td>\n",
       "      <td>Two floor apartment near Central Park</td>\n",
       "      <td>82746113</td>\n",
       "      <td>Cecilia</td>\n",
       "      <td>Manhattan, Upper West Side</td>\n",
       "      <td>(40.78761, -73.96862)</td>\n",
       "      <td>Entire home/apt</td>\n",
       "      <td>135$</td>\n",
       "      <td>1</td>\n",
       "      <td>2019-06-30</td>\n",
       "      <td>1.00</td>\n",
       "      <td>145</td>\n",
       "      <td>3.367600</td>\n",
       "      <td>1.2</td>\n",
       "      <td>0.746135</td>\n",
       "      <td>2018-12-25</td>\n",
       "    </tr>\n",
       "    <tr>\n",
       "      <th>2</th>\n",
       "      <td>2</td>\n",
       "      <td>21667615</td>\n",
       "      <td>Beautiful 1BR in Brooklyn Heights</td>\n",
       "      <td>78251</td>\n",
       "      <td>Leslie</td>\n",
       "      <td>Brooklyn, Brooklyn Heights</td>\n",
       "      <td>(40.7007, -73.99517)</td>\n",
       "      <td>Entire home/apt</td>\n",
       "      <td>150$</td>\n",
       "      <td>0</td>\n",
       "      <td>NaN</td>\n",
       "      <td>NaN</td>\n",
       "      <td>65</td>\n",
       "      <td>NaN</td>\n",
       "      <td>NaN</td>\n",
       "      <td>NaN</td>\n",
       "      <td>2018-08-15</td>\n",
       "    </tr>\n",
       "    <tr>\n",
       "      <th>3</th>\n",
       "      <td>3</td>\n",
       "      <td>6425850</td>\n",
       "      <td>Spacious, charming studio</td>\n",
       "      <td>32715865</td>\n",
       "      <td>Yelena</td>\n",
       "      <td>Manhattan, Upper West Side</td>\n",
       "      <td>(40.79169, -73.97498)</td>\n",
       "      <td>Entire home/apt</td>\n",
       "      <td>86$</td>\n",
       "      <td>5</td>\n",
       "      <td>2017-09-23</td>\n",
       "      <td>0.13</td>\n",
       "      <td>0</td>\n",
       "      <td>4.763203</td>\n",
       "      <td>6.0</td>\n",
       "      <td>0.769947</td>\n",
       "      <td>2017-03-20</td>\n",
       "    </tr>\n",
       "    <tr>\n",
       "      <th>4</th>\n",
       "      <td>4</td>\n",
       "      <td>22986519</td>\n",
       "      <td>Bedroom on the lively Lower East Side</td>\n",
       "      <td>154262349</td>\n",
       "      <td>Brooke</td>\n",
       "      <td>Manhattan, Lower East Side</td>\n",
       "      <td>(40.71884, -73.98354)</td>\n",
       "      <td>Private room</td>\n",
       "      <td>160$</td>\n",
       "      <td>23</td>\n",
       "      <td>2019-06-12</td>\n",
       "      <td>2.29</td>\n",
       "      <td>102</td>\n",
       "      <td>3.822591</td>\n",
       "      <td>27.6</td>\n",
       "      <td>0.649383</td>\n",
       "      <td>2020-10-23</td>\n",
       "    </tr>\n",
       "  </tbody>\n",
       "</table>\n",
       "</div>"
      ],
      "text/plain": [
       "   Unnamed: 0  listing_id                                               name  \\\n",
       "0           0    13740704  Cozy,budget friendly, cable inc, private entra...   \n",
       "1           1    22005115              Two floor apartment near Central Park   \n",
       "2           2    21667615                  Beautiful 1BR in Brooklyn Heights   \n",
       "3           3     6425850                          Spacious, charming studio   \n",
       "4           4    22986519              Bedroom on the lively Lower East Side   \n",
       "\n",
       "     host_id host_name          neighbourhood_full            coordinates  \\\n",
       "0   20583125    Michel         Brooklyn, Flatlands  (40.63222, -73.93398)   \n",
       "1   82746113   Cecilia  Manhattan, Upper West Side  (40.78761, -73.96862)   \n",
       "2      78251    Leslie  Brooklyn, Brooklyn Heights   (40.7007, -73.99517)   \n",
       "3   32715865    Yelena  Manhattan, Upper West Side  (40.79169, -73.97498)   \n",
       "4  154262349    Brooke  Manhattan, Lower East Side  (40.71884, -73.98354)   \n",
       "\n",
       "         room_type price  number_of_reviews last_review  reviews_per_month  \\\n",
       "0     Private room   45$                 10  2018-12-12               0.70   \n",
       "1  Entire home/apt  135$                  1  2019-06-30               1.00   \n",
       "2  Entire home/apt  150$                  0         NaN                NaN   \n",
       "3  Entire home/apt   86$                  5  2017-09-23               0.13   \n",
       "4     Private room  160$                 23  2019-06-12               2.29   \n",
       "\n",
       "   availability_365    rating  number_of_stays   5_stars listing_added  \n",
       "0                85  4.100954             12.0  0.609432    2018-06-08  \n",
       "1               145  3.367600              1.2  0.746135    2018-12-25  \n",
       "2                65       NaN              NaN       NaN    2018-08-15  \n",
       "3                 0  4.763203              6.0  0.769947    2017-03-20  \n",
       "4               102  3.822591             27.6  0.649383    2020-10-23  "
      ]
     },
     "execution_count": 11,
     "metadata": {},
     "output_type": "execute_result"
    }
   ],
   "source": [
    "# head() function takes the number of lines you wanna show as an argument\n",
    "airbnb_ds.head(5)"
   ]
  },
  {
   "cell_type": "code",
   "execution_count": 12,
   "id": "12ff252d",
   "metadata": {},
   "outputs": [
    {
     "name": "stdout",
     "output_type": "stream",
     "text": [
      "<class 'pandas.core.frame.DataFrame'>\n",
      "RangeIndex: 10019 entries, 0 to 10018\n",
      "Data columns (total 17 columns):\n",
      " #   Column              Non-Null Count  Dtype  \n",
      "---  ------              --------------  -----  \n",
      " 0   Unnamed: 0          10019 non-null  int64  \n",
      " 1   listing_id          10019 non-null  int64  \n",
      " 2   name                10014 non-null  object \n",
      " 3   host_id             10019 non-null  int64  \n",
      " 4   host_name           10017 non-null  object \n",
      " 5   neighbourhood_full  10019 non-null  object \n",
      " 6   coordinates         10019 non-null  object \n",
      " 7   room_type           10019 non-null  object \n",
      " 8   price               9781 non-null   object \n",
      " 9   number_of_reviews   10019 non-null  int64  \n",
      " 10  last_review         7944 non-null   object \n",
      " 11  reviews_per_month   7944 non-null   float64\n",
      " 12  availability_365    10019 non-null  int64  \n",
      " 13  rating              7944 non-null   float64\n",
      " 14  number_of_stays     7944 non-null   float64\n",
      " 15  5_stars             7944 non-null   float64\n",
      " 16  listing_added       10019 non-null  object \n",
      "dtypes: float64(4), int64(5), object(8)\n",
      "memory usage: 1.3+ MB\n"
     ]
    }
   ],
   "source": [
    "# info() \n",
    "airbnb_ds.info()"
   ]
  },
  {
   "cell_type": "code",
   "execution_count": 13,
   "id": "de44b70c",
   "metadata": {},
   "outputs": [
    {
     "data": {
      "text/plain": [
       "(10019, 17)"
      ]
     },
     "execution_count": 13,
     "metadata": {},
     "output_type": "execute_result"
    }
   ],
   "source": [
    "# shape\n",
    "airbnb_ds.shape"
   ]
  },
  {
   "cell_type": "code",
   "execution_count": 20,
   "id": "e2c663fa",
   "metadata": {},
   "outputs": [
    {
     "data": {
      "text/html": [
       "<div>\n",
       "<style scoped>\n",
       "    .dataframe tbody tr th:only-of-type {\n",
       "        vertical-align: middle;\n",
       "    }\n",
       "\n",
       "    .dataframe tbody tr th {\n",
       "        vertical-align: top;\n",
       "    }\n",
       "\n",
       "    .dataframe thead th {\n",
       "        text-align: right;\n",
       "    }\n",
       "</style>\n",
       "<table border=\"1\" class=\"dataframe\">\n",
       "  <thead>\n",
       "    <tr style=\"text-align: right;\">\n",
       "      <th></th>\n",
       "      <th>Unnamed: 0</th>\n",
       "      <th>listing_id</th>\n",
       "      <th>host_id</th>\n",
       "      <th>number_of_reviews</th>\n",
       "      <th>reviews_per_month</th>\n",
       "      <th>availability_365</th>\n",
       "      <th>rating</th>\n",
       "      <th>number_of_stays</th>\n",
       "      <th>5_stars</th>\n",
       "    </tr>\n",
       "  </thead>\n",
       "  <tbody>\n",
       "    <tr>\n",
       "      <th>count</th>\n",
       "      <td>10019.000000</td>\n",
       "      <td>1.001900e+04</td>\n",
       "      <td>1.001900e+04</td>\n",
       "      <td>10019.000000</td>\n",
       "      <td>7944.000000</td>\n",
       "      <td>10019.000000</td>\n",
       "      <td>7944.000000</td>\n",
       "      <td>7944.000000</td>\n",
       "      <td>7944.000000</td>\n",
       "    </tr>\n",
       "    <tr>\n",
       "      <th>mean</th>\n",
       "      <td>5009.000000</td>\n",
       "      <td>1.927634e+07</td>\n",
       "      <td>6.795923e+07</td>\n",
       "      <td>22.459727</td>\n",
       "      <td>1.353894</td>\n",
       "      <td>112.284260</td>\n",
       "      <td>4.014458</td>\n",
       "      <td>33.991541</td>\n",
       "      <td>0.718599</td>\n",
       "    </tr>\n",
       "    <tr>\n",
       "      <th>std</th>\n",
       "      <td>2892.380507</td>\n",
       "      <td>1.095056e+07</td>\n",
       "      <td>7.863106e+07</td>\n",
       "      <td>43.173896</td>\n",
       "      <td>1.615380</td>\n",
       "      <td>131.636043</td>\n",
       "      <td>0.575064</td>\n",
       "      <td>56.089279</td>\n",
       "      <td>0.079978</td>\n",
       "    </tr>\n",
       "    <tr>\n",
       "      <th>min</th>\n",
       "      <td>0.000000</td>\n",
       "      <td>3.831000e+03</td>\n",
       "      <td>2.787000e+03</td>\n",
       "      <td>0.000000</td>\n",
       "      <td>0.010000</td>\n",
       "      <td>0.000000</td>\n",
       "      <td>3.000633</td>\n",
       "      <td>1.200000</td>\n",
       "      <td>0.600026</td>\n",
       "    </tr>\n",
       "    <tr>\n",
       "      <th>25%</th>\n",
       "      <td>2504.500000</td>\n",
       "      <td>9.674772e+06</td>\n",
       "      <td>7.910880e+06</td>\n",
       "      <td>1.000000</td>\n",
       "      <td>0.200000</td>\n",
       "      <td>0.000000</td>\n",
       "      <td>3.520443</td>\n",
       "      <td>3.600000</td>\n",
       "      <td>0.655576</td>\n",
       "    </tr>\n",
       "    <tr>\n",
       "      <th>50%</th>\n",
       "      <td>5009.000000</td>\n",
       "      <td>2.007030e+07</td>\n",
       "      <td>3.165167e+07</td>\n",
       "      <td>5.000000</td>\n",
       "      <td>0.710000</td>\n",
       "      <td>44.000000</td>\n",
       "      <td>4.027965</td>\n",
       "      <td>10.800000</td>\n",
       "      <td>0.709768</td>\n",
       "    </tr>\n",
       "    <tr>\n",
       "      <th>75%</th>\n",
       "      <td>7513.500000</td>\n",
       "      <td>2.933864e+07</td>\n",
       "      <td>1.074344e+08</td>\n",
       "      <td>22.000000</td>\n",
       "      <td>2.000000</td>\n",
       "      <td>226.000000</td>\n",
       "      <td>4.516378</td>\n",
       "      <td>38.400000</td>\n",
       "      <td>0.763978</td>\n",
       "    </tr>\n",
       "    <tr>\n",
       "      <th>max</th>\n",
       "      <td>10018.000000</td>\n",
       "      <td>3.648724e+07</td>\n",
       "      <td>2.741034e+08</td>\n",
       "      <td>510.000000</td>\n",
       "      <td>16.220000</td>\n",
       "      <td>365.000000</td>\n",
       "      <td>5.181114</td>\n",
       "      <td>612.000000</td>\n",
       "      <td>0.950339</td>\n",
       "    </tr>\n",
       "  </tbody>\n",
       "</table>\n",
       "</div>"
      ],
      "text/plain": [
       "         Unnamed: 0    listing_id       host_id  number_of_reviews  \\\n",
       "count  10019.000000  1.001900e+04  1.001900e+04       10019.000000   \n",
       "mean    5009.000000  1.927634e+07  6.795923e+07          22.459727   \n",
       "std     2892.380507  1.095056e+07  7.863106e+07          43.173896   \n",
       "min        0.000000  3.831000e+03  2.787000e+03           0.000000   \n",
       "25%     2504.500000  9.674772e+06  7.910880e+06           1.000000   \n",
       "50%     5009.000000  2.007030e+07  3.165167e+07           5.000000   \n",
       "75%     7513.500000  2.933864e+07  1.074344e+08          22.000000   \n",
       "max    10018.000000  3.648724e+07  2.741034e+08         510.000000   \n",
       "\n",
       "       reviews_per_month  availability_365       rating  number_of_stays  \\\n",
       "count        7944.000000      10019.000000  7944.000000      7944.000000   \n",
       "mean            1.353894        112.284260     4.014458        33.991541   \n",
       "std             1.615380        131.636043     0.575064        56.089279   \n",
       "min             0.010000          0.000000     3.000633         1.200000   \n",
       "25%             0.200000          0.000000     3.520443         3.600000   \n",
       "50%             0.710000         44.000000     4.027965        10.800000   \n",
       "75%             2.000000        226.000000     4.516378        38.400000   \n",
       "max            16.220000        365.000000     5.181114       612.000000   \n",
       "\n",
       "           5_stars  \n",
       "count  7944.000000  \n",
       "mean      0.718599  \n",
       "std       0.079978  \n",
       "min       0.600026  \n",
       "25%       0.655576  \n",
       "50%       0.709768  \n",
       "75%       0.763978  \n",
       "max       0.950339  "
      ]
     },
     "execution_count": 20,
     "metadata": {},
     "output_type": "execute_result"
    }
   ],
   "source": [
    "# describe() function gives a disc of all the columns\n",
    "airbnb_ds.describe()"
   ]
  },
  {
   "cell_type": "code",
   "execution_count": 21,
   "id": "7afa8729",
   "metadata": {},
   "outputs": [
    {
     "data": {
      "text/html": [
       "<div>\n",
       "<style scoped>\n",
       "    .dataframe tbody tr th:only-of-type {\n",
       "        vertical-align: middle;\n",
       "    }\n",
       "\n",
       "    .dataframe tbody tr th {\n",
       "        vertical-align: top;\n",
       "    }\n",
       "\n",
       "    .dataframe thead th {\n",
       "        text-align: right;\n",
       "    }\n",
       "</style>\n",
       "<table border=\"1\" class=\"dataframe\">\n",
       "  <thead>\n",
       "    <tr style=\"text-align: right;\">\n",
       "      <th></th>\n",
       "      <th>Unnamed: 0</th>\n",
       "      <th>listing_id</th>\n",
       "      <th>name</th>\n",
       "      <th>host_id</th>\n",
       "      <th>host_name</th>\n",
       "      <th>neighbourhood_full</th>\n",
       "      <th>coordinates</th>\n",
       "      <th>room_type</th>\n",
       "      <th>price</th>\n",
       "      <th>number_of_reviews</th>\n",
       "      <th>last_review</th>\n",
       "      <th>reviews_per_month</th>\n",
       "      <th>availability_365</th>\n",
       "      <th>rating</th>\n",
       "      <th>number_of_stays</th>\n",
       "      <th>5_stars</th>\n",
       "      <th>listing_added</th>\n",
       "    </tr>\n",
       "  </thead>\n",
       "  <tbody>\n",
       "    <tr>\n",
       "      <th>0</th>\n",
       "      <td>False</td>\n",
       "      <td>False</td>\n",
       "      <td>False</td>\n",
       "      <td>False</td>\n",
       "      <td>False</td>\n",
       "      <td>False</td>\n",
       "      <td>False</td>\n",
       "      <td>False</td>\n",
       "      <td>False</td>\n",
       "      <td>False</td>\n",
       "      <td>False</td>\n",
       "      <td>False</td>\n",
       "      <td>False</td>\n",
       "      <td>False</td>\n",
       "      <td>False</td>\n",
       "      <td>False</td>\n",
       "      <td>False</td>\n",
       "    </tr>\n",
       "    <tr>\n",
       "      <th>1</th>\n",
       "      <td>False</td>\n",
       "      <td>False</td>\n",
       "      <td>False</td>\n",
       "      <td>False</td>\n",
       "      <td>False</td>\n",
       "      <td>False</td>\n",
       "      <td>False</td>\n",
       "      <td>False</td>\n",
       "      <td>False</td>\n",
       "      <td>False</td>\n",
       "      <td>False</td>\n",
       "      <td>False</td>\n",
       "      <td>False</td>\n",
       "      <td>False</td>\n",
       "      <td>False</td>\n",
       "      <td>False</td>\n",
       "      <td>False</td>\n",
       "    </tr>\n",
       "    <tr>\n",
       "      <th>2</th>\n",
       "      <td>False</td>\n",
       "      <td>False</td>\n",
       "      <td>False</td>\n",
       "      <td>False</td>\n",
       "      <td>False</td>\n",
       "      <td>False</td>\n",
       "      <td>False</td>\n",
       "      <td>False</td>\n",
       "      <td>False</td>\n",
       "      <td>False</td>\n",
       "      <td>True</td>\n",
       "      <td>True</td>\n",
       "      <td>False</td>\n",
       "      <td>True</td>\n",
       "      <td>True</td>\n",
       "      <td>True</td>\n",
       "      <td>False</td>\n",
       "    </tr>\n",
       "    <tr>\n",
       "      <th>3</th>\n",
       "      <td>False</td>\n",
       "      <td>False</td>\n",
       "      <td>False</td>\n",
       "      <td>False</td>\n",
       "      <td>False</td>\n",
       "      <td>False</td>\n",
       "      <td>False</td>\n",
       "      <td>False</td>\n",
       "      <td>False</td>\n",
       "      <td>False</td>\n",
       "      <td>False</td>\n",
       "      <td>False</td>\n",
       "      <td>False</td>\n",
       "      <td>False</td>\n",
       "      <td>False</td>\n",
       "      <td>False</td>\n",
       "      <td>False</td>\n",
       "    </tr>\n",
       "    <tr>\n",
       "      <th>4</th>\n",
       "      <td>False</td>\n",
       "      <td>False</td>\n",
       "      <td>False</td>\n",
       "      <td>False</td>\n",
       "      <td>False</td>\n",
       "      <td>False</td>\n",
       "      <td>False</td>\n",
       "      <td>False</td>\n",
       "      <td>False</td>\n",
       "      <td>False</td>\n",
       "      <td>False</td>\n",
       "      <td>False</td>\n",
       "      <td>False</td>\n",
       "      <td>False</td>\n",
       "      <td>False</td>\n",
       "      <td>False</td>\n",
       "      <td>False</td>\n",
       "    </tr>\n",
       "    <tr>\n",
       "      <th>...</th>\n",
       "      <td>...</td>\n",
       "      <td>...</td>\n",
       "      <td>...</td>\n",
       "      <td>...</td>\n",
       "      <td>...</td>\n",
       "      <td>...</td>\n",
       "      <td>...</td>\n",
       "      <td>...</td>\n",
       "      <td>...</td>\n",
       "      <td>...</td>\n",
       "      <td>...</td>\n",
       "      <td>...</td>\n",
       "      <td>...</td>\n",
       "      <td>...</td>\n",
       "      <td>...</td>\n",
       "      <td>...</td>\n",
       "      <td>...</td>\n",
       "    </tr>\n",
       "    <tr>\n",
       "      <th>10014</th>\n",
       "      <td>False</td>\n",
       "      <td>False</td>\n",
       "      <td>False</td>\n",
       "      <td>False</td>\n",
       "      <td>False</td>\n",
       "      <td>False</td>\n",
       "      <td>False</td>\n",
       "      <td>False</td>\n",
       "      <td>False</td>\n",
       "      <td>False</td>\n",
       "      <td>False</td>\n",
       "      <td>False</td>\n",
       "      <td>False</td>\n",
       "      <td>False</td>\n",
       "      <td>False</td>\n",
       "      <td>False</td>\n",
       "      <td>False</td>\n",
       "    </tr>\n",
       "    <tr>\n",
       "      <th>10015</th>\n",
       "      <td>False</td>\n",
       "      <td>False</td>\n",
       "      <td>False</td>\n",
       "      <td>False</td>\n",
       "      <td>False</td>\n",
       "      <td>False</td>\n",
       "      <td>False</td>\n",
       "      <td>False</td>\n",
       "      <td>False</td>\n",
       "      <td>False</td>\n",
       "      <td>False</td>\n",
       "      <td>False</td>\n",
       "      <td>False</td>\n",
       "      <td>False</td>\n",
       "      <td>False</td>\n",
       "      <td>False</td>\n",
       "      <td>False</td>\n",
       "    </tr>\n",
       "    <tr>\n",
       "      <th>10016</th>\n",
       "      <td>False</td>\n",
       "      <td>False</td>\n",
       "      <td>False</td>\n",
       "      <td>False</td>\n",
       "      <td>False</td>\n",
       "      <td>False</td>\n",
       "      <td>False</td>\n",
       "      <td>False</td>\n",
       "      <td>False</td>\n",
       "      <td>False</td>\n",
       "      <td>False</td>\n",
       "      <td>False</td>\n",
       "      <td>False</td>\n",
       "      <td>False</td>\n",
       "      <td>False</td>\n",
       "      <td>False</td>\n",
       "      <td>False</td>\n",
       "    </tr>\n",
       "    <tr>\n",
       "      <th>10017</th>\n",
       "      <td>False</td>\n",
       "      <td>False</td>\n",
       "      <td>False</td>\n",
       "      <td>False</td>\n",
       "      <td>False</td>\n",
       "      <td>False</td>\n",
       "      <td>False</td>\n",
       "      <td>False</td>\n",
       "      <td>False</td>\n",
       "      <td>False</td>\n",
       "      <td>False</td>\n",
       "      <td>False</td>\n",
       "      <td>False</td>\n",
       "      <td>False</td>\n",
       "      <td>False</td>\n",
       "      <td>False</td>\n",
       "      <td>False</td>\n",
       "    </tr>\n",
       "    <tr>\n",
       "      <th>10018</th>\n",
       "      <td>False</td>\n",
       "      <td>False</td>\n",
       "      <td>False</td>\n",
       "      <td>False</td>\n",
       "      <td>False</td>\n",
       "      <td>False</td>\n",
       "      <td>False</td>\n",
       "      <td>False</td>\n",
       "      <td>False</td>\n",
       "      <td>False</td>\n",
       "      <td>False</td>\n",
       "      <td>False</td>\n",
       "      <td>False</td>\n",
       "      <td>False</td>\n",
       "      <td>False</td>\n",
       "      <td>False</td>\n",
       "      <td>False</td>\n",
       "    </tr>\n",
       "  </tbody>\n",
       "</table>\n",
       "<p>10019 rows × 17 columns</p>\n",
       "</div>"
      ],
      "text/plain": [
       "       Unnamed: 0  listing_id   name  host_id  host_name  neighbourhood_full  \\\n",
       "0           False       False  False    False      False               False   \n",
       "1           False       False  False    False      False               False   \n",
       "2           False       False  False    False      False               False   \n",
       "3           False       False  False    False      False               False   \n",
       "4           False       False  False    False      False               False   \n",
       "...           ...         ...    ...      ...        ...                 ...   \n",
       "10014       False       False  False    False      False               False   \n",
       "10015       False       False  False    False      False               False   \n",
       "10016       False       False  False    False      False               False   \n",
       "10017       False       False  False    False      False               False   \n",
       "10018       False       False  False    False      False               False   \n",
       "\n",
       "       coordinates  room_type  price  number_of_reviews  last_review  \\\n",
       "0            False      False  False              False        False   \n",
       "1            False      False  False              False        False   \n",
       "2            False      False  False              False         True   \n",
       "3            False      False  False              False        False   \n",
       "4            False      False  False              False        False   \n",
       "...            ...        ...    ...                ...          ...   \n",
       "10014        False      False  False              False        False   \n",
       "10015        False      False  False              False        False   \n",
       "10016        False      False  False              False        False   \n",
       "10017        False      False  False              False        False   \n",
       "10018        False      False  False              False        False   \n",
       "\n",
       "       reviews_per_month  availability_365  rating  number_of_stays  5_stars  \\\n",
       "0                  False             False   False            False    False   \n",
       "1                  False             False   False            False    False   \n",
       "2                   True             False    True             True     True   \n",
       "3                  False             False   False            False    False   \n",
       "4                  False             False   False            False    False   \n",
       "...                  ...               ...     ...              ...      ...   \n",
       "10014              False             False   False            False    False   \n",
       "10015              False             False   False            False    False   \n",
       "10016              False             False   False            False    False   \n",
       "10017              False             False   False            False    False   \n",
       "10018              False             False   False            False    False   \n",
       "\n",
       "       listing_added  \n",
       "0              False  \n",
       "1              False  \n",
       "2              False  \n",
       "3              False  \n",
       "4              False  \n",
       "...              ...  \n",
       "10014          False  \n",
       "10015          False  \n",
       "10016          False  \n",
       "10017          False  \n",
       "10018          False  \n",
       "\n",
       "[10019 rows x 17 columns]"
      ]
     },
     "execution_count": 21,
     "metadata": {},
     "output_type": "execute_result"
    }
   ],
   "source": [
    "# isnull() checking the null values\n",
    "airbnb_ds.isnull()"
   ]
  },
  {
   "cell_type": "code",
   "execution_count": 5,
   "id": "cd433d59",
   "metadata": {},
   "outputs": [
    {
     "data": {
      "text/plain": [
       "Unnamed: 0               0\n",
       "listing_id               0\n",
       "name                     5\n",
       "host_id                  0\n",
       "host_name                2\n",
       "neighbourhood_full       0\n",
       "coordinates              0\n",
       "room_type                0\n",
       "price                  238\n",
       "number_of_reviews        0\n",
       "last_review           2075\n",
       "reviews_per_month     2075\n",
       "availability_365         0\n",
       "rating                2075\n",
       "number_of_stays       2075\n",
       "5_stars               2075\n",
       "listing_added            0\n",
       "dtype: int64"
      ]
     },
     "execution_count": 5,
     "metadata": {},
     "output_type": "execute_result"
    }
   ],
   "source": [
    "# isnull() + sum() combinaison\n",
    "airbnb_ds.isnull().sum()"
   ]
  },
  {
   "cell_type": "markdown",
   "id": "92ae5781",
   "metadata": {},
   "source": [
    "## Let's clean our columns"
   ]
  },
  {
   "cell_type": "code",
   "execution_count": 14,
   "id": "c25542b8",
   "metadata": {},
   "outputs": [
    {
     "data": {
      "text/plain": [
       "array(['Private room', 'Entire home/apt', 'Private', 'Shared room',\n",
       "       'PRIVATE ROOM', 'home', '   Shared room      '], dtype=object)"
      ]
     },
     "execution_count": 14,
     "metadata": {},
     "output_type": "execute_result"
    }
   ],
   "source": [
    "# Print unique values of `room_type`\n",
    "airbnb_ds['room_type'].unique()"
   ]
  },
  {
   "cell_type": "code",
   "execution_count": 44,
   "id": "3c67f4a8",
   "metadata": {},
   "outputs": [
    {
     "data": {
      "text/plain": [
       "array(['private room', 'entire home/apt', 'private', 'shared room',\n",
       "       'home'], dtype=object)"
      ]
     },
     "execution_count": 44,
     "metadata": {},
     "output_type": "execute_result"
    }
   ],
   "source": [
    "# let's remove all the white spaces in our columns and then covert them to lower cases\n",
    "airbnb_ds['room_type'] = airbnb_ds['room_type'].str.strip()\n",
    "airbnb_ds['room_type'] = airbnb_ds['room_type'].str.lower()\n",
    "airbnb_ds['room_type'].unique()"
   ]
  },
  {
   "cell_type": "markdown",
   "id": "a4a8bd25",
   "metadata": {},
   "source": [
    "we observe that we have the same types repeated with different names. let's fix it 🤓"
   ]
  },
  {
   "cell_type": "code",
   "execution_count": 45,
   "id": "f5c7a80b",
   "metadata": {},
   "outputs": [
    {
     "data": {
      "text/plain": [
       "array(['Private Room', 'Entire place', 'Shared room'], dtype=object)"
      ]
     },
     "execution_count": 45,
     "metadata": {},
     "output_type": "execute_result"
    }
   ],
   "source": [
    "mappings = {'private room': 'Private Room', \n",
    "            'private': 'Private Room',\n",
    "            'entire home/apt': 'Entire place',\n",
    "            'shared room': 'Shared room',\n",
    "            'home': 'Entire place'}\n",
    "\n",
    "# Replace values and collapse data\n",
    "airbnb_ds['room_type'] = airbnb_ds['room_type'].replace(mappings)\n",
    "airbnb_ds['room_type'].unique()"
   ]
  },
  {
   "cell_type": "markdown",
   "id": "74bac15a",
   "metadata": {},
   "source": [
    "that's good. now we have only 3 types."
   ]
  },
  {
   "cell_type": "markdown",
   "id": "75a5e2c2",
   "metadata": {},
   "source": [
    "now let's convert `listing_added` and `last_review` columns to `datetime`"
   ]
  },
  {
   "cell_type": "code",
   "execution_count": 17,
   "id": "5e6f88ac",
   "metadata": {
    "scrolled": true
   },
   "outputs": [
    {
     "data": {
      "text/plain": [
       "listing_added    object\n",
       "last_review      object\n",
       "dtype: object"
      ]
     },
     "execution_count": 17,
     "metadata": {},
     "output_type": "execute_result"
    }
   ],
   "source": [
    "# Print header of two columns\n",
    "airbnb_ds[['listing_added', 'last_review']].dtypes"
   ]
  },
  {
   "cell_type": "code",
   "execution_count": 65,
   "id": "56cf4deb",
   "metadata": {},
   "outputs": [
    {
     "data": {
      "text/plain": [
       "listing_added    datetime64[ns]\n",
       "last_review      datetime64[ns]\n",
       "dtype: object"
      ]
     },
     "execution_count": 65,
     "metadata": {},
     "output_type": "execute_result"
    }
   ],
   "source": [
    "# Convert both columns to datetime\n",
    "airbnb_ds['listing_added'] = pd.to_datetime(airbnb_ds['listing_added'], format = '%Y-%m-%d')\n",
    "airbnb_ds['last_review'] = pd.to_datetime(airbnb_ds['last_review'], format = '%Y-%m-%d')\n",
    "\n",
    "# Print datatypes of both columns again to verify\n",
    "airbnb_ds[['listing_added', 'last_review']].dtypes"
   ]
  },
  {
   "cell_type": "markdown",
   "id": "71378024",
   "metadata": {},
   "source": [
    "now that we have successfully converted `listing_added` and `last_review` columns to `datetime` object let's change the prices to integers. In other words let's remove the $ sign 🤑"
   ]
  },
  {
   "cell_type": "code",
   "execution_count": 7,
   "id": "1f6bede8",
   "metadata": {},
   "outputs": [
    {
     "data": {
      "text/plain": [
       "0     45.0\n",
       "1    135.0\n",
       "2    150.0\n",
       "3     86.0\n",
       "4    160.0\n",
       "Name: price, dtype: float64"
      ]
     },
     "execution_count": 7,
     "metadata": {},
     "output_type": "execute_result"
    }
   ],
   "source": [
    "# Removing $ from price and converting it to float\n",
    "airbnb_ds['price'] = airbnb_ds['price'].str.strip(\"$\")\n",
    "airbnb_ds['price'] = airbnb_ds['price'].astype('float')\n",
    "\n",
    "# Print header to make sure change was done\n",
    "airbnb_ds['price'].head()"
   ]
  },
  {
   "cell_type": "markdown",
   "id": "55d08e3c",
   "metadata": {},
   "source": [
    "Let's split the `neighbourhood_full` into 2 columns: `borough` and  `neighbourhood`"
   ]
  },
  {
   "cell_type": "code",
   "execution_count": 22,
   "id": "ae59de87",
   "metadata": {},
   "outputs": [
    {
     "data": {
      "text/plain": [
       "0           Brooklyn, Flatlands\n",
       "1    Manhattan, Upper West Side\n",
       "2    Brooklyn, Brooklyn Heights\n",
       "3    Manhattan, Upper West Side\n",
       "4    Manhattan, Lower East Side\n",
       "Name: neighbourhood_full, dtype: object"
      ]
     },
     "execution_count": 22,
     "metadata": {},
     "output_type": "execute_result"
    }
   ],
   "source": [
    "# printing header of column\n",
    "airbnb_ds['neighbourhood_full'].head()"
   ]
  },
  {
   "cell_type": "code",
   "execution_count": 59,
   "id": "97f6a9bd",
   "metadata": {
    "scrolled": true
   },
   "outputs": [
    {
     "name": "stdout",
     "output_type": "stream",
     "text": [
      "<class 'pandas.core.frame.DataFrame'>\n",
      "RangeIndex: 10019 entries, 0 to 10018\n",
      "Data columns (total 18 columns):\n",
      " #   Column             Non-Null Count  Dtype  \n",
      "---  ------             --------------  -----  \n",
      " 0   Unnamed: 0         10019 non-null  int64  \n",
      " 1   listing_id         10019 non-null  int64  \n",
      " 2   name               10014 non-null  object \n",
      " 3   host_id            10019 non-null  int64  \n",
      " 4   host_name          10017 non-null  object \n",
      " 5   coordinates        10019 non-null  object \n",
      " 6   room_type          10019 non-null  object \n",
      " 7   price              9781 non-null   object \n",
      " 8   number_of_reviews  10019 non-null  int64  \n",
      " 9   last_review        7944 non-null   object \n",
      " 10  reviews_per_month  7944 non-null   float64\n",
      " 11  availability_365   10019 non-null  int64  \n",
      " 12  rating             7944 non-null   float64\n",
      " 13  number_of_stays    7944 non-null   float64\n",
      " 14  5_stars            7944 non-null   float64\n",
      " 15  listing_added      10019 non-null  object \n",
      " 16  borough            10019 non-null  object \n",
      " 17  neighbourhood      10019 non-null  object \n",
      "dtypes: float64(4), int64(5), object(9)\n",
      "memory usage: 1.4+ MB\n"
     ]
    }
   ],
   "source": [
    "# spliting neighbourhood_full\n",
    "borough_neighbourhood = airbnb_ds['neighbourhood_full'].str.split(\",\", expand = True)\n",
    "\n",
    "# creating borough and neighbourhood columns\n",
    "airbnb_ds['borough'] = borough_neighbourhood[0]\n",
    "airbnb_ds['neighbourhood'] = borough_neighbourhood[1]\n",
    "\n",
    "# dropping neighbourhood_full column\n",
    "airbnb_ds.drop('neighbourhood_full', axis = 1, inplace = True)\n",
    "\n",
    "# deleting white spaces from neighbourhood column\n",
    "airbnb_ds['neighbourhood'] = airbnb_ds['neighbourhood'].str.strip()\n",
    "\n",
    "# info() \n",
    "airbnb_ds.info()"
   ]
  },
  {
   "cell_type": "markdown",
   "id": "978854e5",
   "metadata": {},
   "source": [
    "### Let's deal with illogical dates "
   ]
  },
  {
   "cell_type": "code",
   "execution_count": 61,
   "id": "5fb9d537",
   "metadata": {},
   "outputs": [],
   "source": [
    "# importing date librairy\n",
    "import datetime as dt"
   ]
  },
  {
   "cell_type": "code",
   "execution_count": 62,
   "id": "0b8b20c6",
   "metadata": {},
   "outputs": [],
   "source": [
    "# getting today's date\n",
    "today = dt.date.today()"
   ]
  },
  {
   "cell_type": "code",
   "execution_count": 66,
   "id": "e1a5f8ac",
   "metadata": {},
   "outputs": [
    {
     "data": {
      "text/html": [
       "<div>\n",
       "<style scoped>\n",
       "    .dataframe tbody tr th:only-of-type {\n",
       "        vertical-align: middle;\n",
       "    }\n",
       "\n",
       "    .dataframe tbody tr th {\n",
       "        vertical-align: top;\n",
       "    }\n",
       "\n",
       "    .dataframe thead th {\n",
       "        text-align: right;\n",
       "    }\n",
       "</style>\n",
       "<table border=\"1\" class=\"dataframe\">\n",
       "  <thead>\n",
       "    <tr style=\"text-align: right;\">\n",
       "      <th></th>\n",
       "      <th>Unnamed: 0</th>\n",
       "      <th>listing_id</th>\n",
       "      <th>name</th>\n",
       "      <th>host_id</th>\n",
       "      <th>host_name</th>\n",
       "      <th>coordinates</th>\n",
       "      <th>room_type</th>\n",
       "      <th>price</th>\n",
       "      <th>number_of_reviews</th>\n",
       "      <th>last_review</th>\n",
       "      <th>reviews_per_month</th>\n",
       "      <th>availability_365</th>\n",
       "      <th>rating</th>\n",
       "      <th>number_of_stays</th>\n",
       "      <th>5_stars</th>\n",
       "      <th>listing_added</th>\n",
       "      <th>borough</th>\n",
       "      <th>neighbourhood</th>\n",
       "    </tr>\n",
       "  </thead>\n",
       "  <tbody>\n",
       "  </tbody>\n",
       "</table>\n",
       "</div>"
      ],
      "text/plain": [
       "Empty DataFrame\n",
       "Columns: [Unnamed: 0, listing_id, name, host_id, host_name, coordinates, room_type, price, number_of_reviews, last_review, reviews_per_month, availability_365, rating, number_of_stays, 5_stars, listing_added, borough, neighbourhood]\n",
       "Index: []"
      ]
     },
     "execution_count": 66,
     "metadata": {},
     "output_type": "execute_result"
    }
   ],
   "source": [
    "# verifying if there are reviews in the future ???\n",
    "airbnb_ds[airbnb_ds['last_review'].dt.date > today]"
   ]
  },
  {
   "cell_type": "markdown",
   "id": "ec3bb575",
   "metadata": {},
   "source": [
    "there aren't any 😏"
   ]
  },
  {
   "cell_type": "code",
   "execution_count": 67,
   "id": "64868b2b",
   "metadata": {},
   "outputs": [
    {
     "data": {
      "text/html": [
       "<div>\n",
       "<style scoped>\n",
       "    .dataframe tbody tr th:only-of-type {\n",
       "        vertical-align: middle;\n",
       "    }\n",
       "\n",
       "    .dataframe tbody tr th {\n",
       "        vertical-align: top;\n",
       "    }\n",
       "\n",
       "    .dataframe thead th {\n",
       "        text-align: right;\n",
       "    }\n",
       "</style>\n",
       "<table border=\"1\" class=\"dataframe\">\n",
       "  <thead>\n",
       "    <tr style=\"text-align: right;\">\n",
       "      <th></th>\n",
       "      <th>Unnamed: 0</th>\n",
       "      <th>listing_id</th>\n",
       "      <th>name</th>\n",
       "      <th>host_id</th>\n",
       "      <th>host_name</th>\n",
       "      <th>coordinates</th>\n",
       "      <th>room_type</th>\n",
       "      <th>price</th>\n",
       "      <th>number_of_reviews</th>\n",
       "      <th>last_review</th>\n",
       "      <th>reviews_per_month</th>\n",
       "      <th>availability_365</th>\n",
       "      <th>rating</th>\n",
       "      <th>number_of_stays</th>\n",
       "      <th>5_stars</th>\n",
       "      <th>listing_added</th>\n",
       "      <th>borough</th>\n",
       "      <th>neighbourhood</th>\n",
       "    </tr>\n",
       "  </thead>\n",
       "  <tbody>\n",
       "  </tbody>\n",
       "</table>\n",
       "</div>"
      ],
      "text/plain": [
       "Empty DataFrame\n",
       "Columns: [Unnamed: 0, listing_id, name, host_id, host_name, coordinates, room_type, price, number_of_reviews, last_review, reviews_per_month, availability_365, rating, number_of_stays, 5_stars, listing_added, borough, neighbourhood]\n",
       "Index: []"
      ]
     },
     "execution_count": 67,
     "metadata": {},
     "output_type": "execute_result"
    }
   ],
   "source": [
    "# verifying if there are listings in the future ???\n",
    "airbnb_ds[airbnb_ds['listing_added'].dt.date > today]"
   ]
  },
  {
   "cell_type": "markdown",
   "id": "2ad374c2",
   "metadata": {},
   "source": [
    "no illogical data for today "
   ]
  },
  {
   "cell_type": "code",
   "execution_count": 70,
   "id": "f22c6507",
   "metadata": {
    "scrolled": true
   },
   "outputs": [
    {
     "data": {
      "text/html": [
       "<div>\n",
       "<style scoped>\n",
       "    .dataframe tbody tr th:only-of-type {\n",
       "        vertical-align: middle;\n",
       "    }\n",
       "\n",
       "    .dataframe tbody tr th {\n",
       "        vertical-align: top;\n",
       "    }\n",
       "\n",
       "    .dataframe thead th {\n",
       "        text-align: right;\n",
       "    }\n",
       "</style>\n",
       "<table border=\"1\" class=\"dataframe\">\n",
       "  <thead>\n",
       "    <tr style=\"text-align: right;\">\n",
       "      <th></th>\n",
       "      <th>Unnamed: 0</th>\n",
       "      <th>listing_id</th>\n",
       "      <th>name</th>\n",
       "      <th>host_id</th>\n",
       "      <th>host_name</th>\n",
       "      <th>coordinates</th>\n",
       "      <th>room_type</th>\n",
       "      <th>price</th>\n",
       "      <th>number_of_reviews</th>\n",
       "      <th>last_review</th>\n",
       "      <th>reviews_per_month</th>\n",
       "      <th>availability_365</th>\n",
       "      <th>rating</th>\n",
       "      <th>number_of_stays</th>\n",
       "      <th>5_stars</th>\n",
       "      <th>listing_added</th>\n",
       "      <th>borough</th>\n",
       "      <th>neighbourhood</th>\n",
       "    </tr>\n",
       "  </thead>\n",
       "  <tbody>\n",
       "    <tr>\n",
       "      <th>4</th>\n",
       "      <td>4</td>\n",
       "      <td>22986519</td>\n",
       "      <td>Bedroom on the lively Lower East Side</td>\n",
       "      <td>154262349</td>\n",
       "      <td>Brooke</td>\n",
       "      <td>(40.71884, -73.98354)</td>\n",
       "      <td>Private room</td>\n",
       "      <td>160$</td>\n",
       "      <td>23</td>\n",
       "      <td>2019-06-12</td>\n",
       "      <td>2.29</td>\n",
       "      <td>102</td>\n",
       "      <td>3.822591</td>\n",
       "      <td>27.6</td>\n",
       "      <td>0.649383</td>\n",
       "      <td>2020-10-23</td>\n",
       "      <td>Manhattan</td>\n",
       "      <td>Lower East Side</td>\n",
       "    </tr>\n",
       "    <tr>\n",
       "      <th>50</th>\n",
       "      <td>50</td>\n",
       "      <td>20783900</td>\n",
       "      <td>Marvelous Manhattan Marble Hill Private Suites</td>\n",
       "      <td>148960265</td>\n",
       "      <td>Randy</td>\n",
       "      <td>(40.87618, -73.91266)</td>\n",
       "      <td>Private room</td>\n",
       "      <td>93$</td>\n",
       "      <td>7</td>\n",
       "      <td>2018-10-06</td>\n",
       "      <td>0.32</td>\n",
       "      <td>0</td>\n",
       "      <td>4.868036</td>\n",
       "      <td>8.4</td>\n",
       "      <td>0.609263</td>\n",
       "      <td>2020-02-17</td>\n",
       "      <td>Manhattan</td>\n",
       "      <td>Marble Hill</td>\n",
       "    </tr>\n",
       "    <tr>\n",
       "      <th>60</th>\n",
       "      <td>60</td>\n",
       "      <td>1908852</td>\n",
       "      <td>Oversized Studio By Columbus Circle</td>\n",
       "      <td>684629</td>\n",
       "      <td>Alana</td>\n",
       "      <td>(40.7706, -73.98919000000002)</td>\n",
       "      <td>Entire home/apt</td>\n",
       "      <td>189$</td>\n",
       "      <td>7</td>\n",
       "      <td>2016-05-06</td>\n",
       "      <td>0.13</td>\n",
       "      <td>0</td>\n",
       "      <td>4.841204</td>\n",
       "      <td>8.4</td>\n",
       "      <td>0.725995</td>\n",
       "      <td>2017-09-17</td>\n",
       "      <td>Manhattan</td>\n",
       "      <td>Upper West Side</td>\n",
       "    </tr>\n",
       "    <tr>\n",
       "      <th>124</th>\n",
       "      <td>124</td>\n",
       "      <td>28659894</td>\n",
       "      <td>Private bedroom in prime Bushwick! Near Trains!!!</td>\n",
       "      <td>216235179</td>\n",
       "      <td>Nina</td>\n",
       "      <td>(40.69988, -73.92071999999997)</td>\n",
       "      <td>Private room</td>\n",
       "      <td>55$</td>\n",
       "      <td>4</td>\n",
       "      <td>2019-04-12</td>\n",
       "      <td>0.58</td>\n",
       "      <td>358</td>\n",
       "      <td>4.916252</td>\n",
       "      <td>4.8</td>\n",
       "      <td>0.703117</td>\n",
       "      <td>2020-08-23</td>\n",
       "      <td>Brooklyn</td>\n",
       "      <td>Bushwick</td>\n",
       "    </tr>\n",
       "    <tr>\n",
       "      <th>511</th>\n",
       "      <td>511</td>\n",
       "      <td>33619855</td>\n",
       "      <td>Modern &amp; Spacious in trendy Crown Heights</td>\n",
       "      <td>253354074</td>\n",
       "      <td>Yehudis</td>\n",
       "      <td>(40.66387, -73.9384)</td>\n",
       "      <td>home</td>\n",
       "      <td>150$</td>\n",
       "      <td>6</td>\n",
       "      <td>2019-05-27</td>\n",
       "      <td>2.50</td>\n",
       "      <td>148</td>\n",
       "      <td>3.462432</td>\n",
       "      <td>7.2</td>\n",
       "      <td>0.610929</td>\n",
       "      <td>2020-10-07</td>\n",
       "      <td>Brooklyn</td>\n",
       "      <td>Crown Heights</td>\n",
       "    </tr>\n",
       "    <tr>\n",
       "      <th>521</th>\n",
       "      <td>521</td>\n",
       "      <td>25317793</td>\n",
       "      <td>Awesome Cozy Room in The Heart of Sunnyside!</td>\n",
       "      <td>136406167</td>\n",
       "      <td>Kara</td>\n",
       "      <td>(40.7409, -73.92696)</td>\n",
       "      <td>Private room</td>\n",
       "      <td>65$</td>\n",
       "      <td>22</td>\n",
       "      <td>2019-06-11</td>\n",
       "      <td>1.63</td>\n",
       "      <td>131</td>\n",
       "      <td>4.442485</td>\n",
       "      <td>26.4</td>\n",
       "      <td>0.722388</td>\n",
       "      <td>2020-10-22</td>\n",
       "      <td>Queens</td>\n",
       "      <td>Sunnyside</td>\n",
       "    </tr>\n",
       "  </tbody>\n",
       "</table>\n",
       "</div>"
      ],
      "text/plain": [
       "     Unnamed: 0  listing_id  \\\n",
       "4             4    22986519   \n",
       "50           50    20783900   \n",
       "60           60     1908852   \n",
       "124         124    28659894   \n",
       "511         511    33619855   \n",
       "521         521    25317793   \n",
       "\n",
       "                                                  name    host_id host_name  \\\n",
       "4                Bedroom on the lively Lower East Side  154262349    Brooke   \n",
       "50      Marvelous Manhattan Marble Hill Private Suites  148960265     Randy   \n",
       "60                 Oversized Studio By Columbus Circle     684629     Alana   \n",
       "124  Private bedroom in prime Bushwick! Near Trains!!!  216235179      Nina   \n",
       "511          Modern & Spacious in trendy Crown Heights  253354074   Yehudis   \n",
       "521       Awesome Cozy Room in The Heart of Sunnyside!  136406167      Kara   \n",
       "\n",
       "                        coordinates        room_type price  number_of_reviews  \\\n",
       "4             (40.71884, -73.98354)     Private room  160$                 23   \n",
       "50            (40.87618, -73.91266)     Private room   93$                  7   \n",
       "60    (40.7706, -73.98919000000002)  Entire home/apt  189$                  7   \n",
       "124  (40.69988, -73.92071999999997)     Private room   55$                  4   \n",
       "511            (40.66387, -73.9384)             home  150$                  6   \n",
       "521            (40.7409, -73.92696)     Private room   65$                 22   \n",
       "\n",
       "    last_review  reviews_per_month  availability_365    rating  \\\n",
       "4    2019-06-12               2.29               102  3.822591   \n",
       "50   2018-10-06               0.32                 0  4.868036   \n",
       "60   2016-05-06               0.13                 0  4.841204   \n",
       "124  2019-04-12               0.58               358  4.916252   \n",
       "511  2019-05-27               2.50               148  3.462432   \n",
       "521  2019-06-11               1.63               131  4.442485   \n",
       "\n",
       "     number_of_stays   5_stars listing_added    borough    neighbourhood  \n",
       "4               27.6  0.649383    2020-10-23  Manhattan  Lower East Side  \n",
       "50               8.4  0.609263    2020-02-17  Manhattan      Marble Hill  \n",
       "60               8.4  0.725995    2017-09-17  Manhattan  Upper West Side  \n",
       "124              4.8  0.703117    2020-08-23   Brooklyn         Bushwick  \n",
       "511              7.2  0.610929    2020-10-07   Brooklyn    Crown Heights  \n",
       "521             26.4  0.722388    2020-10-22     Queens        Sunnyside  "
      ]
     },
     "execution_count": 70,
     "metadata": {},
     "output_type": "execute_result"
    }
   ],
   "source": [
    "# verifying if there are any listings with listing_added > last_review\n",
    "inconsistent_dates = airbnb_ds[airbnb_ds['listing_added'].dt.date > airbnb_ds['last_review'].dt.date]\n",
    "inconsistent_dates"
   ]
  },
  {
   "cell_type": "code",
   "execution_count": 72,
   "id": "52ca6a2d",
   "metadata": {},
   "outputs": [],
   "source": [
    "# let's drop those rows\n",
    "airbnb_ds.drop(inconsistent_dates.index, inplace = True)"
   ]
  },
  {
   "cell_type": "markdown",
   "id": "2e33a60e",
   "metadata": {},
   "source": [
    "### let's deal with missing data"
   ]
  },
  {
   "cell_type": "code",
   "execution_count": 8,
   "id": "c3030229",
   "metadata": {},
   "outputs": [
    {
     "data": {
      "text/plain": [
       "Unnamed: 0               0\n",
       "listing_id               0\n",
       "name                     5\n",
       "host_id                  0\n",
       "host_name                2\n",
       "neighbourhood_full       0\n",
       "coordinates              0\n",
       "room_type                0\n",
       "price                  238\n",
       "number_of_reviews        0\n",
       "last_review           2075\n",
       "reviews_per_month     2075\n",
       "availability_365         0\n",
       "rating                2075\n",
       "number_of_stays       2075\n",
       "5_stars               2075\n",
       "listing_added            0\n",
       "dtype: int64"
      ]
     },
     "execution_count": 8,
     "metadata": {},
     "output_type": "execute_result"
    }
   ],
   "source": [
    "airbnb_ds.isnull().sum()"
   ]
  },
  {
   "cell_type": "markdown",
   "id": "89215880",
   "metadata": {},
   "source": [
    "we see that we have missing data in `price`, `last_review`,`reviews_per_month`,`rating`,`number_of_stays` and `5_stars`\n",
    "<br/>\n",
    "we gonna replace the missing values with the *mean* of each column"
   ]
  },
  {
   "cell_type": "code",
   "execution_count": 22,
   "id": "e2ecbac9",
   "metadata": {},
   "outputs": [],
   "source": [
    "columns = ['price', 'reviews_per_month', 'rating', 'number_of_stays', '5_stars']\n",
    "for col in columns :\n",
    "    airbnb_ds[col].fillna(airbnb_ds[col].mean(), inplace=True)"
   ]
  },
  {
   "cell_type": "code",
   "execution_count": 33,
   "id": "41a6b976",
   "metadata": {
    "scrolled": true
   },
   "outputs": [
    {
     "data": {
      "text/plain": [
       "Unnamed: 0               0\n",
       "listing_id               0\n",
       "name                     5\n",
       "host_id                  0\n",
       "host_name                2\n",
       "neighbourhood_full       0\n",
       "coordinates              0\n",
       "room_type                0\n",
       "price                    0\n",
       "number_of_reviews        0\n",
       "last_review           2075\n",
       "reviews_per_month        0\n",
       "availability_365         0\n",
       "rating                   0\n",
       "number_of_stays          0\n",
       "5_stars                  0\n",
       "listing_added            0\n",
       "dtype: int64"
      ]
     },
     "execution_count": 33,
     "metadata": {},
     "output_type": "execute_result"
    }
   ],
   "source": [
    "airbnb_ds.isnull().sum()"
   ]
  },
  {
   "cell_type": "markdown",
   "id": "e25e6d82",
   "metadata": {},
   "source": [
    "for the rest of the columns we gonna drop every column that has missing values"
   ]
  },
  {
   "cell_type": "code",
   "execution_count": 52,
   "id": "c54c2d46",
   "metadata": {},
   "outputs": [],
   "source": [
    "# dropping rows with any missing values from  the \"last_review\", \"name\" and \"host_name\"columns\n",
    "airbnb_ds.dropna(axis=0,\n",
    "                 subset=['name', 'host_name', 'last_review'],\n",
    "                 inplace=True)"
   ]
  },
  {
   "cell_type": "code",
   "execution_count": 53,
   "id": "7f7e1b66",
   "metadata": {
    "scrolled": false
   },
   "outputs": [
    {
     "data": {
      "text/plain": [
       "Unnamed: 0            0\n",
       "listing_id            0\n",
       "name                  0\n",
       "host_id               0\n",
       "host_name             0\n",
       "neighbourhood_full    0\n",
       "coordinates           0\n",
       "room_type             0\n",
       "price                 0\n",
       "number_of_reviews     0\n",
       "last_review           0\n",
       "reviews_per_month     0\n",
       "availability_365      0\n",
       "rating                0\n",
       "number_of_stays       0\n",
       "5_stars               0\n",
       "listing_added         0\n",
       "dtype: int64"
      ]
     },
     "execution_count": 53,
     "metadata": {},
     "output_type": "execute_result"
    }
   ],
   "source": [
    "airbnb_ds.isnull().sum()"
   ]
  },
  {
   "cell_type": "markdown",
   "id": "3f5bbe4f",
   "metadata": {},
   "source": [
    "aand we're done with missing data."
   ]
  },
  {
   "cell_type": "markdown",
   "id": "2a463a42",
   "metadata": {},
   "source": [
    "#### horaay ! we have finished cleaning our data"
   ]
  },
  {
   "cell_type": "markdown",
   "id": "cbfe1adf",
   "metadata": {},
   "source": [
    "## Let's see relationships (correlation) between columns !"
   ]
  },
  {
   "cell_type": "code",
   "execution_count": 21,
   "id": "f5530a2a",
   "metadata": {},
   "outputs": [
    {
     "data": {
      "text/html": [
       "<div>\n",
       "<style scoped>\n",
       "    .dataframe tbody tr th:only-of-type {\n",
       "        vertical-align: middle;\n",
       "    }\n",
       "\n",
       "    .dataframe tbody tr th {\n",
       "        vertical-align: top;\n",
       "    }\n",
       "\n",
       "    .dataframe thead th {\n",
       "        text-align: right;\n",
       "    }\n",
       "</style>\n",
       "<table border=\"1\" class=\"dataframe\">\n",
       "  <thead>\n",
       "    <tr style=\"text-align: right;\">\n",
       "      <th></th>\n",
       "      <th>room_type</th>\n",
       "      <th>price</th>\n",
       "    </tr>\n",
       "  </thead>\n",
       "  <tbody>\n",
       "    <tr>\n",
       "      <th>0</th>\n",
       "      <td>Entire place</td>\n",
       "      <td>209.717263</td>\n",
       "    </tr>\n",
       "    <tr>\n",
       "      <th>1</th>\n",
       "      <td>Private Room</td>\n",
       "      <td>88.016309</td>\n",
       "    </tr>\n",
       "    <tr>\n",
       "      <th>2</th>\n",
       "      <td>Shared room</td>\n",
       "      <td>70.410959</td>\n",
       "    </tr>\n",
       "  </tbody>\n",
       "</table>\n",
       "</div>"
      ],
      "text/plain": [
       "      room_type       price\n",
       "0  Entire place  209.717263\n",
       "1  Private Room   88.016309\n",
       "2   Shared room   70.410959"
      ]
     },
     "execution_count": 21,
     "metadata": {},
     "output_type": "execute_result"
    }
   ],
   "source": [
    "# correlation between room type and price\n",
    "df_2_col = airbnb_ds[['room_type', 'price']]\n",
    "df_2_col.groupby(['room_type'], as_index=False).mean()"
   ]
  },
  {
   "cell_type": "markdown",
   "id": "8f264bfa",
   "metadata": {},
   "source": [
    "we notice that entire places are the most expensive and the shared rooms are the cheapest"
   ]
  },
  {
   "cell_type": "code",
   "execution_count": 58,
   "id": "ba7458a7",
   "metadata": {},
   "outputs": [
    {
     "data": {
      "text/html": [
       "<div>\n",
       "<style scoped>\n",
       "    .dataframe tbody tr th:only-of-type {\n",
       "        vertical-align: middle;\n",
       "    }\n",
       "\n",
       "    .dataframe tbody tr th {\n",
       "        vertical-align: top;\n",
       "    }\n",
       "\n",
       "    .dataframe thead th {\n",
       "        text-align: right;\n",
       "    }\n",
       "</style>\n",
       "<table border=\"1\" class=\"dataframe\">\n",
       "  <thead>\n",
       "    <tr style=\"text-align: right;\">\n",
       "      <th></th>\n",
       "      <th>room_type</th>\n",
       "      <th>number_of_stays</th>\n",
       "    </tr>\n",
       "  </thead>\n",
       "  <tbody>\n",
       "    <tr>\n",
       "      <th>0</th>\n",
       "      <td>Entire place</td>\n",
       "      <td>33.868747</td>\n",
       "    </tr>\n",
       "    <tr>\n",
       "      <th>1</th>\n",
       "      <td>Private Room</td>\n",
       "      <td>34.577162</td>\n",
       "    </tr>\n",
       "    <tr>\n",
       "      <th>2</th>\n",
       "      <td>Shared room</td>\n",
       "      <td>24.571765</td>\n",
       "    </tr>\n",
       "  </tbody>\n",
       "</table>\n",
       "</div>"
      ],
      "text/plain": [
       "      room_type  number_of_stays\n",
       "0  Entire place        33.868747\n",
       "1  Private Room        34.577162\n",
       "2   Shared room        24.571765"
      ]
     },
     "execution_count": 58,
     "metadata": {},
     "output_type": "execute_result"
    }
   ],
   "source": [
    "# correlation between room type and number of stays\n",
    "df_2_col = airbnb_ds[['room_type', 'number_of_stays']]\n",
    "df_2_col.groupby(['room_type'], as_index=False).mean()"
   ]
  },
  {
   "cell_type": "markdown",
   "id": "f782845a",
   "metadata": {},
   "source": [
    "we notice that people prefer private rooms in contraste with shared ones"
   ]
  },
  {
   "cell_type": "markdown",
   "id": "134d9092",
   "metadata": {},
   "source": [
    "## time to visualize stuff !"
   ]
  },
  {
   "cell_type": "code",
   "execution_count": 5,
   "id": "85043e6c",
   "metadata": {},
   "outputs": [],
   "source": [
    "# importing matplotlib\n",
    "import matplotlib.pyplot as plt"
   ]
  },
  {
   "cell_type": "code",
   "execution_count": 56,
   "id": "708d27c8",
   "metadata": {},
   "outputs": [],
   "source": [
    "# defining func that plots histogram of a variable\n",
    "def histogram(var_name):\n",
    "    plt.figure(figsize=(10,5))\n",
    "    plt.hist(airbnb_ds[var_name], bins=50, edgecolor='white')\n",
    "    plt.xlabel(var_name)\n",
    "    plt.ylabel('frequence')\n",
    "    plt.title('histogram of '+var_name)\n",
    "    plt.show"
   ]
  },
  {
   "cell_type": "code",
   "execution_count": 59,
   "id": "71821e3e",
   "metadata": {
    "scrolled": true
   },
   "outputs": [
    {
     "data": {
      "image/png": "[encoded data removed]",
      "text/plain": [
       "<Figure size 720x360 with 1 Axes>"
      ]
     },
     "metadata": {
      "needs_background": "light"
     },
     "output_type": "display_data"
    }
   ],
   "source": [
    "histogram('rating')"
   ]
  },
  {
   "cell_type": "markdown",
   "id": "bb096b82",
   "metadata": {},
   "source": [
    "we see that all places have a rating wetween 3 and 5 distributed evenly."
   ]
  },
  {
   "cell_type": "code",
   "execution_count": 57,
   "id": "08003f7f",
   "metadata": {
    "scrolled": true
   },
   "outputs": [
    {
     "data": {
      "image/png": "[encoded data removed]",
      "text/plain": [
       "<Figure size 720x360 with 1 Axes>"
      ]
     },
     "metadata": {
      "needs_background": "light"
     },
     "output_type": "display_data"
    }
   ],
   "source": [
    "histogram('room_type')"
   ]
  },
  {
   "cell_type": "markdown",
   "id": "e9747a1e",
   "metadata": {},
   "source": [
    "we notice that most of the airbnbs are either private rooms or entire homes"
   ]
  }
 ],
 "metadata": {
  "kernelspec": {
   "display_name": "Python 3 (ipykernel)",
   "language": "python",
   "name": "python3"
  },
  "language_info": {
   "codemirror_mode": {
    "name": "ipython",
    "version": 3
   },
   "file_extension": ".py",
   "mimetype": "text/x-python",
   "name": "python",
   "nbconvert_exporter": "python",
   "pygments_lexer": "ipython3",
   "version": "3.9.7"
  }
 },
 "nbformat": 4,
 "nbformat_minor": 5
}
